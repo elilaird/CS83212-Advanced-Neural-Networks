{
 "cells": [
  {
   "cell_type": "markdown",
   "id": "tight-evidence",
   "metadata": {},
   "source": [
    "We use this notebook to compute mcnemar p-values.  It is a little messy, but we basically just used the pandas df to see how many values were greater than the .05 threshold for each type of comparison."
   ]
  },
  {
   "cell_type": "code",
   "execution_count": 1,
   "id": "quarterly-music",
   "metadata": {},
   "outputs": [],
   "source": [
    "import glob\n",
    "import tensorflow as tf\n",
    "from tensorflow.keras.models import load_model\n",
    "import tensorflow_datasets as tfds\n",
    "from statsmodels.stats.contingency_tables import mcnemar\n",
    "import numpy as np\n",
    "import pandas as pd"
   ]
  },
  {
   "cell_type": "code",
   "execution_count": 2,
   "id": "sitting-niagara",
   "metadata": {},
   "outputs": [
    {
     "data": {
      "text/plain": [
       "['./models/from_start_baseline/model_3/from_start_normal_model_3.h5',\n",
       " './models/from_start_baseline/model_2/from_start_normal_model_2.h5',\n",
       " './models/from_start_baseline/model_1/from_start_normal_model.h5',\n",
       " './models/from_start_5e-1/model_3/from_start_5e-1_model_3.h5',\n",
       " './models/from_start_5e-1/model_2/from_start_5e-1_model_2.h5',\n",
       " './models/from_start_5e-1/model_1/from_start_5e-1_model.h5',\n",
       " './models/from_start_reversed/model_3/from_start_reversed_model_3.h5',\n",
       " './models/from_start_reversed/model_2/from_start_reversed_model_2.h5',\n",
       " './models/from_start_reversed/model_1/from_start_reversed_model.h5',\n",
       " './models/from_start_1e-2/model_3/from_start_model_3.h5',\n",
       " './models/from_start_1e-2/model_2/from_start_model_2.h5',\n",
       " './models/from_start_1e-2/model_1/from_start_model.h5']"
      ]
     },
     "execution_count": 2,
     "metadata": {},
     "output_type": "execute_result"
    }
   ],
   "source": [
    "model_paths = glob.glob('./models/**/*.h5', recursive=True)\n",
    "model_paths.remove('./models/pretrained_traditional/cifar10_1e_neg_4.h5')\n",
    "model_paths"
   ]
  },
  {
   "cell_type": "code",
   "execution_count": 3,
   "id": "heavy-premises",
   "metadata": {},
   "outputs": [
    {
     "name": "stdout",
     "output_type": "stream",
     "text": [
      "n_observations: 10000, steps: 313\n",
      "[7 0 6 ... 8 6 0]\n"
     ]
    }
   ],
   "source": [
    "# Load in data\n",
    "dset, info = tfds.load('cifar10', split='test', with_info=True, as_supervised=True)\n",
    "batch_size = 32\n",
    "n_observations = sum(1 for _ in dset)\n",
    "labels = np.array([y for _, y in dset])\n",
    "dset = dset.batch(32)\n",
    "steps = n_observations//batch_size + int(n_observations%batch_size > 0)\n",
    "print(f'n_observations: {n_observations}, steps: {steps}')\n",
    "print(labels)"
   ]
  },
  {
   "cell_type": "markdown",
   "id": "green-knitting",
   "metadata": {},
   "source": [
    "# Get Predictions"
   ]
  },
  {
   "cell_type": "code",
   "execution_count": 4,
   "id": "convenient-guarantee",
   "metadata": {},
   "outputs": [
    {
     "name": "stdout",
     "output_type": "stream",
     "text": [
      "CPU times: user 3min 45s, sys: 13.1 s, total: 3min 58s\n",
      "Wall time: 29.9 s\n"
     ]
    }
   ],
   "source": [
    "%%time\n",
    "model_predictions = {}\n",
    "for path in model_paths:\n",
    "    model = load_model(path, compile=False)\n",
    "    preds = model.predict(dset)\n",
    "    int_preds = np.argmax(preds, axis=1)\n",
    "    model_predictions[path] = int_preds"
   ]
  },
  {
   "cell_type": "markdown",
   "id": "automated-clarity",
   "metadata": {},
   "source": [
    "# Run Pairwise McNemar"
   ]
  },
  {
   "cell_type": "code",
   "execution_count": 5,
   "id": "divided-jungle",
   "metadata": {},
   "outputs": [],
   "source": [
    "def make_contingency_table(classifer_1_correct, classifer_2_correct):\n",
    "    # Rowwise, first refers to classifier_1, second refers to classifier_2\n",
    "    y_y = 0\n",
    "    y_n = 0\n",
    "    n_y = 0 \n",
    "    n_n = 0\n",
    "    \n",
    "    for c1, c2 in zip(classifer_1_correct, classifer_2_correct):\n",
    "        if c1 == 1 and c2 == 1:\n",
    "            y_y += 1\n",
    "        if c1 == 1 and c2 == 0:\n",
    "            y_n += 1\n",
    "        if c1 == 0 and c2 == 1:\n",
    "            n_y += 1\n",
    "        if c1 == 0 and c2 == 0:\n",
    "            n_n += 1\n",
    "    \n",
    "    return np.array([[y_y, y_n], [n_y, n_n]])"
   ]
  },
  {
   "cell_type": "code",
   "execution_count": 8,
   "id": "economic-scenario",
   "metadata": {},
   "outputs": [],
   "source": [
    "computed_p_values = []\n",
    "done = []\n",
    "\n",
    "for first_path in model_paths:\n",
    "    for second_path in model_paths:\n",
    "        if first_path == second_path:\n",
    "            continue\n",
    "            \n",
    "        if (first_path, second_path) in done:\n",
    "            continue\n",
    "            \n",
    "        if (second_path, first_path) in done:\n",
    "            continue\n",
    "        \n",
    "        # Get the model predictions for both \n",
    "        first_preds = model_predictions[first_path]\n",
    "        second_preds = model_predictions[second_path]\n",
    "        \n",
    "        # Get the correct/incorrect labels\n",
    "        first_is_correct = (labels == first_preds).astype(int)\n",
    "        second_is_correct = (labels == second_preds).astype(int)\n",
    "        \n",
    "        # Get the contingency table \n",
    "        tb = make_contingency_table(first_is_correct, second_is_correct)\n",
    "        \n",
    "        # Get the mcnemar stats\n",
    "        p_value = mcnemar(tb).pvalue\n",
    "        \n",
    "        # Get the model names\n",
    "        f_model = first_path.split('/')[2]\n",
    "        s_model = second_path.split('/')[2]\n",
    "        \n",
    "        computed_p_values.append([f_model, s_model, first_path, second_path, p_value])\n",
    "        \n",
    "        done.append((first_path, second_path))\n",
    "        done.append((second_path, first_path))"
   ]
  },
  {
   "cell_type": "code",
   "execution_count": 9,
   "id": "extraordinary-cowboy",
   "metadata": {},
   "outputs": [
    {
     "data": {
      "text/html": [
       "<div>\n",
       "<style scoped>\n",
       "    .dataframe tbody tr th:only-of-type {\n",
       "        vertical-align: middle;\n",
       "    }\n",
       "\n",
       "    .dataframe tbody tr th {\n",
       "        vertical-align: top;\n",
       "    }\n",
       "\n",
       "    .dataframe thead th {\n",
       "        text-align: right;\n",
       "    }\n",
       "</style>\n",
       "<table border=\"1\" class=\"dataframe\">\n",
       "  <thead>\n",
       "    <tr style=\"text-align: right;\">\n",
       "      <th></th>\n",
       "      <th>First</th>\n",
       "      <th>Second</th>\n",
       "      <th>f_path</th>\n",
       "      <th>s_path</th>\n",
       "      <th>p-value</th>\n",
       "    </tr>\n",
       "  </thead>\n",
       "  <tbody>\n",
       "    <tr>\n",
       "      <th>0</th>\n",
       "      <td>from_start_baseline</td>\n",
       "      <td>from_start_baseline</td>\n",
       "      <td>./models/from_start_baseline/model_3/from_star...</td>\n",
       "      <td>./models/from_start_baseline/model_2/from_star...</td>\n",
       "      <td>2.865375e-01</td>\n",
       "    </tr>\n",
       "    <tr>\n",
       "      <th>1</th>\n",
       "      <td>from_start_baseline</td>\n",
       "      <td>from_start_baseline</td>\n",
       "      <td>./models/from_start_baseline/model_3/from_star...</td>\n",
       "      <td>./models/from_start_baseline/model_1/from_star...</td>\n",
       "      <td>9.506769e-01</td>\n",
       "    </tr>\n",
       "    <tr>\n",
       "      <th>2</th>\n",
       "      <td>from_start_baseline</td>\n",
       "      <td>from_start_5e-1</td>\n",
       "      <td>./models/from_start_baseline/model_3/from_star...</td>\n",
       "      <td>./models/from_start_5e-1/model_3/from_start_5e...</td>\n",
       "      <td>6.107711e-23</td>\n",
       "    </tr>\n",
       "    <tr>\n",
       "      <th>3</th>\n",
       "      <td>from_start_baseline</td>\n",
       "      <td>from_start_5e-1</td>\n",
       "      <td>./models/from_start_baseline/model_3/from_star...</td>\n",
       "      <td>./models/from_start_5e-1/model_2/from_start_5e...</td>\n",
       "      <td>2.462936e-07</td>\n",
       "    </tr>\n",
       "    <tr>\n",
       "      <th>4</th>\n",
       "      <td>from_start_baseline</td>\n",
       "      <td>from_start_5e-1</td>\n",
       "      <td>./models/from_start_baseline/model_3/from_star...</td>\n",
       "      <td>./models/from_start_5e-1/model_1/from_start_5e...</td>\n",
       "      <td>3.430616e-10</td>\n",
       "    </tr>\n",
       "    <tr>\n",
       "      <th>...</th>\n",
       "      <td>...</td>\n",
       "      <td>...</td>\n",
       "      <td>...</td>\n",
       "      <td>...</td>\n",
       "      <td>...</td>\n",
       "    </tr>\n",
       "    <tr>\n",
       "      <th>61</th>\n",
       "      <td>from_start_reversed</td>\n",
       "      <td>from_start_1e-2</td>\n",
       "      <td>./models/from_start_reversed/model_1/from_star...</td>\n",
       "      <td>./models/from_start_1e-2/model_2/from_start_mo...</td>\n",
       "      <td>1.533904e-02</td>\n",
       "    </tr>\n",
       "    <tr>\n",
       "      <th>62</th>\n",
       "      <td>from_start_reversed</td>\n",
       "      <td>from_start_1e-2</td>\n",
       "      <td>./models/from_start_reversed/model_1/from_star...</td>\n",
       "      <td>./models/from_start_1e-2/model_1/from_start_mo...</td>\n",
       "      <td>1.067672e-02</td>\n",
       "    </tr>\n",
       "    <tr>\n",
       "      <th>63</th>\n",
       "      <td>from_start_1e-2</td>\n",
       "      <td>from_start_1e-2</td>\n",
       "      <td>./models/from_start_1e-2/model_3/from_start_mo...</td>\n",
       "      <td>./models/from_start_1e-2/model_2/from_start_mo...</td>\n",
       "      <td>6.957254e-01</td>\n",
       "    </tr>\n",
       "    <tr>\n",
       "      <th>64</th>\n",
       "      <td>from_start_1e-2</td>\n",
       "      <td>from_start_1e-2</td>\n",
       "      <td>./models/from_start_1e-2/model_3/from_start_mo...</td>\n",
       "      <td>./models/from_start_1e-2/model_1/from_start_mo...</td>\n",
       "      <td>7.738170e-01</td>\n",
       "    </tr>\n",
       "    <tr>\n",
       "      <th>65</th>\n",
       "      <td>from_start_1e-2</td>\n",
       "      <td>from_start_1e-2</td>\n",
       "      <td>./models/from_start_1e-2/model_2/from_start_mo...</td>\n",
       "      <td>./models/from_start_1e-2/model_1/from_start_mo...</td>\n",
       "      <td>9.341706e-01</td>\n",
       "    </tr>\n",
       "  </tbody>\n",
       "</table>\n",
       "<p>66 rows × 5 columns</p>\n",
       "</div>"
      ],
      "text/plain": [
       "                  First               Second  \\\n",
       "0   from_start_baseline  from_start_baseline   \n",
       "1   from_start_baseline  from_start_baseline   \n",
       "2   from_start_baseline      from_start_5e-1   \n",
       "3   from_start_baseline      from_start_5e-1   \n",
       "4   from_start_baseline      from_start_5e-1   \n",
       "..                  ...                  ...   \n",
       "61  from_start_reversed      from_start_1e-2   \n",
       "62  from_start_reversed      from_start_1e-2   \n",
       "63      from_start_1e-2      from_start_1e-2   \n",
       "64      from_start_1e-2      from_start_1e-2   \n",
       "65      from_start_1e-2      from_start_1e-2   \n",
       "\n",
       "                                               f_path  \\\n",
       "0   ./models/from_start_baseline/model_3/from_star...   \n",
       "1   ./models/from_start_baseline/model_3/from_star...   \n",
       "2   ./models/from_start_baseline/model_3/from_star...   \n",
       "3   ./models/from_start_baseline/model_3/from_star...   \n",
       "4   ./models/from_start_baseline/model_3/from_star...   \n",
       "..                                                ...   \n",
       "61  ./models/from_start_reversed/model_1/from_star...   \n",
       "62  ./models/from_start_reversed/model_1/from_star...   \n",
       "63  ./models/from_start_1e-2/model_3/from_start_mo...   \n",
       "64  ./models/from_start_1e-2/model_3/from_start_mo...   \n",
       "65  ./models/from_start_1e-2/model_2/from_start_mo...   \n",
       "\n",
       "                                               s_path       p-value  \n",
       "0   ./models/from_start_baseline/model_2/from_star...  2.865375e-01  \n",
       "1   ./models/from_start_baseline/model_1/from_star...  9.506769e-01  \n",
       "2   ./models/from_start_5e-1/model_3/from_start_5e...  6.107711e-23  \n",
       "3   ./models/from_start_5e-1/model_2/from_start_5e...  2.462936e-07  \n",
       "4   ./models/from_start_5e-1/model_1/from_start_5e...  3.430616e-10  \n",
       "..                                                ...           ...  \n",
       "61  ./models/from_start_1e-2/model_2/from_start_mo...  1.533904e-02  \n",
       "62  ./models/from_start_1e-2/model_1/from_start_mo...  1.067672e-02  \n",
       "63  ./models/from_start_1e-2/model_2/from_start_mo...  6.957254e-01  \n",
       "64  ./models/from_start_1e-2/model_1/from_start_mo...  7.738170e-01  \n",
       "65  ./models/from_start_1e-2/model_1/from_start_mo...  9.341706e-01  \n",
       "\n",
       "[66 rows x 5 columns]"
      ]
     },
     "execution_count": 9,
     "metadata": {},
     "output_type": "execute_result"
    }
   ],
   "source": [
    "np_computed_p_values = np.vstack(computed_p_values)\n",
    "df = pd.DataFrame(np_computed_p_values, columns=['First', 'Second', 'f_path', 's_path', 'p-value'])\n",
    "df['p-value'] = pd.to_numeric(df['p-value'], downcast='float')\n",
    "df"
   ]
  },
  {
   "cell_type": "code",
   "execution_count": 10,
   "id": "vanilla-pacific",
   "metadata": {},
   "outputs": [],
   "source": [
    "def get_comparison_row(df, row_title):\n",
    "    base = df[(df['First'] == row_title) & (df['Second'] == 'from_start_baseline')]\n",
    "    neg2 = df[(df['First'] == row_title) & (df['Second'] == 'from_start_1e-2')]\n",
    "    neg5 = df[(df['First'] == row_title) & (df['Second'] == 'from_start_5e-1')]\n",
    "    rev = df[(df['First'] == row_title) & (df['Second'] == 'from_start_reversed')]\n",
    "    \n",
    "    base_str = str(len(base[base['p-value'] < .05])) + '/' + str(len(base))\n",
    "    neg2_str = str(len(neg2[neg2['p-value'] < .05])) + '/' + str(len(neg2))\n",
    "    neg5_str = str(len(neg5[neg5['p-value'] < .05])) + '/' + str(len(neg5))\n",
    "    rev_str = str(len(rev[rev['p-value'] < .05])) + '/' + str(len(rev))\n",
    "    return base_str + ' | ' + neg2_str + ' | ' + neg5_str + ' | ' + rev_str\n",
    "\n",
    "\n",
    "    "
   ]
  },
  {
   "cell_type": "code",
   "execution_count": 11,
   "id": "blessed-placement",
   "metadata": {},
   "outputs": [
    {
     "data": {
      "text/plain": [
       "'0/3 | 0/9 | 9/9 | 7/9'"
      ]
     },
     "execution_count": 11,
     "metadata": {},
     "output_type": "execute_result"
    }
   ],
   "source": [
    "row_title = 'from_start_baseline'\n",
    "get_comparison_row(df, row_title)"
   ]
  },
  {
   "cell_type": "code",
   "execution_count": 12,
   "id": "still-usage",
   "metadata": {},
   "outputs": [
    {
     "data": {
      "text/plain": [
       "'0/0 | 0/3 | 0/0 | 0/0'"
      ]
     },
     "execution_count": 12,
     "metadata": {},
     "output_type": "execute_result"
    }
   ],
   "source": [
    "row_title = 'from_start_1e-2'\n",
    "get_comparison_row(df, row_title)"
   ]
  },
  {
   "cell_type": "code",
   "execution_count": 13,
   "id": "biological-breach",
   "metadata": {},
   "outputs": [
    {
     "data": {
      "text/plain": [
       "'0/0 | 9/9 | 2/3 | 7/9'"
      ]
     },
     "execution_count": 13,
     "metadata": {},
     "output_type": "execute_result"
    }
   ],
   "source": [
    "row_title = 'from_start_5e-1'\n",
    "get_comparison_row(df, row_title)"
   ]
  },
  {
   "cell_type": "code",
   "execution_count": 14,
   "id": "photographic-congo",
   "metadata": {},
   "outputs": [
    {
     "data": {
      "text/plain": [
       "'0/0 | 7/9 | 0/0 | 1/3'"
      ]
     },
     "execution_count": 14,
     "metadata": {},
     "output_type": "execute_result"
    }
   ],
   "source": [
    "row_title = 'from_start_reversed'\n",
    "get_comparison_row(df, row_title)"
   ]
  },
  {
   "cell_type": "code",
   "execution_count": 15,
   "id": "binding-impact",
   "metadata": {},
   "outputs": [
    {
     "data": {
      "text/html": [
       "<div>\n",
       "<style scoped>\n",
       "    .dataframe tbody tr th:only-of-type {\n",
       "        vertical-align: middle;\n",
       "    }\n",
       "\n",
       "    .dataframe tbody tr th {\n",
       "        vertical-align: top;\n",
       "    }\n",
       "\n",
       "    .dataframe thead th {\n",
       "        text-align: right;\n",
       "    }\n",
       "</style>\n",
       "<table border=\"1\" class=\"dataframe\">\n",
       "  <thead>\n",
       "    <tr style=\"text-align: right;\">\n",
       "      <th></th>\n",
       "      <th>First</th>\n",
       "      <th>Second</th>\n",
       "      <th>f_path</th>\n",
       "      <th>s_path</th>\n",
       "      <th>p-value</th>\n",
       "    </tr>\n",
       "  </thead>\n",
       "  <tbody>\n",
       "    <tr>\n",
       "      <th>51</th>\n",
       "      <td>from_start_reversed</td>\n",
       "      <td>from_start_reversed</td>\n",
       "      <td>./models/from_start_reversed/model_3/from_star...</td>\n",
       "      <td>./models/from_start_reversed/model_2/from_star...</td>\n",
       "      <td>0.014889</td>\n",
       "    </tr>\n",
       "    <tr>\n",
       "      <th>52</th>\n",
       "      <td>from_start_reversed</td>\n",
       "      <td>from_start_reversed</td>\n",
       "      <td>./models/from_start_reversed/model_3/from_star...</td>\n",
       "      <td>./models/from_start_reversed/model_1/from_star...</td>\n",
       "      <td>0.449533</td>\n",
       "    </tr>\n",
       "    <tr>\n",
       "      <th>56</th>\n",
       "      <td>from_start_reversed</td>\n",
       "      <td>from_start_reversed</td>\n",
       "      <td>./models/from_start_reversed/model_2/from_star...</td>\n",
       "      <td>./models/from_start_reversed/model_1/from_star...</td>\n",
       "      <td>0.094086</td>\n",
       "    </tr>\n",
       "  </tbody>\n",
       "</table>\n",
       "</div>"
      ],
      "text/plain": [
       "                  First               Second  \\\n",
       "51  from_start_reversed  from_start_reversed   \n",
       "52  from_start_reversed  from_start_reversed   \n",
       "56  from_start_reversed  from_start_reversed   \n",
       "\n",
       "                                               f_path  \\\n",
       "51  ./models/from_start_reversed/model_3/from_star...   \n",
       "52  ./models/from_start_reversed/model_3/from_star...   \n",
       "56  ./models/from_start_reversed/model_2/from_star...   \n",
       "\n",
       "                                               s_path   p-value  \n",
       "51  ./models/from_start_reversed/model_2/from_star...  0.014889  \n",
       "52  ./models/from_start_reversed/model_1/from_star...  0.449533  \n",
       "56  ./models/from_start_reversed/model_1/from_star...  0.094086  "
      ]
     },
     "execution_count": 15,
     "metadata": {},
     "output_type": "execute_result"
    }
   ],
   "source": [
    "df[(df['First'] == 'from_start_reversed') & (df['Second'] == 'from_start_reversed')]"
   ]
  },
  {
   "cell_type": "code",
   "execution_count": null,
   "id": "driven-arrival",
   "metadata": {},
   "outputs": [],
   "source": []
  }
 ],
 "metadata": {
  "kernelspec": {
   "display_name": "Python 3",
   "language": "python",
   "name": "python3"
  },
  "language_info": {
   "codemirror_mode": {
    "name": "ipython",
    "version": 3
   },
   "file_extension": ".py",
   "mimetype": "text/x-python",
   "name": "python",
   "nbconvert_exporter": "python",
   "pygments_lexer": "ipython3",
   "version": "3.6.13"
  }
 },
 "nbformat": 4,
 "nbformat_minor": 5
}
