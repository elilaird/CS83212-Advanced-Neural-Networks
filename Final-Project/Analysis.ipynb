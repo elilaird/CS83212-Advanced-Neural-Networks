{
 "cells": [
  {
   "cell_type": "code",
   "execution_count": 4,
   "metadata": {},
   "outputs": [
    {
     "name": "stdout",
     "output_type": "stream",
     "text": [
      "TF Version:  2.4.1\n"
     ]
    }
   ],
   "source": [
    "import pickle\n",
    "import seaborn as sns\n",
    "import pandas as pd\n",
    "import matplotlib.pyplot as plt\n",
    "import numpy as np\n",
    "import tensorflow as tf\n",
    "import os\n",
    "\n",
    "# load histories \n",
    "def load_history(path):\n",
    "    with open(path, 'rb') as file:\n",
    "        data = pickle.load(file)\n",
    "    return data\n",
    "\n",
    "print(\"TF Version: \", tf.__version__)"
   ]
  },
  {
   "cell_type": "code",
   "execution_count": 11,
   "metadata": {},
   "outputs": [],
   "source": [
    "#directories\n",
    "baseline_dir = './trained_models_histories/from_start_baseline'\n",
    "penalty_001_dir = './trained_models_histories/from_start_1e-2'\n",
    "penalty_05_dir = './trained_models_histories/from_start_5e-1'\n",
    "\n",
    "results_dir = './results'"
   ]
  },
  {
   "cell_type": "code",
   "execution_count": 8,
   "metadata": {},
   "outputs": [],
   "source": [
    "#validation losses\n",
    "\n",
    "#baseline\n",
    "val_history_baseline_1 = load_history('./trained_models_histories/from_start_baseline/model_1/from_start_normal_class_val_history.pkl')\n",
    "val_history_baseline_2 = load_history('./trained_models_histories/from_start_baseline/model_2/from_start_normal_class_val_history_2.pkl')\n",
    "val_history_baseline_3 = load_history('./trained_models_histories/from_start_baseline/model_3/from_start_normal_class_val_history_3.pkl')\n",
    "\n",
    "#1e-2 penalty\n",
    "val_history_001_1 = load_history('./trained_models_histories/from_start_1e-2/model_1/from_start_class_val_history.pkl')\n",
    "val_history_001_2 = load_history('./trained_models_histories/from_start_1e-2/model_2/from_start_class_val_history_2.pkl')\n",
    "val_history_001_3 = load_history('./trained_models_histories/from_start_1e-2/model_3/from_start_class_val_history_3.pkl')\n",
    "\n",
    "# 0.5 penalty\n",
    "val_history_0_5_1 = load_history('./trained_models_histories/from_start_5e-1/model_1/from_start_5e-1_class_val_history.pkl')\n",
    "val_history_0_5_2 = load_history('./trained_models_histories/from_start_5e-1/model_2/from_start_5e-1_class_val_history_2.pkl')\n",
    "val_history_0_5_3 = load_history('./trained_models_histories/from_start_5e-1/model_3/from_start_5e-1_class_val_history_3.pkl')\n",
    "\n",
    "\n",
    "#1e-2 reversed\n",
    "\n",
    "val_history_reversed_1 = load_history('./trained_models_histories/from_start_1e-2_reversed/model_1/from_start_reversed_class_val_history.pkl')\n",
    "val_history_reversed_2 = load_history('./trained_models_histories/from_start_1e-2_reversed/model_2/from_start_reversed_class_val_history_2.pkl')\n",
    "val_history_reversed_3 = load_history('./trained_models_histories/from_start_1e-2_reversed/model_3/from_start_reversed_class_val_history_3.pkl')\n"
   ]
  },
  {
   "cell_type": "code",
   "execution_count": 30,
   "metadata": {},
   "outputs": [],
   "source": [
    "#train losses\n",
    "\n",
    "#baseline\n",
    "train_history_baseline_1 = load_history('./trained_models_histories/from_start_baseline/model_1/from_start_normal_train_history.pkl')\n",
    "train_history_baseline_2 = load_history('./trained_models_histories/from_start_baseline/model_2/from_start_normal_train_history_2.pkl')\n",
    "train_history_baseline_3 = load_history('./trained_models_histories/from_start_baseline/model_3/from_start_normal_train_history_3.pkl')\n",
    "\n",
    "#1e-2 penalty\n",
    "train_history_001_1 = load_history('./trained_models_histories/from_start_1e-2/model_1/from_start_train_history.pkl')\n",
    "train_history_001_2 = load_history('./trained_models_histories/from_start_1e-2/model_2/from_start_train_history_2.pkl')\n",
    "train_history_001_3 = load_history('./trained_models_histories/from_start_1e-2/model_3/from_start_train_history_3.pkl')\n",
    "\n",
    "# 0.5 penalty\n",
    "train_history_0_5_1 = load_history('./trained_models_histories/from_start_5e-1/model_1/from_start_5e-1_train_history.pkl')\n",
    "train_history_0_5_2 = load_history('./trained_models_histories/from_start_5e-1/model_2/from_start_5e-1_train_history_2.pkl')\n",
    "train_history_0_5_3 = load_history('./trained_models_histories/from_start_5e-1/model_3/from_start_5e-1_train_history_3.pkl')\n",
    "\n",
    "\n",
    "#1e-2 reversed\n",
    "\n",
    "train_history_001_r_1 = load_history('./trained_models_histories/from_start_1e-2_reversed/model_1/from_start_reversed_train_history.pkl')\n",
    "train_history_001_r_2 = load_history('./trained_models_histories/from_start_1e-2_reversed/model_2/from_start_reversed_train_history_2.pkl')\n",
    "train_history_001_r_3 = load_history('./trained_models_histories/from_start_1e-2_reversed/model_3/from_start_reversed_train_history_3.pkl')\n"
   ]
  },
  {
   "cell_type": "code",
   "execution_count": 36,
   "metadata": {
    "scrolled": false
   },
   "outputs": [
    {
     "data": {
      "image/png": "[encoded data removed]",
      "text/plain": [
       "<Figure size 432x288 with 1 Axes>"
      ]
     },
     "metadata": {
      "needs_background": "light"
     },
     "output_type": "display_data"
    },
    {
     "name": "stdout",
     "output_type": "stream",
     "text": [
      "[0.19532955741882324, 0.0707237456607345, 0.275629802942276, 0.28157458782196043, 0.16110662913508714, 0.2578381477594376, 0.13984909147024155, 0.16180160541832447, 0.09683626790065318, 0.1526340505667031]\n"
     ]
    }
   ],
   "source": [
    "classes = []\n",
    "final_accs = []\n",
    "for key, val, in val_history_baseline_3.class_histories.items():\n",
    "    classes.append(key)\n",
    "    final_accs.append(val.history['loss'][-1])\n",
    "    \n",
    "sns.barplot(x=classes, y=final_accs)\n",
    "plt.show()\n",
    "print(final_accs)"
   ]
  },
  {
   "cell_type": "code",
   "execution_count": 10,
   "metadata": {},
   "outputs": [],
   "source": [
    "from FocusTraining.utils import *\n",
    "\n",
    "#load class validation loss into dataframe\n",
    "baseline_loss_1 = get_by_class_metrics(val_history_baseline_1, metric='loss')\n",
    "baseline_loss_2 = get_by_class_metrics(val_history_baseline_2, metric='loss')\n",
    "baseline_loss_3 = get_by_class_metrics(val_history_baseline_3, metric='loss')\n",
    "\n",
    "\n",
    "penalty_001_loss_1 = get_by_class_metrics(val_history_001_1, metric='loss')\n",
    "penalty_001_loss_2 = get_by_class_metrics(val_history_001_2, metric='loss')\n",
    "penalty_001_loss_3 = get_by_class_metrics(val_history_001_3, metric='loss')\n",
    "\n",
    "penalty_05_loss_1 = get_by_class_metrics(val_history_0_5_1, metric='loss')\n",
    "penalty_05_loss_2 = get_by_class_metrics(val_history_0_5_2, metric='loss')\n",
    "penalty_05_loss_3 = get_by_class_metrics(val_history_0_5_3, metric='loss')\n",
    "\n",
    "penalty_001_r_loss_1 = get_by_class_metrics(val_history_reversed_1, metric='loss')\n",
    "penalty_001_r_loss_2 = get_by_class_metrics(val_history_reversed_2, metric='loss')\n",
    "penalty_001_r_loss_3 = get_by_class_metrics(val_history_reversed_3, metric='loss')\n",
    "\n",
    "#load class accuracy into dataframe\n",
    "baseline_acc_1 = get_by_class_metrics(val_history_baseline_1, metric='acc')\n",
    "baseline_acc_2 = get_by_class_metrics(val_history_baseline_2, metric='acc')\n",
    "baseline_acc_3 = get_by_class_metrics(val_history_baseline_3, metric='acc')\n",
    "\n",
    "\n",
    "penalty_001_acc_1 = get_by_class_metrics(val_history_001_1, metric='acc')\n",
    "penalty_001_acc_2 = get_by_class_metrics(val_history_001_2, metric='acc')\n",
    "penalty_001_acc_3 = get_by_class_metrics(val_history_001_3, metric='acc')\n",
    "\n",
    "penalty_05_acc_1 = get_by_class_metrics(val_history_0_5_1, metric='acc')\n",
    "penalty_05_acc_2 = get_by_class_metrics(val_history_0_5_2, metric='acc')\n",
    "penalty_05_acc_3 = get_by_class_metrics(val_history_0_5_3, metric='acc')\n",
    "\n",
    "penalty_001_r_acc_1 = get_by_class_metrics(val_history_reversed_1, metric='acc')\n",
    "penalty_001_r_acc_2 = get_by_class_metrics(val_history_reversed_2, metric='acc')\n",
    "penalty_001_r_acc_3 = get_by_class_metrics(val_history_reversed_3, metric='acc')\n"
   ]
  },
  {
   "cell_type": "code",
   "execution_count": 14,
   "metadata": {},
   "outputs": [],
   "source": [
    "#save class validation loss into csv\n",
    "baseline_loss_1.to_csv(os.path.join(results_dir,'baseline','baseline_loss_1.csv'))\n",
    "baseline_loss_2.to_csv(os.path.join(results_dir,'baseline','baseline_loss_2.csv'))\n",
    "baseline_loss_3.to_csv(os.path.join(results_dir,'baseline','baseline_loss_3.csv'))\n",
    "\n",
    "penalty_001_loss_1.to_csv(os.path.join(results_dir, 'penalty_1e-2', 'penalty_001_loss_1.csv'))\n",
    "penalty_001_loss_2.to_csv(os.path.join(results_dir, 'penalty_1e-2', 'penalty_001_loss_2.csv'))\n",
    "penalty_001_loss_3.to_csv(os.path.join(results_dir, 'penalty_1e-2', 'penalty_001_loss_3.csv'))\n",
    "\n",
    "penalty_05_loss_1.to_csv(os.path.join(results_dir, 'penalty_5e-1', 'penalty_05_loss_1.csv'))\n",
    "penalty_05_loss_2.to_csv(os.path.join(results_dir, 'penalty_5e-1', 'penalty_05_loss_2.csv'))\n",
    "penalty_05_loss_3.to_csv(os.path.join(results_dir, 'penalty_5e-1', 'penalty_05_loss_3.csv'))\n",
    "\n",
    "penalty_001_r_loss_1.to_csv(os.path.join(results_dir, 'penalty_1e-2_rev', 'penalty_001_r_loss_1.csv'))\n",
    "penalty_001_r_loss_2.to_csv(os.path.join(results_dir, 'penalty_1e-2_rev', 'penalty_001_r_loss_2.csv'))\n",
    "penalty_001_r_loss_3.to_csv(os.path.join(results_dir, 'penalty_1e-2_rev', 'penalty_001_r_loss_3.csv'))\n",
    "\n",
    "#save class accuracy into csv\n",
    "baseline_acc_1.to_csv(os.path.join(results_dir, 'baseline', 'baseline_acc_1.csv'))\n",
    "baseline_acc_2.to_csv(os.path.join(results_dir, 'baseline', 'baseline_acc_2.csv'))\n",
    "baseline_acc_3.to_csv(os.path.join(results_dir, 'baseline', 'baseline_acc_3.csv'))\n",
    "\n",
    "penalty_001_acc_1.to_csv(os.path.join(results_dir, 'penalty_1e-2', 'penalty_001_acc_1.csv'))\n",
    "penalty_001_acc_2.to_csv(os.path.join(results_dir, 'penalty_1e-2', 'penalty_001_acc_2.csv'))\n",
    "penalty_001_acc_3.to_csv(os.path.join(results_dir, 'penalty_1e-2', 'penalty_001_acc_3.csv'))\n",
    "\n",
    "penalty_05_acc_1.to_csv(os.path.join(results_dir, 'penalty_5e-1', 'penalty_05_acc_1.csv'))\n",
    "penalty_05_acc_2.to_csv(os.path.join(results_dir, 'penalty_5e-1', 'penalty_05_acc_2.csv'))\n",
    "penalty_05_acc_3.to_csv(os.path.join(results_dir, 'penalty_5e-1', 'penalty_05_acc_3.csv'))\n",
    "\n",
    "penalty_001_r_acc_1.to_csv(os.path.join(results_dir, 'penalty_1e-2_rev', 'penalty_001_r_acc_1.csv'))\n",
    "penalty_001_r_acc_2.to_csv(os.path.join(results_dir, 'penalty_1e-2_rev', 'penalty_001_r_acc_2.csv'))\n",
    "penalty_001_r_acc_3.to_csv(os.path.join(results_dir, 'penalty_1e-2_rev', 'penalty_001_r_acc_3.csv'))\n"
   ]
  },
  {
   "cell_type": "code",
   "execution_count": 31,
   "metadata": {},
   "outputs": [],
   "source": [
    "#save train history to csv\n",
    "pd.DataFrame.from_dict(train_history_baseline_1.history).to_csv(os.path.join(results_dir,'baseline','baseline_trainloss_1.csv'))\n",
    "pd.DataFrame.from_dict(train_history_baseline_2.history).to_csv(os.path.join(results_dir,'baseline','baseline_trainloss_2.csv'))\n",
    "pd.DataFrame.from_dict(train_history_baseline_3.history).to_csv(os.path.join(results_dir,'baseline','baseline_trainloss_3.csv'))\n",
    "\n",
    "pd.DataFrame.from_dict(train_history_001_1.history).to_csv(os.path.join(results_dir,'penalty_1e-2','penalty_001_trainloss_1.csv'))\n",
    "pd.DataFrame.from_dict(train_history_001_2.history).to_csv(os.path.join(results_dir,'penalty_1e-2','penalty_001_trainloss_2.csv'))\n",
    "pd.DataFrame.from_dict(train_history_001_3.history).to_csv(os.path.join(results_dir,'penalty_1e-2','penalty_001_trainloss_3.csv'))\n",
    "\n",
    "pd.DataFrame.from_dict(train_history_0_5_1.history).to_csv(os.path.join(results_dir,'penalty_5e-1','penalty_05_trainloss_1.csv'))\n",
    "pd.DataFrame.from_dict(train_history_0_5_2.history).to_csv(os.path.join(results_dir,'penalty_5e-1','penalty_05_trainloss_2.csv'))\n",
    "pd.DataFrame.from_dict(train_history_0_5_3.history).to_csv(os.path.join(results_dir,'penalty_5e-1','penalty_05_trainloss_3.csv'))\n",
    "\n",
    "pd.DataFrame.from_dict(train_history_001_r_1.history).to_csv(os.path.join(results_dir,'penalty_1e-2_rev','penalty_001_r_trainloss_1.csv'))\n",
    "pd.DataFrame.from_dict(train_history_001_r_2.history).to_csv(os.path.join(results_dir,'penalty_1e-2_rev','penalty_001_r_trainloss_2.csv'))\n",
    "pd.DataFrame.from_dict(train_history_001_r_3.history).to_csv(os.path.join(results_dir,'penalty_1e-2_rev','penalty_001_r_trainloss_3.csv'))\n"
   ]
  },
  {
   "cell_type": "code",
   "execution_count": 3,
   "metadata": {
    "scrolled": true
   },
   "outputs": [
    {
     "data": {
      "image/png": "[encoded data removed]",
      "text/plain": [
       "<Figure size 432x288 with 9 Axes>"
      ]
     },
     "metadata": {
      "needs_background": "light"
     },
     "output_type": "display_data"
    }
   ],
   "source": [
    "from FocusTraining.utils import *\n",
    "\n",
    "history_dict = {\"base_1\" : val_history_baseline_1,\n",
    "                \"base_2\" : val_history_baseline_2,\n",
    "                \"base_3\" : val_history_baseline_3,\n",
    "                \"1e-2_1\" : val_history_001_1,\n",
    "                \"1e_2_2\" : val_history_001_2,\n",
    "                \"1e-2_3\" : val_history_001_3,\n",
    "                \"0.5_1\"  : val_history_0_5_1,\n",
    "                \"0.5_2\"  : val_history_0_5_2,\n",
    "                \"0.5_3\"  : val_history_0_5_3,\n",
    "                }\n",
    "\n",
    "x = list(range(1,51))\n",
    "\n",
    "fig = plt.figure()\n",
    "fig.subplots_adjust(hspace=0.4, wspace=0.4)\n",
    "ax = fig.add_subplot(3, 3, 1)\n",
    "sns.lineplot(x=x, y = get_max_class_per_epoch(val_history_baseline_1),ax=ax)\n",
    "ax = fig.add_subplot(3, 3, 2)\n",
    "sns.lineplot(x=x, y = get_max_class_per_epoch(val_history_baseline_2),ax=ax)\n",
    "ax = fig.add_subplot(3, 3, 3)\n",
    "sns.lineplot(x=x, y = get_max_class_per_epoch(val_history_baseline_3),ax=ax)\n",
    "\n",
    "ax = fig.add_subplot(3, 3, 4)\n",
    "sns.lineplot(x=x, y = get_max_class_per_epoch(val_history_001_1),ax=ax)\n",
    "ax = fig.add_subplot(3, 3, 5)\n",
    "sns.lineplot(x=x, y = get_max_class_per_epoch(val_history_001_2),ax=ax)\n",
    "ax = fig.add_subplot(3, 3, 6)\n",
    "sns.lineplot(x=x, y = get_max_class_per_epoch(val_history_001_3),ax=ax)\n",
    "\n",
    "ax = fig.add_subplot(3, 3, 7)\n",
    "sns.lineplot(x=x, y = get_max_class_per_epoch(val_history_0_5_1),ax=ax)\n",
    "ax = fig.add_subplot(3, 3, 8)\n",
    "sns.lineplot(x=x, y = get_max_class_per_epoch(val_history_0_5_2),ax=ax)\n",
    "ax = fig.add_subplot(3, 3, 9)\n",
    "sns.lineplot(x=x, y = get_max_class_per_epoch(val_history_0_5_3),ax=ax)\n",
    "\n",
    "plt.show()"
   ]
  },
  {
   "cell_type": "code",
   "execution_count": 15,
   "metadata": {},
   "outputs": [
    {
     "data": {
      "text/plain": [
       "array([0.12678355, 0.10188432, 0.14884189, 0.10530052, 0.09730227,\n",
       "       0.10040243, 0.10885579, 0.11704603, 0.12342704, 0.15597299,\n",
       "       0.16146143, 0.15286806, 0.17545234, 0.19883418, 0.19120469,\n",
       "       0.17734471, 0.25932765, 0.21116392, 0.24604106, 0.24120115,\n",
       "       0.23665268, 0.23475406, 0.25409572, 0.2871949 , 0.24872999,\n",
       "       0.25173114, 0.28786446, 0.2559587 , 0.34241259, 0.30536339,\n",
       "       0.41322356, 0.2919872 , 0.39369686, 0.33459859, 0.29048667,\n",
       "       0.31618501, 0.40966708, 0.33498114, 0.34066457, 0.34419725,\n",
       "       0.35239283, 0.30471366, 0.38773176, 0.31466173, 0.42288773,\n",
       "       0.36870358, 0.35964079, 0.30563839, 0.376572  , 0.38323257])"
      ]
     },
     "execution_count": 15,
     "metadata": {},
     "output_type": "execute_result"
    }
   ],
   "source": [
    "get_max_class_per_epoch(val_history_baseline_1)"
   ]
  },
  {
   "cell_type": "code",
   "execution_count": 67,
   "metadata": {},
   "outputs": [
    {
     "name": "stdout",
     "output_type": "stream",
     "text": [
      "{'0.5_1': 0.2512032061949081,\n",
      " '0.5_2': 0.2249112455648493,\n",
      " '0.5_3': 0.2349491605447663,\n",
      " '1e-2_1': 0.19951845878413296,\n",
      " '1e-2_3': 0.19528705449973352,\n",
      " '1e_2_2': 0.19627775738178752,\n",
      " 'base_1': 0.19024388780763202,\n",
      " 'base_2': 0.20205394280673036,\n",
      " 'base_3': 0.17933234860942412}\n"
     ]
    }
   ],
   "source": [
    "from pprint import pprint\n",
    "def get_avg_class_loss(val_history):\n",
    "    return float(np.mean(get_by_class_metrics(val_history).tail(1), axis=1))\n",
    "\n",
    "avg_loss = {model:get_avg_class_loss(history) for model,history in history_dict.items()}\n",
    "\n",
    "pprint(avg_loss)"
   ]
  },
  {
   "cell_type": "code",
   "execution_count": 11,
   "metadata": {},
   "outputs": [
    {
     "name": "stdout",
     "output_type": "stream",
     "text": [
      "Normal loss 1:  0.19024388780763202\n",
      "Normal loss 2:  0.20205394280673036\n",
      "Normal loss 3:  0.17933234860942412\n"
     ]
    }
   ],
   "source": [
    "print(\"Normal loss 1: \", val_history_baseline_1.history['loss'][-1])\n",
    "print(\"Normal loss 2: \", val_history_baseline_2.history['loss'][-1])\n",
    "print(\"Normal loss 3: \", val_history_baseline_3.history['loss'][-1])"
   ]
  },
  {
   "cell_type": "code",
   "execution_count": 70,
   "metadata": {},
   "outputs": [],
   "source": [
    "# reversed method\n",
    "val_history_reversed_1 = load_history('from_start_reversed_class_val_history.pkl')\n",
    "val_history_reversed_2 = load_history('from_start_reversed_class_val_history_2.pkl')\n",
    "val_history_reversed_3 = load_history('from_start_reversed_class_val_history_3.pkl')\n"
   ]
  },
  {
   "cell_type": "code",
   "execution_count": 73,
   "metadata": {},
   "outputs": [
    {
     "data": {
      "image/png": "[encoded data removed]",
      "text/plain": [
       "<Figure size 432x288 with 6 Axes>"
      ]
     },
     "metadata": {
      "needs_background": "light"
     },
     "output_type": "display_data"
    }
   ],
   "source": [
    "x = list(range(1,51))\n",
    "\n",
    "fig = plt.figure()\n",
    "fig.subplots_adjust(hspace=0.4, wspace=0.4)\n",
    "ax = fig.add_subplot(2, 3, 1)\n",
    "sns.lineplot(x=x, y = get_max_class_per_epoch(val_history_reversed_1),ax=ax)\n",
    "ax = fig.add_subplot(2, 3, 2)\n",
    "sns.lineplot(x=x, y = get_max_class_per_epoch(val_history_reversed_2),ax=ax)\n",
    "ax = fig.add_subplot(2, 3, 3)\n",
    "sns.lineplot(x=x, y = get_max_class_per_epoch(val_history_reversed_3),ax=ax)\n",
    "\n",
    "ax = fig.add_subplot(2, 3, 4)\n",
    "sns.lineplot(x=x, y = get_max_class_per_epoch(val_history_001_1),ax=ax)\n",
    "ax = fig.add_subplot(2, 3, 5)\n",
    "sns.lineplot(x=x, y = get_max_class_per_epoch(val_history_001_2),ax=ax)\n",
    "ax = fig.add_subplot(2, 3, 6)\n",
    "sns.lineplot(x=x, y = get_max_class_per_epoch(val_history_001_3),ax=ax)\n",
    "\n",
    "plt.show()"
   ]
  },
  {
   "cell_type": "code",
   "execution_count": 72,
   "metadata": {},
   "outputs": [
    {
     "name": "stdout",
     "output_type": "stream",
     "text": [
      "{'r1': 0.19545342848321887,\n",
      " 'r2': 0.22524296230332402,\n",
      " 'r3': 0.19679086452917544}\n"
     ]
    }
   ],
   "source": [
    "reversed_dict = {\n",
    "    'r1' : val_history_reversed_1,\n",
    "    'r2' : val_history_reversed_2,\n",
    "    'r3' : val_history_reversed_3\n",
    "}\n",
    "\n",
    "avg_loss_reversed  = {model:get_avg_class_loss(history) for model,history in reversed_dict.items()}\n",
    "pprint(avg_loss_reversed)"
   ]
  }
 ],
 "metadata": {
  "kernelspec": {
   "display_name": "Python 3",
   "language": "python",
   "name": "python3"
  },
  "language_info": {
   "codemirror_mode": {
    "name": "ipython",
    "version": 3
   },
   "file_extension": ".py",
   "mimetype": "text/x-python",
   "name": "python",
   "nbconvert_exporter": "python",
   "pygments_lexer": "ipython3",
   "version": "3.7.10"
  }
 },
 "nbformat": 4,
 "nbformat_minor": 4
}
