{
 "cells": [
  {
   "cell_type": "markdown",
   "id": "9a0718f6",
   "metadata": {},
   "source": [
    "# Lab 3: Multi-modal and Multi-task\n",
    "\n",
    "**Group Members:**\n",
    "* Clay Harper\n",
    "* Eli Laird"
   ]
  },
  {
   "cell_type": "markdown",
   "id": "34f7cd10",
   "metadata": {},
   "source": [
    "In this report, we were to choose a dataset where a multi-modal model (multiple input streams), multi-task model (multiple predictive tasks), or both could be created.  We decided to use the 2018 OpenMic dataset because some of Clay's research is based in audio processing, and Eli has in interest in breaking into this field.  "
   ]
  },
  {
   "cell_type": "markdown",
   "id": "e89a4ab7",
   "metadata": {},
   "source": [
    "## Dataset Overview\n",
    "\n",
    "The 2018 OpenMic dataset [1] was created in a collaboration effort between Spotify and MARL@NYU (Music and Audio Research Laboratory New York University).\n",
    "\n",
    "### Classification Task\n",
    "\n",
    "The classification task is to determine what instruments are present in the audio clip.  Each audio clip may contain multiple instruments, so the task is to determine all instruments present in the clip.  The classification labels are:\n",
    "\n",
    "* accordion\n",
    "* banjo\n",
    "* bass\n",
    "* cello\n",
    "* clarinet\n",
    "* cymbals\n",
    "* drums\n",
    "* flute\n",
    "* guitar\n",
    "* mallet_percussion\n",
    "* mandolin\n",
    "* organ\n",
    "* piano\n",
    "* saxophone,\n",
    "* synthesizer\n",
    "* trombone\n",
    "* trumpet\n",
    "* ukulele\n",
    "* violin\n",
    "* voice\n",
    "\n",
    "Each audio clip has been labeled by a variety of people on which instruments are present in the clip.  Each person, depending on their area of expertise, is given a `worker_trust` score--so a piano player will get a high trust on identifying if there is a piano but maybe a lower trust in identifying a ukulele.  From that, a `relevance_score` is computed by a weighted sum of the `worker_trust` and the `label` (1 or 0) if the instrument was present.  Essentially, each audio clip is given a `relevance_score` for each instrument.  `relevance_score` is basically a confidence score for how likely this instrument appears in the audio clip.\n",
    "\n",
    "### Feature Data Format\n",
    "\n",
    "There are multiple options we can do for the feature data.  The data archive includes both raw audio files in the form of `.ogg` files and pre-computed VGGish Features [3].  If we wanted, we could featurize of the `.ogg` files by using the raw amplitude values, use MFCCs, CQT, etc.  For simplicity in this lab, we have decided to just use the VGGish features provided.   \n",
    "\n",
    "\n",
    "### Mulit-Modal/Multi-Task/Both?\n",
    "\n",
    "We thought about making this project be both multi-modal and multi-task, but since we are using the VGGish Features, we decided to just make this project muli-task where the tasks are identifying each instrument in the audio clip separately.\n",
    "\n",
    "### Who Collected the Data?\n",
    "\n",
    "Spotify and MARL@NYU (Music and Audio Research Laboratory New York University).  The cost of annotation was sponsored by Spotify.\n",
    "\n",
    "#### Why was the Data Collected?\n",
    "\n",
    "The idea was to create a dataset that can be used in music information retrieval through identifying different instruments in an audio clip.  Some applications of music information retrieval are music genre classification, recommender systems, music separation, automatic music transcription, music generation, and more [2]. To give an example of how this dataset could help Spotify, think of a user who wants to listen to piano music on a long day.  The user could go to the search bar on Spotify and type in piano.  In order to get good results, the Spotify must have piano tags associated with songs to return piano music.  This process of tagging can be very labor intensive and expensive because people have to listen to a song, identify it as piano music, and tag the song in the database.  This is increasingly difficult when more songs are constantly added to Spotify's database.  Instead, if we can create a model that is very good at listening to music and segmenting out the types of instruments in the music, we can help automate this process (also VGGish was developed by Google so...).  VGGish features are computed using a pre-trained CNN from Google based on [3], which essentially uses a very similar architecture to the VGG image classification architecture.  In total, there are 17 layers containing convolutional layers, activations, followed by maxpooling operations.  In the OpenMic version, VGGish Features are computed on an embedding layer in the VGGish archtitecture and then projected down to a _____ dimensional space using PCA. \n",
    "\n",
    "#### When was the Data Collected?\n",
    "\n",
    "The data was collected and put together in 2018.\n",
    "\n",
    "### Evaluation Criteria\n",
    "\n",
    "We thought about discretizing the `relevance_score` by some threshold (say .5) and making this a binary classification problem for each instrument.  Instead, we decided to regress the `relevance_score` for each instrument because this allows for more post-processing, particularly in an example discussed above with a user searching for piano music.  If we used a threshold of .5, a `relevance_score` of .51 would mean that, yes, a piano appears in this audio clip.  Well, maybe the piano just appears for a breif amount of time in the audio clip and that's why it had a relatively low confidence score.  The user searching for piano music would likely want songs that are very piano-based--that's why they probably searched `piano`.  Regressing the relevance score instead would allow better post-processing where maybe we can sort the search results from highest to lowest `relevance_score` so the user is happier with the search results.\n",
    "\n",
    " \n",
    "\n",
    "\n",
    "[1] Humphrey, Eric J., Durand, Simon, and McFee, Brian. \"OpenMIC-2018: An Open Dataset for Multiple Instrument Recognition.\" in Proceedings of the 19th International Society for Music Information Retrieval Conference (ISMIR), 2018.\n",
    "\n",
    "[2] https://en.wikipedia.org/wiki/Music_information_retrieval#:~:text=Music%20information%20retrieval%20(MIR)%20is,with%20many%20real%2Dworld%20applications.\n",
    "\n",
    "[3] Shawn Hershey, Sourish Chaudhuri, Daniel P. W. Ellis, Jort F. Gemmeke, Aren Jansen, Channing Moore, Manoj Plakal, Devin Platt, Rif A. Saurous, Bryan Seybold, Malcolm Slaney, Ron Weiss, & Kevin Wilson (2017). CNN Architectures for Large-Scale Audio Classification. In International Conference on Acoustics, Speech and Signal Processing (ICASSP)."
   ]
  },
  {
   "cell_type": "markdown",
   "id": "57d2c0ae",
   "metadata": {},
   "source": [
    "## How many tasks or modalities are there in the dataset and how do you define each task or modality?\n",
    "\n",
    "There are 20 tasks (1 for each instrument), and there is 1 modality (the VGGish Feature).  \n",
    "\n",
    "****domains/cross domains\n",
    "\n",
    "**BEWARE**\n",
    "* TF2.0.0 isn't compatable with python > 3.7\n",
    "* Must use TF2.0.0 for maneframe"
   ]
  },
  {
   "cell_type": "code",
   "execution_count": 19,
   "id": "7ee97717",
   "metadata": {},
   "outputs": [],
   "source": [
    "import numpy as np\n",
    "import tensorflow as tf\n",
    "from sklearn.model_selection import train_test_split, ShuffleSplit\n",
    "import pandas as pd\n",
    "import json"
   ]
  },
  {
   "cell_type": "markdown",
   "id": "16c6a713",
   "metadata": {},
   "source": [
    "## Load In Data"
   ]
  },
  {
   "cell_type": "code",
   "execution_count": 20,
   "id": "f8df06a4",
   "metadata": {},
   "outputs": [
    {
     "name": "stdout",
     "output_type": "stream",
     "text": [
      "The data files are: ['X', 'Y_true', 'Y_mask', 'sample_key']\n",
      "Data shape: (20000, 10, 128)\n",
      "True label shape: (20000, 20)\n",
      "True label mask shape: (20000, 20)\n",
      "Total samples: (20000,)\n"
     ]
    },
    {
     "data": {
      "text/plain": [
       "{'accordion': 0,\n",
       " 'banjo': 1,\n",
       " 'bass': 2,\n",
       " 'cello': 3,\n",
       " 'clarinet': 4,\n",
       " 'cymbals': 5,\n",
       " 'drums': 6,\n",
       " 'flute': 7,\n",
       " 'guitar': 8,\n",
       " 'mallet_percussion': 9,\n",
       " 'mandolin': 10,\n",
       " 'organ': 11,\n",
       " 'piano': 12,\n",
       " 'saxophone': 13,\n",
       " 'synthesizer': 14,\n",
       " 'trombone': 15,\n",
       " 'trumpet': 16,\n",
       " 'ukulele': 17,\n",
       " 'violin': 18,\n",
       " 'voice': 19}"
      ]
     },
     "execution_count": 20,
     "metadata": {},
     "output_type": "execute_result"
    }
   ],
   "source": [
    "with np.load('./openmic-2018/openmic-2018.npz', allow_pickle=True) as data:\n",
    "    files = data.files\n",
    "    print(f'The data files are: {files}')\n",
    "    \n",
    "    x_total = data['X']\n",
    "    y = data['Y_true']\n",
    "    y[y == .5] = 0 # weird dataset (.5 only occurs with their 50/50 shot--not ever a relevance score)\n",
    "    # Call it a soft-no since it appears in the individual df but not in the label df\n",
    "    y_mask = data['Y_mask']\n",
    "    sample_keys = data['sample_key']\n",
    "\n",
    "print(f'Data shape: {x_total.shape}')\n",
    "print(f'True label shape: {y.shape}')\n",
    "print(f'True label mask shape: {y_mask.shape}')\n",
    "print(f'Total samples: {sample_keys.shape}')\n",
    "\n",
    "with open('./openmic-2018/class-map.json', 'r') as f:\n",
    "    class_map = json.load(f)\n",
    "class_map"
   ]
  },
  {
   "cell_type": "markdown",
   "id": "9e176b09",
   "metadata": {},
   "source": [
    "### Split Into Train/Test\n",
    "\n",
    "**We can talk about this more later, could do 80/20 split-probably should do cross validation**\n",
    "\n",
    "**Using their split for now**\n",
    "\n",
    "**Well,...they have their own split.  Not sure if this is what Dr. Larson wants though**\n",
    "\n",
    "* Should be useful:\n",
    "    * https://github.com/cosmir/openmic-2018/blob/master/examples/modeling-baseline.ipynb"
   ]
  },
  {
   "cell_type": "code",
   "execution_count": 18,
   "id": "3a653653",
   "metadata": {},
   "outputs": [],
   "source": [
    "total_idexes = list(range(len(sample_keys)))\n",
    "k_folds = 5\n",
    "# Use for later when training datasets\n",
    "splitter = ShuffleSplit(n_splits=5, test_size=.2)"
   ]
  },
  {
   "cell_type": "code",
   "execution_count": 21,
   "id": "e290aa55",
   "metadata": {},
   "outputs": [
    {
     "name": "stdout",
     "output_type": "stream",
     "text": [
      "Train samples: 14915 test samples: 5085\n"
     ]
    }
   ],
   "source": [
    "# If we use their split\n",
    "split_train = pd.read_csv('./openmic-2018/partitions/split01_train.csv', \n",
    "                          header=None, squeeze=True)\n",
    "split_test = pd.read_csv('./openmic-2018/partitions/split01_test.csv', \n",
    "                         header=None, squeeze=True)\n",
    "\n",
    "print(f'Train samples: {len(split_train)} test samples: {len(split_test)}')"
   ]
  },
  {
   "cell_type": "code",
   "execution_count": 31,
   "id": "53a7c23a",
   "metadata": {},
   "outputs": [],
   "source": [
    "sample_key_df = pd.DataFrame({'sample_key': sample_keys})\n",
    "sample_key_df['index'] = sample_key_df.index\n",
    "train_keys_df = pd.DataFrame({'sample_key': split_train})\n",
    "test_keys_df = pd.DataFrame({'sample_key': split_test})\n",
    "\n",
    "# Get the train and test indexes according to thier split\n",
    "train_idxs = np.array(train_keys_df.merge(sample_key_df, on='sample_key', how='left')['index'])\n",
    "test_idxs = np.array(test_keys_df.merge(sample_key_df, on='sample_key', how='left')['index'])\n",
    "\n",
    "# Split the train/test data\n",
    "x_train, x_test = x_total[train_idxs], x_total[test_idxs]\n",
    "y_train, y_test = y[train_idxs], y[test_idxs]"
   ]
  },
  {
   "cell_type": "markdown",
   "id": "049cf9d7",
   "metadata": {},
   "source": [
    "**Insert architecture here**"
   ]
  },
  {
   "cell_type": "code",
   "execution_count": null,
   "id": "5a1ecc40",
   "metadata": {},
   "outputs": [],
   "source": []
  },
  {
   "cell_type": "code",
   "execution_count": null,
   "id": "086cb700",
   "metadata": {},
   "outputs": [],
   "source": []
  },
  {
   "cell_type": "code",
   "execution_count": null,
   "id": "9bcc5004",
   "metadata": {},
   "outputs": [],
   "source": []
  },
  {
   "cell_type": "markdown",
   "id": "36b0cf73",
   "metadata": {},
   "source": [
    "## Training"
   ]
  },
  {
   "cell_type": "code",
   "execution_count": 39,
   "id": "cb39af2d",
   "metadata": {},
   "outputs": [],
   "source": [
    "# from tensorflow.data.Dataset import from_tensor_slices\n",
    "batch_size = 16\n",
    "\n",
    "# Convert to tf data\n",
    "train_dataset = tf.data.Dataset.from_tensor_slices((x_train, y_train)).cache().shuffle(100).batch(batch_size).repeat()\n",
    "test_dataset = tf.data.Dataset.from_tensor_slices((x_test, y_test)).cache().shuffle(100).batch(batch_size).repeat()"
   ]
  },
  {
   "cell_type": "code",
   "execution_count": null,
   "id": "b1970255",
   "metadata": {},
   "outputs": [],
   "source": []
  },
  {
   "cell_type": "code",
   "execution_count": null,
   "id": "3cfeae41",
   "metadata": {},
   "outputs": [],
   "source": []
  },
  {
   "cell_type": "code",
   "execution_count": null,
   "id": "5afbd05d",
   "metadata": {},
   "outputs": [],
   "source": []
  },
  {
   "cell_type": "code",
   "execution_count": null,
   "id": "66dcc495",
   "metadata": {},
   "outputs": [],
   "source": []
  },
  {
   "cell_type": "code",
   "execution_count": null,
   "id": "11f94a4e",
   "metadata": {},
   "outputs": [],
   "source": []
  },
  {
   "cell_type": "code",
   "execution_count": null,
   "id": "86911732",
   "metadata": {},
   "outputs": [],
   "source": []
  },
  {
   "cell_type": "code",
   "execution_count": null,
   "id": "5a70a8b5",
   "metadata": {},
   "outputs": [],
   "source": []
  },
  {
   "cell_type": "code",
   "execution_count": null,
   "id": "8d4c1daa",
   "metadata": {},
   "outputs": [],
   "source": []
  },
  {
   "cell_type": "code",
   "execution_count": null,
   "id": "bd22ee76",
   "metadata": {},
   "outputs": [],
   "source": []
  },
  {
   "cell_type": "code",
   "execution_count": null,
   "id": "33675e76",
   "metadata": {},
   "outputs": [],
   "source": []
  },
  {
   "cell_type": "code",
   "execution_count": null,
   "id": "f67361ad",
   "metadata": {},
   "outputs": [],
   "source": []
  },
  {
   "cell_type": "code",
   "execution_count": null,
   "id": "d28a6b12",
   "metadata": {},
   "outputs": [],
   "source": []
  },
  {
   "cell_type": "markdown",
   "id": "844f8d2c",
   "metadata": {},
   "source": [
    "Explain the weirdness of the dataset later, but basically anywhere there is a .5, throw it away and make it a 0."
   ]
  },
  {
   "cell_type": "code",
   "execution_count": 22,
   "id": "730cf1a2",
   "metadata": {},
   "outputs": [
    {
     "data": {
      "text/plain": [
       "array([False, False, False, False,  True, False, False,  True, False,\n",
       "       False, False, False, False, False, False, False,  True, False,\n",
       "       False, False])"
      ]
     },
     "execution_count": 22,
     "metadata": {},
     "output_type": "execute_result"
    }
   ],
   "source": [
    "y_mask[0]"
   ]
  },
  {
   "cell_type": "code",
   "execution_count": 23,
   "id": "6e741f8e",
   "metadata": {},
   "outputs": [
    {
     "data": {
      "text/plain": [
       "array([0.     , 0.     , 0.     , 0.     , 0.17105, 0.     , 0.     ,\n",
       "       0.     , 0.     , 0.     , 0.     , 0.     , 0.     , 0.     ,\n",
       "       0.     , 0.     , 0.     , 0.     , 0.     , 0.     ])"
      ]
     },
     "execution_count": 23,
     "metadata": {},
     "output_type": "execute_result"
    }
   ],
   "source": [
    "y[0]"
   ]
  },
  {
   "cell_type": "code",
   "execution_count": 24,
   "id": "5cf14eab",
   "metadata": {},
   "outputs": [
    {
     "name": "stdout",
     "output_type": "stream",
     "text": [
      "((True, 0.81665), (False, 0.0), (False, 0.0), (False, 0.0), (False, 0.0), (False, 0.0), (False, 0.0), (False, 0.0), (False, 0.0), (False, 0.0), (False, 0.0), (False, 0.0), (False, 0.0), (False, 0.0), (False, 0.0), (False, 0.0), (False, 0.0), (False, 0.0), (False, 0.0), (False, 0.0))\n"
     ]
    }
   ],
   "source": [
    "print(tuple(zip(y_mask[5], y[5])))"
   ]
  },
  {
   "cell_type": "code",
   "execution_count": 16,
   "id": "271eef25",
   "metadata": {},
   "outputs": [
    {
     "data": {
      "text/plain": [
       "array(['000046_3840', '000135_483840', '000139_119040', ...,\n",
       "       '155307_211200', '155310_372480', '155311_453120'], dtype=object)"
      ]
     },
     "execution_count": 16,
     "metadata": {},
     "output_type": "execute_result"
    }
   ],
   "source": [
    "np.unique(sample_keys)"
   ]
  },
  {
   "cell_type": "code",
   "execution_count": 19,
   "id": "75ab56d7",
   "metadata": {},
   "outputs": [
    {
     "data": {
      "text/plain": [
       "'000145_172800'"
      ]
     },
     "execution_count": 19,
     "metadata": {},
     "output_type": "execute_result"
    }
   ],
   "source": [
    "sample_keys[5]"
   ]
  },
  {
   "cell_type": "code",
   "execution_count": null,
   "id": "6284a168",
   "metadata": {},
   "outputs": [],
   "source": []
  }
 ],
 "metadata": {
  "kernelspec": {
   "display_name": "Python 3",
   "language": "python",
   "name": "python3"
  },
  "language_info": {
   "codemirror_mode": {
    "name": "ipython",
    "version": 3
   },
   "file_extension": ".py",
   "mimetype": "text/x-python",
   "name": "python",
   "nbconvert_exporter": "python",
   "pygments_lexer": "ipython3",
   "version": "3.7.10"
  }
 },
 "nbformat": 4,
 "nbformat_minor": 5
}
