{
 "cells": [
  {
   "cell_type": "markdown",
   "metadata": {},
   "source": [
    "# Lab 3: Multi-modal and Multi-task\n",
    "\n",
    "**Group Members:**\n",
    "* Clay Harper\n",
    "* Eli Laird"
   ]
  },
  {
   "cell_type": "markdown",
   "metadata": {},
   "source": [
    "In this report, we were to choose a dataset where a multi-modal model (multiple input streams), multi-task model (multiple predictive tasks), or both could be created.  We decided to use the 2018 OpenMic dataset because some of Clay's research is based in audio processing, and Eli has in interest in breaking into this field.  "
   ]
  },
  {
   "cell_type": "markdown",
   "metadata": {},
   "source": [
    "## Dataset Overview\n",
    "\n",
    "The 2018 OpenMic dataset [1] was created in a collaboration effort between Spotify and MARL@NYU (Music and Audio Research Laboratory New York University).\n",
    "\n",
    "### Classification Task\n",
    "\n",
    "The classification task is to determine what instruments are present in the audio clip.  Each audio clip may contain multiple instruments, so the task is to determine all instruments present in the clip.  The classification labels are:\n",
    "\n",
    "* accordion\n",
    "* banjo\n",
    "* bass\n",
    "* cello\n",
    "* clarinet\n",
    "* cymbals\n",
    "* drums\n",
    "* flute\n",
    "* guitar\n",
    "* mallet_percussion\n",
    "* mandolin\n",
    "* organ\n",
    "* piano\n",
    "* saxophone,\n",
    "* synthesizer\n",
    "* trombone\n",
    "* trumpet\n",
    "* ukulele\n",
    "* violin\n",
    "* voice\n",
    "\n",
    "Each audio clip has been labeled by a variety of people on which instruments are present in the clip.  Each person, depending on their area of expertise, is given a `worker_trust` score--so a piano player will get a high trust on identifying if there is a piano but maybe a lower trust in identifying a ukulele.  From that, a `relevance_score` is computed by a weighted sum of the `worker_trust` and the `label` (1 or 0) if the instrument was present.  Essentially, each audio clip is given a `relevance_score` for each instrument.  `relevance_score` is basically a confidence score for how likely this instrument appears in the audio clip.\n",
    "\n",
    "### Feature Data Format\n",
    "\n",
    "There are multiple options we can do for the feature data.  The data archive includes both raw audio files in the form of `.ogg` files and pre-computed VGGish Features [3].  If we wanted, we could featurize of the `.ogg` files by using the raw amplitude values, use MFCCs, CQT, etc.  For simplicity in this lab, we have decided to just use the VGGish features provided.   \n",
    "\n",
    "\n",
    "### Mulit-Modal/Multi-Task/Both?\n",
    "\n",
    "We thought about making this project be both multi-modal and multi-task, but since we are using the VGGish Features, we decided to just make this project muli-task where the tasks are identifying each instrument in the audio clip separately.\n",
    "\n",
    "### Who Collected the Data?\n",
    "\n",
    "Spotify and MARL@NYU (Music and Audio Research Laboratory New York University).  The cost of annotation was sponsored by Spotify.\n",
    "\n",
    "#### Why was the Data Collected?\n",
    "\n",
    "The idea was to create a dataset that can be used in music information retrieval through identifying different instruments in an audio clip.  Some applications of music information retrieval are music genre classification, recommender systems, music separation, automatic music transcription, music generation, and more [2]. To give an example of how this dataset could help Spotify, think of a user who wants to listen to piano music on a long day.  The user could go to the search bar on Spotify and type in piano.  In order to get good results, the Spotify must have piano tags associated with songs to return piano music.  This process of tagging can be very labor intensive and expensive because people have to listen to a song, identify it as piano music, and tag the song in the database.  This is increasingly difficult when more songs are constantly added to Spotify's database.  Instead, if we can create a model that is very good at listening to music and segmenting out the types of instruments in the music, we can help automate this process (also VGGish was developed by Google so...).  VGGish features are computed using a pre-trained CNN from Google based on [3], which essentially uses a very similar architecture to the VGG image classification architecture.  In total, there are 17 layers containing convolutional layers, activations, followed by maxpooling operations.  In the OpenMic version, VGGish Features are computed on an embedding layer in the VGGish archtitecture and then projected down to a _____ dimensional space using PCA. \n",
    "\n",
    "#### When was the Data Collected?\n",
    "\n",
    "The data was collected and put together in 2018.\n",
    "\n",
    "### Evaluation Criteria\n",
    "\n",
    "We thought about discretizing the `relevance_score` by some threshold (say .5) and making this a binary classification problem for each instrument.  Instead, we decided to regress the `relevance_score` for each instrument because this allows for more post-processing, particularly in an example discussed above with a user searching for piano music.  If we used a threshold of .5, a `relevance_score` of .51 would mean that, yes, a piano appears in this audio clip.  Well, maybe the piano just appears for a breif amount of time in the audio clip and that's why it had a relatively low confidence score.  The user searching for piano music would likely want songs that are very piano-based--that's why they probably searched `piano`.  Regressing the relevance score instead would allow better post-processing where maybe we can sort the search results from highest to lowest `relevance_score` so the user is happier with the search results.\n",
    "\n",
    " \n",
    "\n",
    "\n",
    "[1] Humphrey, Eric J., Durand, Simon, and McFee, Brian. \"OpenMIC-2018: An Open Dataset for Multiple Instrument Recognition.\" in Proceedings of the 19th International Society for Music Information Retrieval Conference (ISMIR), 2018.\n",
    "\n",
    "[2] https://en.wikipedia.org/wiki/Music_information_retrieval#:~:text=Music%20information%20retrieval%20(MIR)%20is,with%20many%20real%2Dworld%20applications.\n",
    "\n",
    "[3] Shawn Hershey, Sourish Chaudhuri, Daniel P. W. Ellis, Jort F. Gemmeke, Aren Jansen, Channing Moore, Manoj Plakal, Devin Platt, Rif A. Saurous, Bryan Seybold, Malcolm Slaney, Ron Weiss, & Kevin Wilson (2017). CNN Architectures for Large-Scale Audio Classification. In International Conference on Acoustics, Speech and Signal Processing (ICASSP)."
   ]
  },
  {
   "cell_type": "markdown",
   "metadata": {},
   "source": [
    "## How many tasks or modalities are there in the dataset and how do you define each task or modality?\n",
    "\n",
    "There are 20 tasks (1 for each instrument), and there is 1 modality (the VGGish Feature).  \n",
    "\n",
    "****domains/cross domains\n",
    "\n",
    "**BEWARE**\n",
    "* TF2.0.0 isn't compatable with python > 3.7\n",
    "* Must use TF2.0.0 for maneframe"
   ]
  },
  {
   "cell_type": "code",
   "execution_count": 1,
   "metadata": {},
   "outputs": [],
   "source": [
    "import numpy as np\n",
    "import tensorflow as tf\n",
    "from sklearn.model_selection import train_test_split, ShuffleSplit\n",
    "import pandas as pd\n",
    "import json\n",
    "import os"
   ]
  },
  {
   "cell_type": "code",
   "execution_count": 2,
   "metadata": {},
   "outputs": [
    {
     "name": "stdout",
     "output_type": "stream",
     "text": [
      "TF Version:  2.0.0\n"
     ]
    }
   ],
   "source": [
    "print(\"TF Version: \", tf.__version__)"
   ]
  },
  {
   "cell_type": "code",
   "execution_count": 3,
   "metadata": {},
   "outputs": [],
   "source": [
    "datadir = '../data'\n",
    "openmic_file_dir = os.path.join(datadir, 'openmic-2018')"
   ]
  },
  {
   "cell_type": "markdown",
   "metadata": {},
   "source": [
    "## Load In Data"
   ]
  },
  {
   "cell_type": "code",
   "execution_count": 4,
   "metadata": {},
   "outputs": [
    {
     "name": "stdout",
     "output_type": "stream",
     "text": [
      "The data files are: ['X', 'Y_true', 'Y_mask', 'sample_key']\n",
      "Data shape: (20000, 10, 128)\n",
      "True label shape: (20000, 20)\n",
      "True label mask shape: (20000, 20)\n",
      "Total samples: (20000,)\n"
     ]
    },
    {
     "data": {
      "text/plain": [
       "{'accordion': 0,\n",
       " 'banjo': 1,\n",
       " 'bass': 2,\n",
       " 'cello': 3,\n",
       " 'clarinet': 4,\n",
       " 'cymbals': 5,\n",
       " 'drums': 6,\n",
       " 'flute': 7,\n",
       " 'guitar': 8,\n",
       " 'mallet_percussion': 9,\n",
       " 'mandolin': 10,\n",
       " 'organ': 11,\n",
       " 'piano': 12,\n",
       " 'saxophone': 13,\n",
       " 'synthesizer': 14,\n",
       " 'trombone': 15,\n",
       " 'trumpet': 16,\n",
       " 'ukulele': 17,\n",
       " 'violin': 18,\n",
       " 'voice': 19}"
      ]
     },
     "execution_count": 4,
     "metadata": {},
     "output_type": "execute_result"
    }
   ],
   "source": [
    "with np.load(os.path.join(openmic_file_dir, 'openmic-2018.npz'), allow_pickle=True) as data:\n",
    "    files = data.files\n",
    "    print(f'The data files are: {files}')\n",
    "    \n",
    "    x_total = data['X']\n",
    "    y = data['Y_true']\n",
    "#     y[y == .5] = 0 # weird dataset (.5 only occurs with their 50/50 shot--not ever a relevance score)\n",
    "    # Call it a soft-no since it appears in the individual df but not in the label df\n",
    "    y_mask = data['Y_mask']\n",
    "    sample_keys = data['sample_key']\n",
    "\n",
    "print(f'Data shape: {x_total.shape}')\n",
    "print(f'True label shape: {y.shape}')\n",
    "print(f'True label mask shape: {y_mask.shape}')\n",
    "print(f'Total samples: {sample_keys.shape}')\n",
    "\n",
    "with open(os.path.join(openmic_file_dir, 'class-map.json'), 'r') as f:\n",
    "    class_map = json.load(f)\n",
    "class_map"
   ]
  },
  {
   "cell_type": "markdown",
   "metadata": {},
   "source": [
    "### Split Into Train/Test\n",
    "\n",
    "**We can talk about this more later, could do 80/20 split-probably should do cross validation**\n",
    "\n",
    "**Using their split for now**\n",
    "\n",
    "**Well,...they have their own split.  Not sure if this is what Dr. Larson wants though**\n",
    "\n",
    "* Should be useful:\n",
    "    * https://github.com/cosmir/openmic-2018/blob/master/examples/modeling-baseline.ipynb"
   ]
  },
  {
   "cell_type": "code",
   "execution_count": 5,
   "metadata": {},
   "outputs": [],
   "source": [
    "total_idexes = list(range(len(sample_keys)))\n",
    "k_folds = 5\n",
    "# Use for later when training datasets\n",
    "splitter = ShuffleSplit(n_splits=5, test_size=.2)"
   ]
  },
  {
   "cell_type": "code",
   "execution_count": 6,
   "metadata": {},
   "outputs": [
    {
     "name": "stdout",
     "output_type": "stream",
     "text": [
      "Train samples: 14915 test samples: 5085\n"
     ]
    }
   ],
   "source": [
    "# If we use their split\n",
    "split_train = pd.read_csv(os.path.join(openmic_file_dir, 'partitions/split01_train.csv'), \n",
    "                          header=None, squeeze=True)\n",
    "split_test = pd.read_csv(os.path.join(openmic_file_dir,'partitions/split01_test.csv'), \n",
    "                         header=None, squeeze=True)\n",
    "\n",
    "print(f'Train samples: {len(split_train)} test samples: {len(split_test)}')"
   ]
  },
  {
   "cell_type": "code",
   "execution_count": 37,
   "metadata": {},
   "outputs": [
    {
     "data": {
      "text/plain": [
       "'000178_3840'"
      ]
     },
     "execution_count": 37,
     "metadata": {},
     "output_type": "execute_result"
    }
   ],
   "source": [
    "split_test[0]"
   ]
  },
  {
   "cell_type": "code",
   "execution_count": 14,
   "metadata": {},
   "outputs": [],
   "source": [
    "sample_key_df = pd.DataFrame({'sample_key': sample_keys})\n",
    "sample_key_df['index'] = sample_key_df.index\n",
    "train_keys_df = pd.DataFrame({'sample_key': split_train})\n",
    "test_keys_df = pd.DataFrame({'sample_key': split_test})\n",
    "\n",
    "# Get the train and test indexes according to their split\n",
    "train_idxs = np.array(train_keys_df.merge(sample_key_df, on='sample_key', how='left')['index'])\n",
    "test_idxs = np.array(test_keys_df.merge(sample_key_df, on='sample_key', how='left')['index'])\n",
    "\n",
    "# Split the train/test data\n",
    "x_train, x_test = x_total[train_idxs], x_total[test_idxs]\n",
    "y_train, y_test = y[train_idxs], y[test_idxs]"
   ]
  },
  {
   "cell_type": "code",
   "execution_count": 20,
   "metadata": {},
   "outputs": [
    {
     "data": {
      "text/plain": [
       "(14915, 10, 128)"
      ]
     },
     "execution_count": 20,
     "metadata": {},
     "output_type": "execute_result"
    }
   ],
   "source": [
    "x_train.shape"
   ]
  },
  {
   "cell_type": "code",
   "execution_count": 28,
   "metadata": {},
   "outputs": [
    {
     "data": {
      "text/plain": [
       "(5085, 10, 128)"
      ]
     },
     "execution_count": 28,
     "metadata": {},
     "output_type": "execute_result"
    }
   ],
   "source": [
    "x_test.shape"
   ]
  },
  {
   "cell_type": "markdown",
   "metadata": {},
   "source": [
    "## Add MFCCs"
   ]
  },
  {
   "cell_type": "code",
   "execution_count": 9,
   "metadata": {},
   "outputs": [
    {
     "name": "stdout",
     "output_type": "stream",
     "text": [
      "Destination Root File Already Exists\n",
      "CPU times: user 379 ms, sys: 117 ms, total: 496 ms\n",
      "Wall time: 673 ms\n"
     ]
    }
   ],
   "source": [
    "%%time\n",
    "from librosa import load as load_audio\n",
    "from librosa.feature import mfcc as create_mfcc\n",
    "from tqdm import tqdm\n",
    "from concurrent.futures import ThreadPoolExecutor\n",
    "import glob, os, shutil\n",
    "\n",
    "# Create place to save mfcc\n",
    "src = os.path.join(openmic_file_dir, 'audio/')\n",
    "dest = os.path.join(openmic_file_dir, 'npy_audio/')\n",
    "\n",
    "def copy_tree(src, dest):\n",
    "    \n",
    "    def ig_f(dir, files):\n",
    "        return [f for f in files if os.path.isfile(os.path.join(dir, f))]\n",
    "    \n",
    "    if os.path.exists(dest):\n",
    "        print('Destination Root File Already Exists')\n",
    "    else:\n",
    "        shutil.copytree(src, dest, ignore=ig_f)\n",
    "        \n",
    "copy_tree(src, dest)"
   ]
  },
  {
   "cell_type": "code",
   "execution_count": 12,
   "metadata": {},
   "outputs": [],
   "source": [
    "file_list = glob.glob(src + '**/*.ogg', recursive=True)"
   ]
  },
  {
   "cell_type": "code",
   "execution_count": 38,
   "metadata": {},
   "outputs": [
    {
     "data": {
      "text/plain": [
       "20000"
      ]
     },
     "execution_count": 38,
     "metadata": {},
     "output_type": "execute_result"
    }
   ],
   "source": [
    "len(file_list)"
   ]
  },
  {
   "cell_type": "code",
   "execution_count": 14,
   "metadata": {
    "scrolled": true
   },
   "outputs": [
    {
     "name": "stderr",
     "output_type": "stream",
     "text": [
      "100%|██████████| 1666/1666 [37:28<00:00,  1.35s/it]\n",
      "100%|██████████| 1667/1667 [37:29<00:00,  1.35s/it]\n",
      "100%|██████████| 1667/1667 [37:31<00:00,  1.35s/it]\n",
      "100%|██████████| 1667/1667 [37:32<00:00,  1.35s/it]\n",
      "100%|██████████| 1667/1667 [37:34<00:00,  1.35s/it]\n",
      "100%|██████████| 1667/1667 [37:34<00:00,  1.35s/it]\n",
      "100%|██████████| 1667/1667 [37:35<00:00,  1.35s/it]\n",
      "100%|██████████| 1666/1666 [37:35<00:00,  1.35s/it]\n",
      "100%|██████████| 1667/1667 [37:35<00:00,  1.35s/it]\n",
      "100%|██████████| 1666/1666 [37:37<00:00,  1.35s/it]\n",
      "100%|██████████| 1667/1667 [37:37<00:00,  1.35s/it]\n",
      "100%|██████████| 1666/1666 [37:37<00:00,  1.36s/it]\n",
      "100%|██████████| 12/12 [37:37<00:00, 188.15s/it]\n"
     ]
    }
   ],
   "source": [
    "def make_mfcc(file_chunk):\n",
    "    for file in tqdm(file_chunk, position=0, leave=True):\n",
    "        sr = 8000\n",
    "        audio, sr = load_audio(file, sr=sr)\n",
    "        clip_path = '/'.join(file.split('/')[-2:])\n",
    "        clip_path = dest + clip_path.split('.')[0] + '.npy'\n",
    "        np.save(clip_path, create_mfcc(audio, sr=sr, n_mfcc=20))\n",
    "    \n",
    "file_list = glob.glob(src + '**/*.ogg', recursive=True)\n",
    "\n",
    "max_workers = os.cpu_count()\n",
    "chunked_file_list = np.array_split(file_list, max_workers)\n",
    "\n",
    "with ThreadPoolExecutor(max_workers=max_workers) as executor:\n",
    "    _ = list(tqdm(executor.map(make_mfcc, chunked_file_list), total=len(chunked_file_list), \n",
    "                       position=0, leave=True))"
   ]
  },
  {
   "cell_type": "code",
   "execution_count": 15,
   "metadata": {},
   "outputs": [
    {
     "data": {
      "text/html": [
       "<div>\n",
       "<style scoped>\n",
       "    .dataframe tbody tr th:only-of-type {\n",
       "        vertical-align: middle;\n",
       "    }\n",
       "\n",
       "    .dataframe tbody tr th {\n",
       "        vertical-align: top;\n",
       "    }\n",
       "\n",
       "    .dataframe thead th {\n",
       "        text-align: right;\n",
       "    }\n",
       "</style>\n",
       "<table border=\"1\" class=\"dataframe\">\n",
       "  <thead>\n",
       "    <tr style=\"text-align: right;\">\n",
       "      <th></th>\n",
       "      <th>sample_key</th>\n",
       "      <th>path</th>\n",
       "    </tr>\n",
       "  </thead>\n",
       "  <tbody>\n",
       "    <tr>\n",
       "      <th>0</th>\n",
       "      <td>000046_3840</td>\n",
       "      <td>../data/openmic-2018/npy_audio/000/000046_3840...</td>\n",
       "    </tr>\n",
       "    <tr>\n",
       "      <th>1</th>\n",
       "      <td>000135_483840</td>\n",
       "      <td>../data/openmic-2018/npy_audio/000/000135_4838...</td>\n",
       "    </tr>\n",
       "    <tr>\n",
       "      <th>2</th>\n",
       "      <td>000139_119040</td>\n",
       "      <td>../data/openmic-2018/npy_audio/000/000139_1190...</td>\n",
       "    </tr>\n",
       "    <tr>\n",
       "      <th>3</th>\n",
       "      <td>000141_153600</td>\n",
       "      <td>../data/openmic-2018/npy_audio/000/000141_1536...</td>\n",
       "    </tr>\n",
       "    <tr>\n",
       "      <th>4</th>\n",
       "      <td>000144_30720</td>\n",
       "      <td>../data/openmic-2018/npy_audio/000/000144_3072...</td>\n",
       "    </tr>\n",
       "    <tr>\n",
       "      <th>...</th>\n",
       "      <td>...</td>\n",
       "      <td>...</td>\n",
       "    </tr>\n",
       "    <tr>\n",
       "      <th>14910</th>\n",
       "      <td>155294_184320</td>\n",
       "      <td>../data/openmic-2018/npy_audio/155/155294_1843...</td>\n",
       "    </tr>\n",
       "    <tr>\n",
       "      <th>14911</th>\n",
       "      <td>155295_76800</td>\n",
       "      <td>../data/openmic-2018/npy_audio/155/155295_7680...</td>\n",
       "    </tr>\n",
       "    <tr>\n",
       "      <th>14912</th>\n",
       "      <td>155307_211200</td>\n",
       "      <td>../data/openmic-2018/npy_audio/155/155307_2112...</td>\n",
       "    </tr>\n",
       "    <tr>\n",
       "      <th>14913</th>\n",
       "      <td>155310_372480</td>\n",
       "      <td>../data/openmic-2018/npy_audio/155/155310_3724...</td>\n",
       "    </tr>\n",
       "    <tr>\n",
       "      <th>14914</th>\n",
       "      <td>155311_453120</td>\n",
       "      <td>../data/openmic-2018/npy_audio/155/155311_4531...</td>\n",
       "    </tr>\n",
       "  </tbody>\n",
       "</table>\n",
       "<p>14915 rows × 2 columns</p>\n",
       "</div>"
      ],
      "text/plain": [
       "          sample_key                                               path\n",
       "0        000046_3840  ../data/openmic-2018/npy_audio/000/000046_3840...\n",
       "1      000135_483840  ../data/openmic-2018/npy_audio/000/000135_4838...\n",
       "2      000139_119040  ../data/openmic-2018/npy_audio/000/000139_1190...\n",
       "3      000141_153600  ../data/openmic-2018/npy_audio/000/000141_1536...\n",
       "4       000144_30720  ../data/openmic-2018/npy_audio/000/000144_3072...\n",
       "...              ...                                                ...\n",
       "14910  155294_184320  ../data/openmic-2018/npy_audio/155/155294_1843...\n",
       "14911   155295_76800  ../data/openmic-2018/npy_audio/155/155295_7680...\n",
       "14912  155307_211200  ../data/openmic-2018/npy_audio/155/155307_2112...\n",
       "14913  155310_372480  ../data/openmic-2018/npy_audio/155/155310_3724...\n",
       "14914  155311_453120  ../data/openmic-2018/npy_audio/155/155311_4531...\n",
       "\n",
       "[14915 rows x 2 columns]"
      ]
     },
     "execution_count": 15,
     "metadata": {},
     "output_type": "execute_result"
    }
   ],
   "source": [
    "train_npy_df = pd.DataFrame({'path': file_list})\n",
    "\n",
    "def get_sample_key(x):\n",
    "    base = x.split('/')[-1]\n",
    "    return base.split('.')[0]\n",
    "\n",
    "def fix_path(x):\n",
    "    clip_path = '/'.join(x.split('/')[-2:])\n",
    "    return dest + clip_path.split('.')[0] + '.npy'\n",
    "\n",
    "train_npy_df['sample_key'] = train_npy_df['path'].apply(get_sample_key)\n",
    "train_npy_df['path'] = train_npy_df['path'].apply(fix_path)\n",
    "train_npy_df = train_keys_df.merge(train_npy_df, on='sample_key', how='left')\n",
    "train_npy_df"
   ]
  },
  {
   "cell_type": "code",
   "execution_count": 39,
   "metadata": {},
   "outputs": [
    {
     "data": {
      "text/html": [
       "<div>\n",
       "<style scoped>\n",
       "    .dataframe tbody tr th:only-of-type {\n",
       "        vertical-align: middle;\n",
       "    }\n",
       "\n",
       "    .dataframe tbody tr th {\n",
       "        vertical-align: top;\n",
       "    }\n",
       "\n",
       "    .dataframe thead th {\n",
       "        text-align: right;\n",
       "    }\n",
       "</style>\n",
       "<table border=\"1\" class=\"dataframe\">\n",
       "  <thead>\n",
       "    <tr style=\"text-align: right;\">\n",
       "      <th></th>\n",
       "      <th>sample_key</th>\n",
       "      <th>path</th>\n",
       "    </tr>\n",
       "  </thead>\n",
       "  <tbody>\n",
       "    <tr>\n",
       "      <th>0</th>\n",
       "      <td>000178_3840</td>\n",
       "      <td>../data/openmic-2018/npy_audio/000/000178_3840...</td>\n",
       "    </tr>\n",
       "    <tr>\n",
       "      <th>1</th>\n",
       "      <td>000308_61440</td>\n",
       "      <td>../data/openmic-2018/npy_audio/000/000308_6144...</td>\n",
       "    </tr>\n",
       "    <tr>\n",
       "      <th>2</th>\n",
       "      <td>000312_184320</td>\n",
       "      <td>../data/openmic-2018/npy_audio/000/000312_1843...</td>\n",
       "    </tr>\n",
       "    <tr>\n",
       "      <th>3</th>\n",
       "      <td>000319_145920</td>\n",
       "      <td>../data/openmic-2018/npy_audio/000/000319_1459...</td>\n",
       "    </tr>\n",
       "    <tr>\n",
       "      <th>4</th>\n",
       "      <td>000321_218880</td>\n",
       "      <td>../data/openmic-2018/npy_audio/000/000321_2188...</td>\n",
       "    </tr>\n",
       "    <tr>\n",
       "      <th>...</th>\n",
       "      <td>...</td>\n",
       "      <td>...</td>\n",
       "    </tr>\n",
       "    <tr>\n",
       "      <th>5080</th>\n",
       "      <td>155175_38400</td>\n",
       "      <td>../data/openmic-2018/npy_audio/155/155175_3840...</td>\n",
       "    </tr>\n",
       "    <tr>\n",
       "      <th>5081</th>\n",
       "      <td>155176_23040</td>\n",
       "      <td>../data/openmic-2018/npy_audio/155/155176_2304...</td>\n",
       "    </tr>\n",
       "    <tr>\n",
       "      <th>5082</th>\n",
       "      <td>155178_0</td>\n",
       "      <td>../data/openmic-2018/npy_audio/155/155178_0.npy</td>\n",
       "    </tr>\n",
       "    <tr>\n",
       "      <th>5083</th>\n",
       "      <td>155193_145920</td>\n",
       "      <td>../data/openmic-2018/npy_audio/155/155193_1459...</td>\n",
       "    </tr>\n",
       "    <tr>\n",
       "      <th>5084</th>\n",
       "      <td>155194_126720</td>\n",
       "      <td>../data/openmic-2018/npy_audio/155/155194_1267...</td>\n",
       "    </tr>\n",
       "  </tbody>\n",
       "</table>\n",
       "<p>5085 rows × 2 columns</p>\n",
       "</div>"
      ],
      "text/plain": [
       "         sample_key                                               path\n",
       "0       000178_3840  ../data/openmic-2018/npy_audio/000/000178_3840...\n",
       "1      000308_61440  ../data/openmic-2018/npy_audio/000/000308_6144...\n",
       "2     000312_184320  ../data/openmic-2018/npy_audio/000/000312_1843...\n",
       "3     000319_145920  ../data/openmic-2018/npy_audio/000/000319_1459...\n",
       "4     000321_218880  ../data/openmic-2018/npy_audio/000/000321_2188...\n",
       "...             ...                                                ...\n",
       "5080   155175_38400  ../data/openmic-2018/npy_audio/155/155175_3840...\n",
       "5081   155176_23040  ../data/openmic-2018/npy_audio/155/155176_2304...\n",
       "5082       155178_0    ../data/openmic-2018/npy_audio/155/155178_0.npy\n",
       "5083  155193_145920  ../data/openmic-2018/npy_audio/155/155193_1459...\n",
       "5084  155194_126720  ../data/openmic-2018/npy_audio/155/155194_1267...\n",
       "\n",
       "[5085 rows x 2 columns]"
      ]
     },
     "execution_count": 39,
     "metadata": {},
     "output_type": "execute_result"
    }
   ],
   "source": [
    "test_npy_df = pd.DataFrame({'path' : file_list})\n",
    "\n",
    "test_npy_df['sample_key'] = test_npy_df['path'].apply(get_sample_key)\n",
    "test_npy_df['path'] = test_npy_df['path'].apply(fix_path)\n",
    "test_npy_df = test_keys_df.merge(test_npy_df, on='sample_key', how='left')\n",
    "test_npy_df"
   ]
  },
  {
   "cell_type": "code",
   "execution_count": 16,
   "metadata": {},
   "outputs": [
    {
     "name": "stderr",
     "output_type": "stream",
     "text": [
      "100%|██████████| 14915/14915 [00:12<00:00, 1169.87it/s]\n"
     ]
    }
   ],
   "source": [
    "#train mfccs\n",
    "mfccs = []\n",
    "for file in tqdm(train_npy_df['path']):\n",
    "    mfccs.append(np.load(file, allow_pickle=True))\n",
    "    \n",
    "mfccs = np.hstack(mfccs)"
   ]
  },
  {
   "cell_type": "code",
   "execution_count": 40,
   "metadata": {},
   "outputs": [
    {
     "name": "stderr",
     "output_type": "stream",
     "text": [
      "100%|██████████| 5085/5085 [00:03<00:00, 1274.01it/s]\n"
     ]
    }
   ],
   "source": [
    "#test mfss\n",
    "mfccs_test = []\n",
    "for file in tqdm(test_npy_df['path']):\n",
    "    mfccs_test.append(np.load(file, allow_pickle=True))\n",
    "    \n",
    "mfccs_test = np.hstack(mfccs_test)"
   ]
  },
  {
   "cell_type": "code",
   "execution_count": 17,
   "metadata": {},
   "outputs": [],
   "source": [
    "train_set_mean = np.mean(mfccs, axis=1, keepdims=True)\n",
    "train_set_std = np.std(mfccs, axis=1, keepdims=True)"
   ]
  },
  {
   "cell_type": "code",
   "execution_count": 18,
   "metadata": {},
   "outputs": [
    {
     "name": "stderr",
     "output_type": "stream",
     "text": [
      "100%|██████████| 20000/20000 [00:32<00:00, 615.19it/s]\n"
     ]
    }
   ],
   "source": [
    "# Glorot initialize all mfccs \n",
    "npy_file_list = [fix_path(x) for x in file_list]\n",
    "\n",
    "for file in tqdm(npy_file_list):\n",
    "    mfccs = np.load(file, allow_pickle=True)\n",
    "    mfccs = (mfccs-train_set_mean)/train_set_std\n",
    "    np.save(file, mfccs)"
   ]
  },
  {
   "cell_type": "code",
   "execution_count": null,
   "metadata": {},
   "outputs": [],
   "source": [
    "# Glorot initialize all mfccs \n",
    "npy_file_list = [fix_path(x) for x in file_list]\n",
    "\n",
    "for file in tqdm(npy_file_list):\n",
    "    mfccs = np.load(file, allow_pickle=True)\n",
    "    mfccs = (mfccs-train_set_mean)/train_set_std\n",
    "    np.save(file, mfccs)"
   ]
  },
  {
   "cell_type": "code",
   "execution_count": 16,
   "metadata": {},
   "outputs": [
    {
     "name": "stderr",
     "output_type": "stream",
     "text": [
      "100%|██████████| 14915/14915 [00:10<00:00, 1403.33it/s]\n"
     ]
    }
   ],
   "source": [
    "mfccs_mean_std = []\n",
    "for file in tqdm(train_npy_df['path']):\n",
    "    mfccs_mean_std.append(np.load(file, allow_pickle=True))\n",
    "    \n",
    "mfccs_mean_std = np.array(mfccs_mean_std)"
   ]
  },
  {
   "cell_type": "code",
   "execution_count": 41,
   "metadata": {},
   "outputs": [
    {
     "name": "stderr",
     "output_type": "stream",
     "text": [
      "100%|██████████| 5085/5085 [00:01<00:00, 3659.06it/s]\n"
     ]
    }
   ],
   "source": [
    "test_mfccs_mean_std = []\n",
    "for file in tqdm(test_npy_df['path']):\n",
    "    test_mfccs_mean_std.append(np.load(file, allow_pickle=True))\n",
    "    \n",
    "test_mfccs_mean_std = np.array(test_mfccs_mean_std)"
   ]
  },
  {
   "cell_type": "code",
   "execution_count": 33,
   "metadata": {
    "scrolled": true
   },
   "outputs": [
    {
     "data": {
      "text/plain": [
       "(14915, 20, 157)"
      ]
     },
     "execution_count": 33,
     "metadata": {},
     "output_type": "execute_result"
    }
   ],
   "source": [
    "mfccs_mean_std.shape"
   ]
  },
  {
   "cell_type": "code",
   "execution_count": 42,
   "metadata": {},
   "outputs": [
    {
     "data": {
      "text/plain": [
       "(5085, 20, 157)"
      ]
     },
     "execution_count": 42,
     "metadata": {},
     "output_type": "execute_result"
    }
   ],
   "source": [
    "test_mfccs_mean_std.shape"
   ]
  },
  {
   "cell_type": "markdown",
   "metadata": {},
   "source": [
    "**Insert architecture here**"
   ]
  },
  {
   "cell_type": "code",
   "execution_count": 29,
   "metadata": {
    "scrolled": false
   },
   "outputs": [
    {
     "name": "stdout",
     "output_type": "stream",
     "text": [
      "Model: \"model_7\"\n",
      "__________________________________________________________________________________________________\n",
      "Layer (type)                    Output Shape         Param #     Connected to                     \n",
      "==================================================================================================\n",
      "input_11 (InputLayer)           [(None, 10, 128)]    0                                            \n",
      "__________________________________________________________________________________________________\n",
      "input_9 (InputLayer)            [(None, 10, 128)]    0                                            \n",
      "__________________________________________________________________________________________________\n",
      "input_10 (InputLayer)           [(None, 20, 157)]    0                                            \n",
      "__________________________________________________________________________________________________\n",
      "global_average_pooling1d_1 (Glo (None, 128)          0           input_11[0][0]                   \n",
      "__________________________________________________________________________________________________\n",
      "global_variance_pooling1d_1 (Gl (None, 128)          0           input_11[0][0]                   \n",
      "__________________________________________________________________________________________________\n",
      "flatten_7 (Flatten)             (None, 1280)         0           input_9[0][0]                    \n",
      "__________________________________________________________________________________________________\n",
      "flatten_8 (Flatten)             (None, 3140)         0           input_10[0][0]                   \n",
      "__________________________________________________________________________________________________\n",
      "concatenate_4 (Concatenate)     (None, 256)          0           global_average_pooling1d_1[0][0] \n",
      "                                                                 global_variance_pooling1d_1[0][0]\n",
      "__________________________________________________________________________________________________\n",
      "dense_27 (Dense)                (None, 500)          640500      flatten_7[0][0]                  \n",
      "__________________________________________________________________________________________________\n",
      "dense_30 (Dense)                (None, 500)          1570500     flatten_8[0][0]                  \n",
      "__________________________________________________________________________________________________\n",
      "dense_33 (Dense)                (None, 500)          128500      concatenate_4[0][0]              \n",
      "__________________________________________________________________________________________________\n",
      "dense_28 (Dense)                (None, 250)          125250      dense_27[0][0]                   \n",
      "__________________________________________________________________________________________________\n",
      "dense_31 (Dense)                (None, 250)          125250      dense_30[0][0]                   \n",
      "__________________________________________________________________________________________________\n",
      "dense_34 (Dense)                (None, 250)          125250      dense_33[0][0]                   \n",
      "__________________________________________________________________________________________________\n",
      "dense_29 (Dense)                (None, 100)          25100       dense_28[0][0]                   \n",
      "__________________________________________________________________________________________________\n",
      "dense_32 (Dense)                (None, 100)          25100       dense_31[0][0]                   \n",
      "__________________________________________________________________________________________________\n",
      "dense_35 (Dense)                (None, 100)          25100       dense_34[0][0]                   \n",
      "__________________________________________________________________________________________________\n",
      "concatenate_5 (Concatenate)     (None, 300)          0           dense_29[0][0]                   \n",
      "                                                                 dense_32[0][0]                   \n",
      "                                                                 dense_35[0][0]                   \n",
      "__________________________________________________________________________________________________\n",
      "dense_36 (Dense)                (None, 20)           6020        concatenate_5[0][0]              \n",
      "==================================================================================================\n",
      "Total params: 2,796,570\n",
      "Trainable params: 2,796,570\n",
      "Non-trainable params: 0\n",
      "__________________________________________________________________________________________________\n"
     ]
    },
    {
     "data": {
      "image/png": "[encoded data removed]",
      "text/plain": [
       "<IPython.core.display.Image object>"
      ]
     },
     "execution_count": 29,
     "metadata": {},
     "output_type": "execute_result"
    }
   ],
   "source": [
    "from tensorflow.keras.layers import Flatten, Dense, Input, Layer, GlobalAveragePooling1D, concatenate\n",
    "from tensorflow.keras.optimizers import Adam\n",
    "from tensorflow.keras.callbacks import ReduceLROnPlateau, ModelCheckpoint, EarlyStopping\n",
    "from tensorflow.keras import Model\n",
    "import tensorflow.keras.backend as K\n",
    "from tensorflow.keras.utils import plot_model\n",
    "import pydot\n",
    "import graphviz\n",
    "\n",
    "def create_nn():\n",
    "    inputs = Input(shape=(10, 128))\n",
    "    net = Flatten()(inputs)\n",
    "    net = Dense(500, activation='relu')(net)\n",
    "    net = Dense(250, activation='relu')(net)\n",
    "    net = Dense(100, activation='relu')(net)\n",
    "    #output = Dense(20, activation='linear')(net)\n",
    "    \n",
    "    \n",
    "    model = Model(inputs, net)\n",
    "    '''    adam = Adam(1e-4)\n",
    "    model.compile(loss='mse', optimizer=adam, metrics=['mse', 'mae'])'''\n",
    "    \n",
    "    return model\n",
    "\n",
    "\n",
    "class GlobalVariancePooling1D(Layer):\n",
    "    def __init__(self, **kwargs):\n",
    "        super().__init__(**kwargs)\n",
    "        \n",
    "    def call(self, x):\n",
    "        return K.var(x, axis=1)\n",
    "    \n",
    "    \n",
    "def create_nn_x_vec():\n",
    "    inputs = Input(shape=(10, 128))\n",
    "    gap = GlobalAveragePooling1D()(inputs)\n",
    "    gvp = GlobalVariancePooling1D()(inputs)\n",
    "    net = concatenate([gap, gvp])\n",
    "    net = Dense(500, activation='relu')(net)\n",
    "    net = Dense(250, activation='relu')(net)\n",
    "    net = Dense(100, activation='relu')(net)\n",
    "    #output = Dense(20, activation='linear')(net)\n",
    "    \n",
    "    \n",
    "    model = Model(inputs, net)\n",
    "    ''' adam = Adam(1e-4)\n",
    "    model.compile(loss='mse', optimizer=adam, metrics=['mse', 'mae'])'''\n",
    "    \n",
    "    return model\n",
    "\n",
    "\n",
    "def create_mfcc_nn():\n",
    "    inputs = Input(shape=(20, 157))\n",
    "    net = Flatten()(inputs)\n",
    "    net = Dense(500, activation='relu')(net)\n",
    "    net = Dense(250, activation='relu')(net)\n",
    "    net = Dense(100, activation='relu')(net)\n",
    "    \n",
    "    model = Model(inputs, net)\n",
    "    \n",
    "    \n",
    "    return model\n",
    "\n",
    "def create_multi_modal_nn():\n",
    "    m1 = create_nn()\n",
    "    m2 = create_mfcc_nn()\n",
    "    m3 = create_nn_x_vec()\n",
    "    \n",
    "    net = tf.keras.layers.Concatenate()([m1.output, m2.output, m3.output])\n",
    "    output = Dense(20, activation='relu')(net)\n",
    "    \n",
    "    model = Model(inputs=[m1.input, m2.input, m3.input], outputs=[output])\n",
    "    \n",
    "    adam = Adam(1e-4)\n",
    "    model.compile(loss='mse', optimizer=adam, metrics=['mse', 'mae']) \n",
    "    \n",
    "    return model\n",
    "\n",
    "\n",
    "\n",
    "multi_modal_nn = create_multi_modal_nn()\n",
    "multi_modal_nn.summary()\n",
    "\n",
    "plot_model(multi_modal_nn)"
   ]
  },
  {
   "cell_type": "markdown",
   "metadata": {},
   "source": [
    "## Training"
   ]
  },
  {
   "cell_type": "code",
   "execution_count": 50,
   "metadata": {},
   "outputs": [],
   "source": [
    "# from tensorflow.data.Dataset import from_tensor_slices\n",
    "batch_size = 16\n",
    "\n",
    "# Convert to tf data\n",
    "train_dataset = tf.data.Dataset.from_tensor_slices(({'train_input_1':x_train,'train_input_2':mfccs_mean_std,'train_input_3':x_train}, y_train)).cache().shuffle(100).batch(batch_size).repeat()\n",
    "test_dataset = tf.data.Dataset.from_tensor_slices(({'test_input_1':x_test,'test_input_2':test_mfccs_mean_std,'test_input_3':x_test}, y_test)).cache().shuffle(100).batch(batch_size).repeat()"
   ]
  },
  {
   "cell_type": "code",
   "execution_count": 51,
   "metadata": {},
   "outputs": [
    {
     "data": {
      "text/plain": [
       "<RepeatDataset shapes: ({train_input_1: (None, 10, 128), train_input_2: (None, 20, 157), train_input_3: (None, 10, 128)}, (None, 20)), types: ({train_input_1: tf.int64, train_input_2: tf.float32, train_input_3: tf.int64}, tf.float64)>"
      ]
     },
     "execution_count": 51,
     "metadata": {},
     "output_type": "execute_result"
    }
   ],
   "source": [
    "train_dataset"
   ]
  },
  {
   "cell_type": "code",
   "execution_count": 57,
   "metadata": {},
   "outputs": [
    {
     "name": "stdout",
     "output_type": "stream",
     "text": [
      "Train for 935 steps\n",
      "Epoch 1/1000\n",
      "  1/935 [..............................] - ETA: 8:03WARNING:tensorflow:Reduce LR on plateau conditioned on metric `val_loss` which is not available. Available metrics are: lr\n",
      "WARNING:tensorflow:Early stopping conditioned on metric `val_loss` which is not available. Available metrics are: \n"
     ]
    },
    {
     "ename": "KeyError",
     "evalue": "'input_9'",
     "output_type": "error",
     "traceback": [
      "\u001b[0;31m---------------------------------------------------------------------------\u001b[0m",
      "\u001b[0;31mKeyError\u001b[0m                                  Traceback (most recent call last)",
      "\u001b[0;32m<ipython-input-57-82eee7c13c48>\u001b[0m in \u001b[0;36m<module>\u001b[0;34m\u001b[0m\n\u001b[1;32m     11\u001b[0m                     \u001b[0msteps_per_epoch\u001b[0m\u001b[0;34m=\u001b[0m\u001b[0mtrain_steps_per_epoch\u001b[0m\u001b[0;34m,\u001b[0m\u001b[0;34m\u001b[0m\u001b[0;34m\u001b[0m\u001b[0m\n\u001b[1;32m     12\u001b[0m                     \u001b[0;31m#validation_steps=val_steps_per_epoch,\u001b[0m\u001b[0;34m\u001b[0m\u001b[0;34m\u001b[0m\u001b[0;34m\u001b[0m\u001b[0m\n\u001b[0;32m---> 13\u001b[0;31m                     verbose=1)\n\u001b[0m\u001b[1;32m     14\u001b[0m \u001b[0;34m\u001b[0m\u001b[0m\n\u001b[1;32m     15\u001b[0m \u001b[0mprint\u001b[0m\u001b[0;34m(\u001b[0m\u001b[0;34m'='\u001b[0m\u001b[0;34m*\u001b[0m\u001b[0;36m117\u001b[0m\u001b[0;34m)\u001b[0m\u001b[0;34m\u001b[0m\u001b[0;34m\u001b[0m\u001b[0m\n",
      "\u001b[0;32m~/anaconda3/envs/tf-2.0/lib/python3.6/site-packages/tensorflow_core/python/keras/engine/training.py\u001b[0m in \u001b[0;36mfit\u001b[0;34m(self, x, y, batch_size, epochs, verbose, callbacks, validation_split, validation_data, shuffle, class_weight, sample_weight, initial_epoch, steps_per_epoch, validation_steps, validation_freq, max_queue_size, workers, use_multiprocessing, **kwargs)\u001b[0m\n\u001b[1;32m    726\u001b[0m         \u001b[0mmax_queue_size\u001b[0m\u001b[0;34m=\u001b[0m\u001b[0mmax_queue_size\u001b[0m\u001b[0;34m,\u001b[0m\u001b[0;34m\u001b[0m\u001b[0;34m\u001b[0m\u001b[0m\n\u001b[1;32m    727\u001b[0m         \u001b[0mworkers\u001b[0m\u001b[0;34m=\u001b[0m\u001b[0mworkers\u001b[0m\u001b[0;34m,\u001b[0m\u001b[0;34m\u001b[0m\u001b[0;34m\u001b[0m\u001b[0m\n\u001b[0;32m--> 728\u001b[0;31m         use_multiprocessing=use_multiprocessing)\n\u001b[0m\u001b[1;32m    729\u001b[0m \u001b[0;34m\u001b[0m\u001b[0m\n\u001b[1;32m    730\u001b[0m   def evaluate(self,\n",
      "\u001b[0;32m~/anaconda3/envs/tf-2.0/lib/python3.6/site-packages/tensorflow_core/python/keras/engine/training_v2.py\u001b[0m in \u001b[0;36mfit\u001b[0;34m(self, model, x, y, batch_size, epochs, verbose, callbacks, validation_split, validation_data, shuffle, class_weight, sample_weight, initial_epoch, steps_per_epoch, validation_steps, validation_freq, **kwargs)\u001b[0m\n\u001b[1;32m    322\u001b[0m                 \u001b[0mmode\u001b[0m\u001b[0;34m=\u001b[0m\u001b[0mModeKeys\u001b[0m\u001b[0;34m.\u001b[0m\u001b[0mTRAIN\u001b[0m\u001b[0;34m,\u001b[0m\u001b[0;34m\u001b[0m\u001b[0;34m\u001b[0m\u001b[0m\n\u001b[1;32m    323\u001b[0m                 \u001b[0mtraining_context\u001b[0m\u001b[0;34m=\u001b[0m\u001b[0mtraining_context\u001b[0m\u001b[0;34m,\u001b[0m\u001b[0;34m\u001b[0m\u001b[0;34m\u001b[0m\u001b[0m\n\u001b[0;32m--> 324\u001b[0;31m                 total_epochs=epochs)\n\u001b[0m\u001b[1;32m    325\u001b[0m             \u001b[0mcbks\u001b[0m\u001b[0;34m.\u001b[0m\u001b[0mmake_logs\u001b[0m\u001b[0;34m(\u001b[0m\u001b[0mmodel\u001b[0m\u001b[0;34m,\u001b[0m \u001b[0mepoch_logs\u001b[0m\u001b[0;34m,\u001b[0m \u001b[0mtraining_result\u001b[0m\u001b[0;34m,\u001b[0m \u001b[0mModeKeys\u001b[0m\u001b[0;34m.\u001b[0m\u001b[0mTRAIN\u001b[0m\u001b[0;34m)\u001b[0m\u001b[0;34m\u001b[0m\u001b[0;34m\u001b[0m\u001b[0m\n\u001b[1;32m    326\u001b[0m \u001b[0;34m\u001b[0m\u001b[0m\n",
      "\u001b[0;32m~/anaconda3/envs/tf-2.0/lib/python3.6/site-packages/tensorflow_core/python/keras/engine/training_v2.py\u001b[0m in \u001b[0;36mrun_one_epoch\u001b[0;34m(model, iterator, execution_function, dataset_size, batch_size, strategy, steps_per_epoch, num_samples, mode, training_context, total_epochs)\u001b[0m\n\u001b[1;32m    121\u001b[0m         step=step, mode=mode, size=current_batch_size) as batch_logs:\n\u001b[1;32m    122\u001b[0m       \u001b[0;32mtry\u001b[0m\u001b[0;34m:\u001b[0m\u001b[0;34m\u001b[0m\u001b[0;34m\u001b[0m\u001b[0m\n\u001b[0;32m--> 123\u001b[0;31m         \u001b[0mbatch_outs\u001b[0m \u001b[0;34m=\u001b[0m \u001b[0mexecution_function\u001b[0m\u001b[0;34m(\u001b[0m\u001b[0miterator\u001b[0m\u001b[0;34m)\u001b[0m\u001b[0;34m\u001b[0m\u001b[0;34m\u001b[0m\u001b[0m\n\u001b[0m\u001b[1;32m    124\u001b[0m       \u001b[0;32mexcept\u001b[0m \u001b[0;34m(\u001b[0m\u001b[0mStopIteration\u001b[0m\u001b[0;34m,\u001b[0m \u001b[0merrors\u001b[0m\u001b[0;34m.\u001b[0m\u001b[0mOutOfRangeError\u001b[0m\u001b[0;34m)\u001b[0m\u001b[0;34m:\u001b[0m\u001b[0;34m\u001b[0m\u001b[0;34m\u001b[0m\u001b[0m\n\u001b[1;32m    125\u001b[0m         \u001b[0;31m# TODO(kaftan): File bug about tf function and errors.OutOfRangeError?\u001b[0m\u001b[0;34m\u001b[0m\u001b[0;34m\u001b[0m\u001b[0;34m\u001b[0m\u001b[0m\n",
      "\u001b[0;32m~/anaconda3/envs/tf-2.0/lib/python3.6/site-packages/tensorflow_core/python/keras/engine/training_v2_utils.py\u001b[0m in \u001b[0;36mexecution_function\u001b[0;34m(input_fn)\u001b[0m\n\u001b[1;32m     84\u001b[0m     \u001b[0;31m# `numpy` translates Tensors to values in Eager mode.\u001b[0m\u001b[0;34m\u001b[0m\u001b[0;34m\u001b[0m\u001b[0;34m\u001b[0m\u001b[0m\n\u001b[1;32m     85\u001b[0m     return nest.map_structure(_non_none_constant_value,\n\u001b[0;32m---> 86\u001b[0;31m                               distributed_function(input_fn))\n\u001b[0m\u001b[1;32m     87\u001b[0m \u001b[0;34m\u001b[0m\u001b[0m\n\u001b[1;32m     88\u001b[0m   \u001b[0;32mreturn\u001b[0m \u001b[0mexecution_function\u001b[0m\u001b[0;34m\u001b[0m\u001b[0;34m\u001b[0m\u001b[0m\n",
      "\u001b[0;32m~/anaconda3/envs/tf-2.0/lib/python3.6/site-packages/tensorflow_core/python/eager/def_function.py\u001b[0m in \u001b[0;36m__call__\u001b[0;34m(self, *args, **kwds)\u001b[0m\n\u001b[1;32m    455\u001b[0m \u001b[0;34m\u001b[0m\u001b[0m\n\u001b[1;32m    456\u001b[0m     \u001b[0mtracing_count\u001b[0m \u001b[0;34m=\u001b[0m \u001b[0mself\u001b[0m\u001b[0;34m.\u001b[0m\u001b[0m_get_tracing_count\u001b[0m\u001b[0;34m(\u001b[0m\u001b[0;34m)\u001b[0m\u001b[0;34m\u001b[0m\u001b[0;34m\u001b[0m\u001b[0m\n\u001b[0;32m--> 457\u001b[0;31m     \u001b[0mresult\u001b[0m \u001b[0;34m=\u001b[0m \u001b[0mself\u001b[0m\u001b[0;34m.\u001b[0m\u001b[0m_call\u001b[0m\u001b[0;34m(\u001b[0m\u001b[0;34m*\u001b[0m\u001b[0margs\u001b[0m\u001b[0;34m,\u001b[0m \u001b[0;34m**\u001b[0m\u001b[0mkwds\u001b[0m\u001b[0;34m)\u001b[0m\u001b[0;34m\u001b[0m\u001b[0;34m\u001b[0m\u001b[0m\n\u001b[0m\u001b[1;32m    458\u001b[0m     \u001b[0;32mif\u001b[0m \u001b[0mtracing_count\u001b[0m \u001b[0;34m==\u001b[0m \u001b[0mself\u001b[0m\u001b[0;34m.\u001b[0m\u001b[0m_get_tracing_count\u001b[0m\u001b[0;34m(\u001b[0m\u001b[0;34m)\u001b[0m\u001b[0;34m:\u001b[0m\u001b[0;34m\u001b[0m\u001b[0;34m\u001b[0m\u001b[0m\n\u001b[1;32m    459\u001b[0m       \u001b[0mself\u001b[0m\u001b[0;34m.\u001b[0m\u001b[0m_call_counter\u001b[0m\u001b[0;34m.\u001b[0m\u001b[0mcalled_without_tracing\u001b[0m\u001b[0;34m(\u001b[0m\u001b[0;34m)\u001b[0m\u001b[0;34m\u001b[0m\u001b[0;34m\u001b[0m\u001b[0m\n",
      "\u001b[0;32m~/anaconda3/envs/tf-2.0/lib/python3.6/site-packages/tensorflow_core/python/eager/def_function.py\u001b[0m in \u001b[0;36m_call\u001b[0;34m(self, *args, **kwds)\u001b[0m\n\u001b[1;32m    492\u001b[0m       \u001b[0;31m# In this case we have not created variables on the first call. So we can\u001b[0m\u001b[0;34m\u001b[0m\u001b[0;34m\u001b[0m\u001b[0;34m\u001b[0m\u001b[0m\n\u001b[1;32m    493\u001b[0m       \u001b[0;31m# run the first trace but we should fail if variables are created.\u001b[0m\u001b[0;34m\u001b[0m\u001b[0;34m\u001b[0m\u001b[0;34m\u001b[0m\u001b[0m\n\u001b[0;32m--> 494\u001b[0;31m       \u001b[0mresults\u001b[0m \u001b[0;34m=\u001b[0m \u001b[0mself\u001b[0m\u001b[0;34m.\u001b[0m\u001b[0m_stateful_fn\u001b[0m\u001b[0;34m(\u001b[0m\u001b[0;34m*\u001b[0m\u001b[0margs\u001b[0m\u001b[0;34m,\u001b[0m \u001b[0;34m**\u001b[0m\u001b[0mkwds\u001b[0m\u001b[0;34m)\u001b[0m\u001b[0;34m\u001b[0m\u001b[0;34m\u001b[0m\u001b[0m\n\u001b[0m\u001b[1;32m    495\u001b[0m       \u001b[0;32mif\u001b[0m \u001b[0mself\u001b[0m\u001b[0;34m.\u001b[0m\u001b[0m_created_variables\u001b[0m\u001b[0;34m:\u001b[0m\u001b[0;34m\u001b[0m\u001b[0;34m\u001b[0m\u001b[0m\n\u001b[1;32m    496\u001b[0m         raise ValueError(\"Creating variables on a non-first call to a function\"\n",
      "\u001b[0;32m~/anaconda3/envs/tf-2.0/lib/python3.6/site-packages/tensorflow_core/python/eager/function.py\u001b[0m in \u001b[0;36m__call__\u001b[0;34m(self, *args, **kwargs)\u001b[0m\n\u001b[1;32m   1820\u001b[0m   \u001b[0;32mdef\u001b[0m \u001b[0m__call__\u001b[0m\u001b[0;34m(\u001b[0m\u001b[0mself\u001b[0m\u001b[0;34m,\u001b[0m \u001b[0;34m*\u001b[0m\u001b[0margs\u001b[0m\u001b[0;34m,\u001b[0m \u001b[0;34m**\u001b[0m\u001b[0mkwargs\u001b[0m\u001b[0;34m)\u001b[0m\u001b[0;34m:\u001b[0m\u001b[0;34m\u001b[0m\u001b[0;34m\u001b[0m\u001b[0m\n\u001b[1;32m   1821\u001b[0m     \u001b[0;34m\"\"\"Calls a graph function specialized to the inputs.\"\"\"\u001b[0m\u001b[0;34m\u001b[0m\u001b[0;34m\u001b[0m\u001b[0m\n\u001b[0;32m-> 1822\u001b[0;31m     \u001b[0mgraph_function\u001b[0m\u001b[0;34m,\u001b[0m \u001b[0margs\u001b[0m\u001b[0;34m,\u001b[0m \u001b[0mkwargs\u001b[0m \u001b[0;34m=\u001b[0m \u001b[0mself\u001b[0m\u001b[0;34m.\u001b[0m\u001b[0m_maybe_define_function\u001b[0m\u001b[0;34m(\u001b[0m\u001b[0margs\u001b[0m\u001b[0;34m,\u001b[0m \u001b[0mkwargs\u001b[0m\u001b[0;34m)\u001b[0m\u001b[0;34m\u001b[0m\u001b[0;34m\u001b[0m\u001b[0m\n\u001b[0m\u001b[1;32m   1823\u001b[0m     \u001b[0;32mreturn\u001b[0m \u001b[0mgraph_function\u001b[0m\u001b[0;34m.\u001b[0m\u001b[0m_filtered_call\u001b[0m\u001b[0;34m(\u001b[0m\u001b[0margs\u001b[0m\u001b[0;34m,\u001b[0m \u001b[0mkwargs\u001b[0m\u001b[0;34m)\u001b[0m  \u001b[0;31m# pylint: disable=protected-access\u001b[0m\u001b[0;34m\u001b[0m\u001b[0;34m\u001b[0m\u001b[0m\n\u001b[1;32m   1824\u001b[0m \u001b[0;34m\u001b[0m\u001b[0m\n",
      "\u001b[0;32m~/anaconda3/envs/tf-2.0/lib/python3.6/site-packages/tensorflow_core/python/eager/function.py\u001b[0m in \u001b[0;36m_maybe_define_function\u001b[0;34m(self, args, kwargs)\u001b[0m\n\u001b[1;32m   2148\u001b[0m         \u001b[0mgraph_function\u001b[0m \u001b[0;34m=\u001b[0m \u001b[0mself\u001b[0m\u001b[0;34m.\u001b[0m\u001b[0m_function_cache\u001b[0m\u001b[0;34m.\u001b[0m\u001b[0mprimary\u001b[0m\u001b[0;34m.\u001b[0m\u001b[0mget\u001b[0m\u001b[0;34m(\u001b[0m\u001b[0mcache_key\u001b[0m\u001b[0;34m,\u001b[0m \u001b[0;32mNone\u001b[0m\u001b[0;34m)\u001b[0m\u001b[0;34m\u001b[0m\u001b[0;34m\u001b[0m\u001b[0m\n\u001b[1;32m   2149\u001b[0m         \u001b[0;32mif\u001b[0m \u001b[0mgraph_function\u001b[0m \u001b[0;32mis\u001b[0m \u001b[0;32mNone\u001b[0m\u001b[0;34m:\u001b[0m\u001b[0;34m\u001b[0m\u001b[0;34m\u001b[0m\u001b[0m\n\u001b[0;32m-> 2150\u001b[0;31m           \u001b[0mgraph_function\u001b[0m \u001b[0;34m=\u001b[0m \u001b[0mself\u001b[0m\u001b[0;34m.\u001b[0m\u001b[0m_create_graph_function\u001b[0m\u001b[0;34m(\u001b[0m\u001b[0margs\u001b[0m\u001b[0;34m,\u001b[0m \u001b[0mkwargs\u001b[0m\u001b[0;34m)\u001b[0m\u001b[0;34m\u001b[0m\u001b[0;34m\u001b[0m\u001b[0m\n\u001b[0m\u001b[1;32m   2151\u001b[0m           \u001b[0mself\u001b[0m\u001b[0;34m.\u001b[0m\u001b[0m_function_cache\u001b[0m\u001b[0;34m.\u001b[0m\u001b[0mprimary\u001b[0m\u001b[0;34m[\u001b[0m\u001b[0mcache_key\u001b[0m\u001b[0;34m]\u001b[0m \u001b[0;34m=\u001b[0m \u001b[0mgraph_function\u001b[0m\u001b[0;34m\u001b[0m\u001b[0;34m\u001b[0m\u001b[0m\n\u001b[1;32m   2152\u001b[0m         \u001b[0;32mreturn\u001b[0m \u001b[0mgraph_function\u001b[0m\u001b[0;34m,\u001b[0m \u001b[0margs\u001b[0m\u001b[0;34m,\u001b[0m \u001b[0mkwargs\u001b[0m\u001b[0;34m\u001b[0m\u001b[0;34m\u001b[0m\u001b[0m\n",
      "\u001b[0;32m~/anaconda3/envs/tf-2.0/lib/python3.6/site-packages/tensorflow_core/python/eager/function.py\u001b[0m in \u001b[0;36m_create_graph_function\u001b[0;34m(self, args, kwargs, override_flat_arg_shapes)\u001b[0m\n\u001b[1;32m   2039\u001b[0m             \u001b[0marg_names\u001b[0m\u001b[0;34m=\u001b[0m\u001b[0marg_names\u001b[0m\u001b[0;34m,\u001b[0m\u001b[0;34m\u001b[0m\u001b[0;34m\u001b[0m\u001b[0m\n\u001b[1;32m   2040\u001b[0m             \u001b[0moverride_flat_arg_shapes\u001b[0m\u001b[0;34m=\u001b[0m\u001b[0moverride_flat_arg_shapes\u001b[0m\u001b[0;34m,\u001b[0m\u001b[0;34m\u001b[0m\u001b[0;34m\u001b[0m\u001b[0m\n\u001b[0;32m-> 2041\u001b[0;31m             capture_by_value=self._capture_by_value),\n\u001b[0m\u001b[1;32m   2042\u001b[0m         \u001b[0mself\u001b[0m\u001b[0;34m.\u001b[0m\u001b[0m_function_attributes\u001b[0m\u001b[0;34m,\u001b[0m\u001b[0;34m\u001b[0m\u001b[0;34m\u001b[0m\u001b[0m\n\u001b[1;32m   2043\u001b[0m         \u001b[0;31m# Tell the ConcreteFunction to clean up its graph once it goes out of\u001b[0m\u001b[0;34m\u001b[0m\u001b[0;34m\u001b[0m\u001b[0;34m\u001b[0m\u001b[0m\n",
      "\u001b[0;32m~/anaconda3/envs/tf-2.0/lib/python3.6/site-packages/tensorflow_core/python/framework/func_graph.py\u001b[0m in \u001b[0;36mfunc_graph_from_py_func\u001b[0;34m(name, python_func, args, kwargs, signature, func_graph, autograph, autograph_options, add_control_dependencies, arg_names, op_return_value, collections, capture_by_value, override_flat_arg_shapes)\u001b[0m\n\u001b[1;32m    913\u001b[0m                                           converted_func)\n\u001b[1;32m    914\u001b[0m \u001b[0;34m\u001b[0m\u001b[0m\n\u001b[0;32m--> 915\u001b[0;31m       \u001b[0mfunc_outputs\u001b[0m \u001b[0;34m=\u001b[0m \u001b[0mpython_func\u001b[0m\u001b[0;34m(\u001b[0m\u001b[0;34m*\u001b[0m\u001b[0mfunc_args\u001b[0m\u001b[0;34m,\u001b[0m \u001b[0;34m**\u001b[0m\u001b[0mfunc_kwargs\u001b[0m\u001b[0;34m)\u001b[0m\u001b[0;34m\u001b[0m\u001b[0;34m\u001b[0m\u001b[0m\n\u001b[0m\u001b[1;32m    916\u001b[0m \u001b[0;34m\u001b[0m\u001b[0m\n\u001b[1;32m    917\u001b[0m       \u001b[0;31m# invariant: `func_outputs` contains only Tensors, CompositeTensors,\u001b[0m\u001b[0;34m\u001b[0m\u001b[0;34m\u001b[0m\u001b[0;34m\u001b[0m\u001b[0m\n",
      "\u001b[0;32m~/anaconda3/envs/tf-2.0/lib/python3.6/site-packages/tensorflow_core/python/eager/def_function.py\u001b[0m in \u001b[0;36mwrapped_fn\u001b[0;34m(*args, **kwds)\u001b[0m\n\u001b[1;32m    356\u001b[0m         \u001b[0;31m# __wrapped__ allows AutoGraph to swap in a converted function. We give\u001b[0m\u001b[0;34m\u001b[0m\u001b[0;34m\u001b[0m\u001b[0;34m\u001b[0m\u001b[0m\n\u001b[1;32m    357\u001b[0m         \u001b[0;31m# the function a weak reference to itself to avoid a reference cycle.\u001b[0m\u001b[0;34m\u001b[0m\u001b[0;34m\u001b[0m\u001b[0;34m\u001b[0m\u001b[0m\n\u001b[0;32m--> 358\u001b[0;31m         \u001b[0;32mreturn\u001b[0m \u001b[0mweak_wrapped_fn\u001b[0m\u001b[0;34m(\u001b[0m\u001b[0;34m)\u001b[0m\u001b[0;34m.\u001b[0m\u001b[0m__wrapped__\u001b[0m\u001b[0;34m(\u001b[0m\u001b[0;34m*\u001b[0m\u001b[0margs\u001b[0m\u001b[0;34m,\u001b[0m \u001b[0;34m**\u001b[0m\u001b[0mkwds\u001b[0m\u001b[0;34m)\u001b[0m\u001b[0;34m\u001b[0m\u001b[0;34m\u001b[0m\u001b[0m\n\u001b[0m\u001b[1;32m    359\u001b[0m     \u001b[0mweak_wrapped_fn\u001b[0m \u001b[0;34m=\u001b[0m \u001b[0mweakref\u001b[0m\u001b[0;34m.\u001b[0m\u001b[0mref\u001b[0m\u001b[0;34m(\u001b[0m\u001b[0mwrapped_fn\u001b[0m\u001b[0;34m)\u001b[0m\u001b[0;34m\u001b[0m\u001b[0;34m\u001b[0m\u001b[0m\n\u001b[1;32m    360\u001b[0m \u001b[0;34m\u001b[0m\u001b[0m\n",
      "\u001b[0;32m~/anaconda3/envs/tf-2.0/lib/python3.6/site-packages/tensorflow_core/python/keras/engine/training_v2_utils.py\u001b[0m in \u001b[0;36mdistributed_function\u001b[0;34m(input_iterator)\u001b[0m\n\u001b[1;32m     64\u001b[0m     \u001b[0;34m\"\"\"A single step of the distributed execution across replicas.\"\"\"\u001b[0m\u001b[0;34m\u001b[0m\u001b[0;34m\u001b[0m\u001b[0m\n\u001b[1;32m     65\u001b[0m     x, y, sample_weights = _prepare_feed_values(\n\u001b[0;32m---> 66\u001b[0;31m         model, input_iterator, mode)\n\u001b[0m\u001b[1;32m     67\u001b[0m     \u001b[0;31m# Call `Model.{train,test,predict}_on_batch` on every replica passing\u001b[0m\u001b[0;34m\u001b[0m\u001b[0;34m\u001b[0m\u001b[0;34m\u001b[0m\u001b[0m\n\u001b[1;32m     68\u001b[0m     \u001b[0;31m# PerReplicas as arguments.  On every replica inside this call, each\u001b[0m\u001b[0;34m\u001b[0m\u001b[0;34m\u001b[0m\u001b[0;34m\u001b[0m\u001b[0m\n",
      "\u001b[0;32m~/anaconda3/envs/tf-2.0/lib/python3.6/site-packages/tensorflow_core/python/keras/engine/training_v2_utils.py\u001b[0m in \u001b[0;36m_prepare_feed_values\u001b[0;34m(model, inputs, mode)\u001b[0m\n\u001b[1;32m    116\u001b[0m   \u001b[0;31m# correct order.\u001b[0m\u001b[0;34m\u001b[0m\u001b[0;34m\u001b[0m\u001b[0;34m\u001b[0m\u001b[0m\n\u001b[1;32m    117\u001b[0m   \u001b[0;32mif\u001b[0m \u001b[0misinstance\u001b[0m\u001b[0;34m(\u001b[0m\u001b[0minputs\u001b[0m\u001b[0;34m,\u001b[0m \u001b[0mdict\u001b[0m\u001b[0;34m)\u001b[0m\u001b[0;34m:\u001b[0m\u001b[0;34m\u001b[0m\u001b[0;34m\u001b[0m\u001b[0m\n\u001b[0;32m--> 118\u001b[0;31m     \u001b[0minputs\u001b[0m \u001b[0;34m=\u001b[0m \u001b[0;34m[\u001b[0m\u001b[0minputs\u001b[0m\u001b[0;34m[\u001b[0m\u001b[0mkey\u001b[0m\u001b[0;34m]\u001b[0m \u001b[0;32mfor\u001b[0m \u001b[0mkey\u001b[0m \u001b[0;32min\u001b[0m \u001b[0mmodel\u001b[0m\u001b[0;34m.\u001b[0m\u001b[0m_feed_input_names\u001b[0m\u001b[0;34m]\u001b[0m\u001b[0;34m\u001b[0m\u001b[0;34m\u001b[0m\u001b[0m\n\u001b[0m\u001b[1;32m    119\u001b[0m   \u001b[0;32melse\u001b[0m\u001b[0;34m:\u001b[0m\u001b[0;34m\u001b[0m\u001b[0;34m\u001b[0m\u001b[0m\n\u001b[1;32m    120\u001b[0m     \u001b[0minputs\u001b[0m \u001b[0;34m=\u001b[0m \u001b[0mtraining_utils\u001b[0m\u001b[0;34m.\u001b[0m\u001b[0mModelInputs\u001b[0m\u001b[0;34m(\u001b[0m\u001b[0minputs\u001b[0m\u001b[0;34m)\u001b[0m\u001b[0;34m.\u001b[0m\u001b[0mas_list\u001b[0m\u001b[0;34m(\u001b[0m\u001b[0;34m)\u001b[0m\u001b[0;34m\u001b[0m\u001b[0;34m\u001b[0m\u001b[0m\n",
      "\u001b[0;32m~/anaconda3/envs/tf-2.0/lib/python3.6/site-packages/tensorflow_core/python/keras/engine/training_v2_utils.py\u001b[0m in \u001b[0;36m<listcomp>\u001b[0;34m(.0)\u001b[0m\n\u001b[1;32m    116\u001b[0m   \u001b[0;31m# correct order.\u001b[0m\u001b[0;34m\u001b[0m\u001b[0;34m\u001b[0m\u001b[0;34m\u001b[0m\u001b[0m\n\u001b[1;32m    117\u001b[0m   \u001b[0;32mif\u001b[0m \u001b[0misinstance\u001b[0m\u001b[0;34m(\u001b[0m\u001b[0minputs\u001b[0m\u001b[0;34m,\u001b[0m \u001b[0mdict\u001b[0m\u001b[0;34m)\u001b[0m\u001b[0;34m:\u001b[0m\u001b[0;34m\u001b[0m\u001b[0;34m\u001b[0m\u001b[0m\n\u001b[0;32m--> 118\u001b[0;31m     \u001b[0minputs\u001b[0m \u001b[0;34m=\u001b[0m \u001b[0;34m[\u001b[0m\u001b[0minputs\u001b[0m\u001b[0;34m[\u001b[0m\u001b[0mkey\u001b[0m\u001b[0;34m]\u001b[0m \u001b[0;32mfor\u001b[0m \u001b[0mkey\u001b[0m \u001b[0;32min\u001b[0m \u001b[0mmodel\u001b[0m\u001b[0;34m.\u001b[0m\u001b[0m_feed_input_names\u001b[0m\u001b[0;34m]\u001b[0m\u001b[0;34m\u001b[0m\u001b[0;34m\u001b[0m\u001b[0m\n\u001b[0m\u001b[1;32m    119\u001b[0m   \u001b[0;32melse\u001b[0m\u001b[0;34m:\u001b[0m\u001b[0;34m\u001b[0m\u001b[0;34m\u001b[0m\u001b[0m\n\u001b[1;32m    120\u001b[0m     \u001b[0minputs\u001b[0m \u001b[0;34m=\u001b[0m \u001b[0mtraining_utils\u001b[0m\u001b[0;34m.\u001b[0m\u001b[0mModelInputs\u001b[0m\u001b[0;34m(\u001b[0m\u001b[0minputs\u001b[0m\u001b[0;34m)\u001b[0m\u001b[0;34m.\u001b[0m\u001b[0mas_list\u001b[0m\u001b[0;34m(\u001b[0m\u001b[0;34m)\u001b[0m\u001b[0;34m\u001b[0m\u001b[0;34m\u001b[0m\u001b[0m\n",
      "\u001b[0;31mKeyError\u001b[0m: 'input_9'"
     ]
    }
   ],
   "source": [
    "\n",
    "callbacks = [\n",
    "    ModelCheckpoint(filepath='./models/multi.h5'),\n",
    "    ReduceLROnPlateau(monitor='val_loss', factor=.1, patience=5, min_lr=1e-6),\n",
    "    EarlyStopping(patience=7)\n",
    "]\n",
    "\n",
    "train_steps_per_epoch = len(x_train)//batch_size + len(x_train)%batch_size\n",
    "val_steps_per_epoch = len(x_test)//batch_size + len(x_test)%batch_size\n",
    "multi_modal_nn.fit(train_dataset, validation_data=test_dataset,\n",
    "                    epochs=1000, callbacks=callbacks,\n",
    "                    steps_per_epoch=train_steps_per_epoch,\n",
    "                    validation_steps=val_steps_per_epoch,\n",
    "                    verbose=1)\n",
    "\n",
    "print('='*117)\n",
    "print('Results:')\n",
    "\n",
    "_, mse, mae = multi_modal_nn.evaluate(test_dataset, steps=val_steps_per_epoch, verbose=0)\n",
    "print(f'MSE: {mse:.2f}\\tMAE: {mae:.3f}')"
   ]
  },
  {
   "cell_type": "code",
   "execution_count": 11,
   "metadata": {},
   "outputs": [
    {
     "name": "stdout",
     "output_type": "stream",
     "text": [
      "Train for 935 steps, validate for 330 steps\n",
      "Epoch 1/1000\n",
      "935/935 [==============================] - 2s 2ms/step - loss: 14967.6204 - mse: 14980.5889 - mae: 54.5322 - val_loss: 44.7848 - val_mse: 44.8092 - val_mae: 2.0801\n",
      "Epoch 2/1000\n",
      "935/935 [==============================] - 2s 2ms/step - loss: 18.5767 - mse: 18.5926 - mae: 1.2146 - val_loss: 9.2180 - val_mse: 9.2231 - val_mae: 0.8276\n",
      "Epoch 3/1000\n",
      "935/935 [==============================] - 2s 2ms/step - loss: 3.8687 - mse: 3.8718 - mae: 0.6681 - val_loss: 4.6060 - val_mse: 4.6085 - val_mae: 0.6490\n",
      "Epoch 4/1000\n",
      "935/935 [==============================] - 2s 2ms/step - loss: 1.1773 - mse: 1.1781 - mae: 0.5503 - val_loss: 3.2636 - val_mse: 3.2653 - val_mae: 0.5901\n",
      "Epoch 5/1000\n",
      "935/935 [==============================] - 2s 2ms/step - loss: 0.5187 - mse: 0.5189 - mae: 0.5063 - val_loss: 2.6178 - val_mse: 2.6182 - val_mae: 0.5588\n",
      "Epoch 6/1000\n",
      "935/935 [==============================] - 2s 2ms/step - loss: 0.3055 - mse: 0.3056 - mae: 0.4811 - val_loss: 2.3047 - val_mse: 2.3059 - val_mae: 0.5365\n",
      "Epoch 7/1000\n",
      "935/935 [==============================] - 2s 2ms/step - loss: 0.2439 - mse: 0.2440 - mae: 0.4617 - val_loss: 2.2026 - val_mse: 2.2037 - val_mae: 0.5161\n",
      "Epoch 8/1000\n",
      "935/935 [==============================] - 2s 2ms/step - loss: 0.2129 - mse: 0.2129 - mae: 0.4395 - val_loss: 2.1133 - val_mse: 2.1144 - val_mae: 0.4902\n",
      "Epoch 9/1000\n",
      "935/935 [==============================] - 2s 2ms/step - loss: 0.1859 - mse: 0.1859 - mae: 0.4108 - val_loss: 2.0313 - val_mse: 2.0324 - val_mae: 0.4549\n",
      "Epoch 10/1000\n",
      "935/935 [==============================] - 2s 2ms/step - loss: 0.1548 - mse: 0.1549 - mae: 0.3734 - val_loss: 1.9830 - val_mse: 1.9841 - val_mae: 0.4133\n",
      "Epoch 11/1000\n",
      "935/935 [==============================] - 2s 2ms/step - loss: 0.1210 - mse: 0.1210 - mae: 0.3283 - val_loss: 1.9223 - val_mse: 1.9233 - val_mae: 0.3651\n",
      "Epoch 12/1000\n",
      "935/935 [==============================] - 2s 2ms/step - loss: 0.0896 - mse: 0.0896 - mae: 0.2782 - val_loss: 1.8824 - val_mse: 1.8834 - val_mae: 0.3140\n",
      "Epoch 13/1000\n",
      "935/935 [==============================] - 2s 2ms/step - loss: 0.0632 - mse: 0.0632 - mae: 0.2265 - val_loss: 1.8639 - val_mse: 1.8649 - val_mae: 0.2629\n",
      "Epoch 14/1000\n",
      "935/935 [==============================] - 2s 2ms/step - loss: 0.0438 - mse: 0.0438 - mae: 0.1767 - val_loss: 1.8248 - val_mse: 1.8258 - val_mae: 0.2154\n",
      "Epoch 15/1000\n",
      "935/935 [==============================] - 2s 2ms/step - loss: 0.0315 - mse: 0.0315 - mae: 0.1325 - val_loss: 1.8150 - val_mse: 1.8160 - val_mae: 0.1755\n",
      "Epoch 16/1000\n",
      "935/935 [==============================] - 2s 2ms/step - loss: 0.0250 - mse: 0.0250 - mae: 0.0972 - val_loss: 1.8108 - val_mse: 1.8119 - val_mae: 0.1462\n",
      "Epoch 17/1000\n",
      "935/935 [==============================] - 2s 2ms/step - loss: 0.0223 - mse: 0.0223 - mae: 0.0739 - val_loss: 1.8091 - val_mse: 1.8101 - val_mae: 0.1299\n",
      "Epoch 18/1000\n",
      "935/935 [==============================] - 2s 2ms/step - loss: 0.0214 - mse: 0.0214 - mae: 0.0638 - val_loss: 1.8086 - val_mse: 1.8096 - val_mae: 0.1251\n",
      "Epoch 19/1000\n",
      "935/935 [==============================] - 2s 2ms/step - loss: 0.0212 - mse: 0.0212 - mae: 0.0610 - val_loss: 1.8085 - val_mse: 1.8095 - val_mae: 0.1236\n",
      "Epoch 20/1000\n",
      "935/935 [==============================] - 2s 2ms/step - loss: 0.0212 - mse: 0.0212 - mae: 0.0601 - val_loss: 1.8079 - val_mse: 1.8089 - val_mae: 0.1228\n",
      "Epoch 21/1000\n",
      "935/935 [==============================] - 2s 2ms/step - loss: 0.0212 - mse: 0.0212 - mae: 0.0597 - val_loss: 1.8079 - val_mse: 1.8089 - val_mae: 0.1227\n",
      "Epoch 22/1000\n",
      "935/935 [==============================] - 2s 2ms/step - loss: 0.0212 - mse: 0.0212 - mae: 0.0597 - val_loss: 1.8079 - val_mse: 1.8089 - val_mae: 0.1228\n",
      "Epoch 23/1000\n",
      "935/935 [==============================] - 2s 2ms/step - loss: 0.0212 - mse: 0.0212 - mae: 0.0597 - val_loss: 1.8085 - val_mse: 1.8095 - val_mae: 0.1230\n",
      "Epoch 24/1000\n",
      "935/935 [==============================] - 2s 2ms/step - loss: 0.0212 - mse: 0.0212 - mae: 0.0597 - val_loss: 1.8079 - val_mse: 1.8089 - val_mae: 0.1228\n",
      "Epoch 25/1000\n",
      "935/935 [==============================] - 2s 2ms/step - loss: 0.0212 - mse: 0.0212 - mae: 0.0597 - val_loss: 1.8079 - val_mse: 1.8089 - val_mae: 0.1228\n",
      "Epoch 26/1000\n",
      "935/935 [==============================] - 2s 2ms/step - loss: 0.0212 - mse: 0.0212 - mae: 0.0601 - val_loss: 1.8085 - val_mse: 1.8095 - val_mae: 0.1230\n",
      "Epoch 27/1000\n",
      "935/935 [==============================] - 2s 2ms/step - loss: 0.0212 - mse: 0.0212 - mae: 0.0600 - val_loss: 1.8085 - val_mse: 1.8095 - val_mae: 0.1229\n",
      "Epoch 28/1000\n",
      "935/935 [==============================] - 2s 2ms/step - loss: 0.0212 - mse: 0.0212 - mae: 0.0599 - val_loss: 1.8085 - val_mse: 1.8095 - val_mae: 0.1229\n",
      "=====================================================================================================================\n",
      "Results:\n",
      "MSE: 1.81\tMAE: 0.123\n"
     ]
    }
   ],
   "source": [
    "model = create_nn_x_vec()\n",
    "callbacks = [\n",
    "    ModelCheckpoint(filepath='./models/x_vec_dense.h5'),\n",
    "    ReduceLROnPlateau(monitor='val_loss', factor=.1, patience=5, min_lr=1e-6),\n",
    "    EarlyStopping(patience=7)\n",
    "]\n",
    "\n",
    "train_steps_per_epoch = len(x_train)//batch_size + len(x_train)%batch_size\n",
    "val_steps_per_epoch = len(x_test)//batch_size + len(x_test)%batch_size\n",
    "model.fit(train_dataset, validation_data=test_dataset,\n",
    "                    epochs=1000, callbacks=callbacks,\n",
    "                    steps_per_epoch=train_steps_per_epoch,\n",
    "                    validation_steps=val_steps_per_epoch,\n",
    "                    verbose=1)\n",
    "\n",
    "print('='*117)\n",
    "print('Results:')\n",
    "\n",
    "_, mse, mae = model.evaluate(test_dataset, steps=val_steps_per_epoch, verbose=0)\n",
    "print(f'MSE: {mse:.2f}\\tMAE: {mae:.3f}')"
   ]
  },
  {
   "cell_type": "code",
   "execution_count": null,
   "metadata": {},
   "outputs": [],
   "source": []
  },
  {
   "cell_type": "code",
   "execution_count": null,
   "metadata": {},
   "outputs": [],
   "source": []
  }
 ],
 "metadata": {
  "kernelspec": {
   "display_name": "Python 3",
   "language": "python",
   "name": "python3"
  },
  "language_info": {
   "codemirror_mode": {
    "name": "ipython",
    "version": 3
   },
   "file_extension": ".py",
   "mimetype": "text/x-python",
   "name": "python",
   "nbconvert_exporter": "python",
   "pygments_lexer": "ipython3",
   "version": "3.6.13"
  }
 },
 "nbformat": 4,
 "nbformat_minor": 5
}
