{
 "cells": [
  {
   "cell_type": "markdown",
   "metadata": {},
   "source": [
    "# Lab 3: Multi-modal and Multi-task\n",
    "\n",
    "**Group Members:**\n",
    "* Clay Harper\n",
    "* Eli Laird"
   ]
  },
  {
   "cell_type": "markdown",
   "metadata": {},
   "source": [
    "In this report, we were to choose a dataset where a multi-modal model (multiple input streams), multi-task model (multiple predictive tasks), or both could be created.  We decided to use the 2018 OpenMic dataset because some of Clay's research is based in audio processing, and Eli has in interest in breaking into this field.  "
   ]
  },
  {
   "cell_type": "markdown",
   "metadata": {},
   "source": [
    "## Dataset Overview\n",
    "\n",
    "The 2018 OpenMic dataset [1] was created in a collaboration effort between Spotify and MARL@NYU (Music and Audio Research Laboratory New York University).\n",
    "\n",
    "### Classification Task\n",
    "\n",
    "The classification task is to determine what instruments are present in the audio clip.  Each audio clip may contain multiple instruments, so the task is to determine all instruments present in the clip.  The classification labels are:\n",
    "\n",
    "* accordion\n",
    "* banjo\n",
    "* bass\n",
    "* cello\n",
    "* clarinet\n",
    "* cymbals\n",
    "* drums\n",
    "* flute\n",
    "* guitar\n",
    "* mallet_percussion\n",
    "* mandolin\n",
    "* organ\n",
    "* piano\n",
    "* saxophone,\n",
    "* synthesizer\n",
    "* trombone\n",
    "* trumpet\n",
    "* ukulele\n",
    "* violin\n",
    "* voice\n",
    "\n",
    "Each audio clip has been labeled by a variety of people on which instruments are present in the clip.  Each person, depending on their area of expertise, is given a `worker_trust` score--so a piano player will get a high trust on identifying if there is a piano but maybe a lower trust in identifying a ukulele.  From that, a `relevance_score` is computed by a weighted sum of the `worker_trust` and the `label` (1 or 0) if the instrument was present.  Essentially, each audio clip is given a `relevance_score` for each instrument.  `relevance_score` is basically a confidence score for how likely this instrument appears in the audio clip.\n",
    "\n",
    "### Feature Data Format\n",
    "\n",
    "There are multiple options we can do for the feature data.  The data archive includes both raw audio files in the form of `.ogg` files and pre-computed VGGish Features [3].  If we wanted, we could featurize of the `.ogg` files by using the raw amplitude values, use MFCCs, CQT, etc.  For simplicity in this lab, we have decided to just use the VGGish features provided.   \n",
    "\n",
    "\n",
    "### Mulit-Modal/Multi-Task/Both?\n",
    "\n",
    "We thought about making this project be both multi-modal and multi-task, but since we are using the VGGish Features, we decided to just make this project muli-task where the tasks are identifying each instrument in the audio clip separately.\n",
    "\n",
    "### Who Collected the Data?\n",
    "\n",
    "Spotify and MARL@NYU (Music and Audio Research Laboratory New York University).  The cost of annotation was sponsored by Spotify.\n",
    "\n",
    "#### Why was the Data Collected?\n",
    "\n",
    "The idea was to create a dataset that can be used in music information retrieval through identifying different instruments in an audio clip.  Some applications of music information retrieval are music genre classification, recommender systems, music separation, automatic music transcription, music generation, and more [2]. To give an example of how this dataset could help Spotify, think of a user who wants to listen to piano music on a long day.  The user could go to the search bar on Spotify and type in piano.  In order to get good results, the Spotify must have piano tags associated with songs to return piano music.  This process of tagging can be very labor intensive and expensive because people have to listen to a song, identify it as piano music, and tag the song in the database.  This is increasingly difficult when more songs are constantly added to Spotify's database.  Instead, if we can create a model that is very good at listening to music and segmenting out the types of instruments in the music, we can help automate this process (also VGGish was developed by Google so...).  VGGish features are computed using a pre-trained CNN from Google based on [3], which essentially uses a very similar architecture to the VGG image classification architecture.  In total, there are 17 layers containing convolutional layers, activations, followed by maxpooling operations.  In the OpenMic version, VGGish Features are computed on an embedding layer in the VGGish archtitecture and then projected down to a _____ dimensional space using PCA. \n",
    "\n",
    "#### When was the Data Collected?\n",
    "\n",
    "The data was collected and put together in 2018.\n",
    "\n",
    "### Evaluation Criteria\n",
    "\n",
    "We thought about discretizing the `relevance_score` by some threshold (say .5) and making this a binary classification problem for each instrument.  Instead, we decided to regress the `relevance_score` for each instrument because this allows for more post-processing, particularly in an example discussed above with a user searching for piano music.  If we used a threshold of .5, a `relevance_score` of .51 would mean that, yes, a piano appears in this audio clip.  Well, maybe the piano just appears for a breif amount of time in the audio clip and that's why it had a relatively low confidence score.  The user searching for piano music would likely want songs that are very piano-based--that's why they probably searched `piano`.  Regressing the relevance score instead would allow better post-processing where maybe we can sort the search results from highest to lowest `relevance_score` so the user is happier with the search results.\n",
    "\n",
    " \n",
    "\n",
    "\n",
    "[1] Humphrey, Eric J., Durand, Simon, and McFee, Brian. \"OpenMIC-2018: An Open Dataset for Multiple Instrument Recognition.\" in Proceedings of the 19th International Society for Music Information Retrieval Conference (ISMIR), 2018.\n",
    "\n",
    "[2] https://en.wikipedia.org/wiki/Music_information_retrieval#:~:text=Music%20information%20retrieval%20(MIR)%20is,with%20many%20real%2Dworld%20applications.\n",
    "\n",
    "[3] Shawn Hershey, Sourish Chaudhuri, Daniel P. W. Ellis, Jort F. Gemmeke, Aren Jansen, Channing Moore, Manoj Plakal, Devin Platt, Rif A. Saurous, Bryan Seybold, Malcolm Slaney, Ron Weiss, & Kevin Wilson (2017). CNN Architectures for Large-Scale Audio Classification. In International Conference on Acoustics, Speech and Signal Processing (ICASSP)."
   ]
  },
  {
   "cell_type": "markdown",
   "metadata": {},
   "source": [
    "## How many tasks or modalities are there in the dataset and how do you define each task or modality?\n",
    "\n",
    "There are 20 tasks (1 for each instrument), and there is 1 modality (the VGGish Feature).  \n",
    "\n",
    "****domains/cross domains\n",
    "\n",
    "**BEWARE**\n",
    "* TF2.0.0 isn't compatable with python > 3.7\n",
    "* Must use TF2.0.0 for maneframe"
   ]
  },
  {
   "cell_type": "code",
   "execution_count": 2,
   "metadata": {},
   "outputs": [],
   "source": [
    "import numpy as np\n",
    "import tensorflow as tf\n",
    "from sklearn.model_selection import train_test_split, ShuffleSplit\n",
    "import pandas as pd\n",
    "import json\n",
    "import os"
   ]
  },
  {
   "cell_type": "code",
   "execution_count": 3,
   "metadata": {},
   "outputs": [
    {
     "name": "stdout",
     "output_type": "stream",
     "text": [
      "TF Version:  2.0.0\n"
     ]
    }
   ],
   "source": [
    "print(\"TF Version: \", tf.__version__)"
   ]
  },
  {
   "cell_type": "code",
   "execution_count": 4,
   "metadata": {},
   "outputs": [],
   "source": [
    "datadir = '../data'\n",
    "openmic_file_dir = os.path.join(datadir, 'openmic-2018')"
   ]
  },
  {
   "cell_type": "code",
   "execution_count": 8,
   "metadata": {},
   "outputs": [
    {
     "name": "stdout",
     "output_type": "stream",
     "text": [
      "acknowledgement.md                 \u001b[1m\u001b[36mnpy_audio\u001b[m\u001b[m\r\n",
      "\u001b[1m\u001b[36maudio\u001b[m\u001b[m                              openmic-2018-aggregated-labels.csv\r\n",
      "\u001b[1m\u001b[36mchecksums\u001b[m\u001b[m                          \u001b[1m\u001b[36mpartitions\u001b[m\u001b[m\r\n",
      "class-map.json                     \u001b[1m\u001b[36mvggish\u001b[m\u001b[m\r\n",
      "license-cc-by.txt\r\n"
     ]
    }
   ],
   "source": [
    "!ls ../data/openmic-2018/"
   ]
  },
  {
   "cell_type": "markdown",
   "metadata": {},
   "source": [
    "## Load In Data"
   ]
  },
  {
   "cell_type": "code",
   "execution_count": 9,
   "metadata": {},
   "outputs": [
    {
     "name": "stdout",
     "output_type": "stream",
     "text": [
      "The data files are: ['X', 'Y_true', 'Y_mask', 'sample_key']\n",
      "Data shape: (20000, 10, 128)\n",
      "True label shape: (20000, 20)\n",
      "True label mask shape: (20000, 20)\n",
      "Total samples: (20000,)\n"
     ]
    },
    {
     "data": {
      "text/plain": [
       "{'accordion': 0,\n",
       " 'banjo': 1,\n",
       " 'bass': 2,\n",
       " 'cello': 3,\n",
       " 'clarinet': 4,\n",
       " 'cymbals': 5,\n",
       " 'drums': 6,\n",
       " 'flute': 7,\n",
       " 'guitar': 8,\n",
       " 'mallet_percussion': 9,\n",
       " 'mandolin': 10,\n",
       " 'organ': 11,\n",
       " 'piano': 12,\n",
       " 'saxophone': 13,\n",
       " 'synthesizer': 14,\n",
       " 'trombone': 15,\n",
       " 'trumpet': 16,\n",
       " 'ukulele': 17,\n",
       " 'violin': 18,\n",
       " 'voice': 19}"
      ]
     },
     "execution_count": 9,
     "metadata": {},
     "output_type": "execute_result"
    }
   ],
   "source": [
    "with np.load(os.path.join(openmic_file_dir, 'openmic-2018.npz'), allow_pickle=True) as data:\n",
    "    files = data.files\n",
    "    print(f'The data files are: {files}')\n",
    "    \n",
    "    x_total = data['X']\n",
    "    y = data['Y_true']\n",
    "#     y[y == .5] = 0 # weird dataset (.5 only occurs with their 50/50 shot--not ever a relevance score)\n",
    "    # Call it a soft-no since it appears in the individual df but not in the label df\n",
    "    y_mask = data['Y_mask']\n",
    "    sample_keys = data['sample_key']\n",
    "\n",
    "print(f'Data shape: {x_total.shape}')\n",
    "print(f'True label shape: {y.shape}')\n",
    "print(f'True label mask shape: {y_mask.shape}')\n",
    "print(f'Total samples: {sample_keys.shape}')\n",
    "\n",
    "with open(os.path.join(openmic_file_dir, 'class-map.json'), 'r') as f:\n",
    "    class_map = json.load(f)\n",
    "class_map"
   ]
  },
  {
   "cell_type": "markdown",
   "metadata": {},
   "source": [
    "### Split Into Train/Test\n",
    "\n",
    "**We can talk about this more later, could do 80/20 split-probably should do cross validation**\n",
    "\n",
    "**Using their split for now**\n",
    "\n",
    "**Well,...they have their own split.  Not sure if this is what Dr. Larson wants though**\n",
    "\n",
    "* Should be useful:\n",
    "    * https://github.com/cosmir/openmic-2018/blob/master/examples/modeling-baseline.ipynb"
   ]
  },
  {
   "cell_type": "code",
   "execution_count": 10,
   "metadata": {},
   "outputs": [],
   "source": [
    "total_idexes = list(range(len(sample_keys)))\n",
    "k_folds = 5\n",
    "# Use for later when training datasets\n",
    "splitter = ShuffleSplit(n_splits=5, test_size=.2)"
   ]
  },
  {
   "cell_type": "code",
   "execution_count": 11,
   "metadata": {},
   "outputs": [
    {
     "name": "stdout",
     "output_type": "stream",
     "text": [
      "Train samples: 14915 test samples: 5085\n"
     ]
    }
   ],
   "source": [
    "# If we use their split\n",
    "split_train = pd.read_csv(os.path.join(openmic_file_dir, 'partitions/split01_train.csv'), \n",
    "                          header=None, squeeze=True)\n",
    "split_test = pd.read_csv(os.path.join(openmic_file_dir,'partitions/split01_test.csv'), \n",
    "                         header=None, squeeze=True)\n",
    "\n",
    "print(f'Train samples: {len(split_train)} test samples: {len(split_test)}')"
   ]
  },
  {
   "cell_type": "code",
   "execution_count": 12,
   "metadata": {},
   "outputs": [
    {
     "data": {
      "text/plain": [
       "'000178_3840'"
      ]
     },
     "execution_count": 12,
     "metadata": {},
     "output_type": "execute_result"
    }
   ],
   "source": [
    "split_test[0]"
   ]
  },
  {
   "cell_type": "code",
   "execution_count": 13,
   "metadata": {},
   "outputs": [],
   "source": [
    "sample_key_df = pd.DataFrame({'sample_key': sample_keys})\n",
    "sample_key_df['index'] = sample_key_df.index\n",
    "train_keys_df = pd.DataFrame({'sample_key': split_train})\n",
    "test_keys_df = pd.DataFrame({'sample_key': split_test})\n",
    "\n",
    "# Get the train and test indexes according to their split\n",
    "train_idxs = np.array(train_keys_df.merge(sample_key_df, on='sample_key', how='left')['index'])\n",
    "test_idxs = np.array(test_keys_df.merge(sample_key_df, on='sample_key', how='left')['index'])\n",
    "\n",
    "# Split the train/test data\n",
    "x_train, x_test = x_total[train_idxs], x_total[test_idxs]\n",
    "y_train, y_test = y[train_idxs], y[test_idxs]"
   ]
  },
  {
   "cell_type": "code",
   "execution_count": 14,
   "metadata": {},
   "outputs": [
    {
     "data": {
      "text/plain": [
       "(14915, 10, 128)"
      ]
     },
     "execution_count": 14,
     "metadata": {},
     "output_type": "execute_result"
    }
   ],
   "source": [
    "x_train.shape"
   ]
  },
  {
   "cell_type": "code",
   "execution_count": 15,
   "metadata": {},
   "outputs": [
    {
     "data": {
      "text/plain": [
       "(5085, 10, 128)"
      ]
     },
     "execution_count": 15,
     "metadata": {},
     "output_type": "execute_result"
    }
   ],
   "source": [
    "x_test.shape"
   ]
  },
  {
   "cell_type": "markdown",
   "metadata": {},
   "source": [
    "## Add MFCCs"
   ]
  },
  {
   "cell_type": "code",
   "execution_count": 16,
   "metadata": {},
   "outputs": [
    {
     "name": "stdout",
     "output_type": "stream",
     "text": [
      "Destination Root File Already Exists\n",
      "CPU times: user 381 ms, sys: 118 ms, total: 499 ms\n",
      "Wall time: 662 ms\n"
     ]
    }
   ],
   "source": [
    "%%time\n",
    "from librosa import load as load_audio\n",
    "from librosa.feature import mfcc as create_mfcc\n",
    "from tqdm import tqdm\n",
    "from concurrent.futures import ThreadPoolExecutor\n",
    "import glob, os, shutil\n",
    "\n",
    "# Create place to save mfcc\n",
    "src = os.path.join(openmic_file_dir, 'audio/')\n",
    "dest = os.path.join(openmic_file_dir, 'npy_audio/')\n",
    "\n",
    "def copy_tree(src, dest):\n",
    "    \n",
    "    def ig_f(dir, files):\n",
    "        return [f for f in files if os.path.isfile(os.path.join(dir, f))]\n",
    "    \n",
    "    if os.path.exists(dest):\n",
    "        print('Destination Root File Already Exists')\n",
    "    else:\n",
    "        shutil.copytree(src, dest, ignore=ig_f)\n",
    "        \n",
    "copy_tree(src, dest)"
   ]
  },
  {
   "cell_type": "code",
   "execution_count": 17,
   "metadata": {},
   "outputs": [],
   "source": [
    "file_list = glob.glob(src + '**/*.ogg', recursive=True)"
   ]
  },
  {
   "cell_type": "code",
   "execution_count": 18,
   "metadata": {},
   "outputs": [
    {
     "data": {
      "text/plain": [
       "20000"
      ]
     },
     "execution_count": 18,
     "metadata": {},
     "output_type": "execute_result"
    }
   ],
   "source": [
    "len(file_list)"
   ]
  },
  {
   "cell_type": "code",
   "execution_count": 14,
   "metadata": {
    "scrolled": true
   },
   "outputs": [
    {
     "name": "stderr",
     "output_type": "stream",
     "text": [
      "100%|██████████| 1666/1666 [37:28<00:00,  1.35s/it]\n",
      "100%|██████████| 1667/1667 [37:29<00:00,  1.35s/it]\n",
      "100%|██████████| 1667/1667 [37:31<00:00,  1.35s/it]\n",
      "100%|██████████| 1667/1667 [37:32<00:00,  1.35s/it]\n",
      "100%|██████████| 1667/1667 [37:34<00:00,  1.35s/it]\n",
      "100%|██████████| 1667/1667 [37:34<00:00,  1.35s/it]\n",
      "100%|██████████| 1667/1667 [37:35<00:00,  1.35s/it]\n",
      "100%|██████████| 1666/1666 [37:35<00:00,  1.35s/it]\n",
      "100%|██████████| 1667/1667 [37:35<00:00,  1.35s/it]\n",
      "100%|██████████| 1666/1666 [37:37<00:00,  1.35s/it]\n",
      "100%|██████████| 1667/1667 [37:37<00:00,  1.35s/it]\n",
      "100%|██████████| 1666/1666 [37:37<00:00,  1.36s/it]\n",
      "100%|██████████| 12/12 [37:37<00:00, 188.15s/it]\n"
     ]
    }
   ],
   "source": [
    "def make_mfcc(file_chunk):\n",
    "    for file in tqdm(file_chunk, position=0, leave=True):\n",
    "        sr = 8000\n",
    "        audio, sr = load_audio(file, sr=sr)\n",
    "        clip_path = '/'.join(file.split('/')[-2:])\n",
    "        clip_path = dest + clip_path.split('.')[0] + '.npy'\n",
    "        np.save(clip_path, create_mfcc(audio, sr=sr, n_mfcc=20))\n",
    "    \n",
    "file_list = glob.glob(src + '**/*.ogg', recursive=True)\n",
    "\n",
    "max_workers = os.cpu_count()\n",
    "chunked_file_list = np.array_split(file_list, max_workers)\n",
    "\n",
    "with ThreadPoolExecutor(max_workers=max_workers) as executor:\n",
    "    _ = list(tqdm(executor.map(make_mfcc, chunked_file_list), total=len(chunked_file_list), \n",
    "                       position=0, leave=True))"
   ]
  },
  {
   "cell_type": "code",
   "execution_count": 19,
   "metadata": {},
   "outputs": [
    {
     "data": {
      "text/html": [
       "<div>\n",
       "<style scoped>\n",
       "    .dataframe tbody tr th:only-of-type {\n",
       "        vertical-align: middle;\n",
       "    }\n",
       "\n",
       "    .dataframe tbody tr th {\n",
       "        vertical-align: top;\n",
       "    }\n",
       "\n",
       "    .dataframe thead th {\n",
       "        text-align: right;\n",
       "    }\n",
       "</style>\n",
       "<table border=\"1\" class=\"dataframe\">\n",
       "  <thead>\n",
       "    <tr style=\"text-align: right;\">\n",
       "      <th></th>\n",
       "      <th>sample_key</th>\n",
       "      <th>path</th>\n",
       "    </tr>\n",
       "  </thead>\n",
       "  <tbody>\n",
       "    <tr>\n",
       "      <th>0</th>\n",
       "      <td>000046_3840</td>\n",
       "      <td>../data/openmic-2018/npy_audio/000/000046_3840...</td>\n",
       "    </tr>\n",
       "    <tr>\n",
       "      <th>1</th>\n",
       "      <td>000135_483840</td>\n",
       "      <td>../data/openmic-2018/npy_audio/000/000135_4838...</td>\n",
       "    </tr>\n",
       "    <tr>\n",
       "      <th>2</th>\n",
       "      <td>000139_119040</td>\n",
       "      <td>../data/openmic-2018/npy_audio/000/000139_1190...</td>\n",
       "    </tr>\n",
       "    <tr>\n",
       "      <th>3</th>\n",
       "      <td>000141_153600</td>\n",
       "      <td>../data/openmic-2018/npy_audio/000/000141_1536...</td>\n",
       "    </tr>\n",
       "    <tr>\n",
       "      <th>4</th>\n",
       "      <td>000144_30720</td>\n",
       "      <td>../data/openmic-2018/npy_audio/000/000144_3072...</td>\n",
       "    </tr>\n",
       "    <tr>\n",
       "      <th>...</th>\n",
       "      <td>...</td>\n",
       "      <td>...</td>\n",
       "    </tr>\n",
       "    <tr>\n",
       "      <th>14910</th>\n",
       "      <td>155294_184320</td>\n",
       "      <td>../data/openmic-2018/npy_audio/155/155294_1843...</td>\n",
       "    </tr>\n",
       "    <tr>\n",
       "      <th>14911</th>\n",
       "      <td>155295_76800</td>\n",
       "      <td>../data/openmic-2018/npy_audio/155/155295_7680...</td>\n",
       "    </tr>\n",
       "    <tr>\n",
       "      <th>14912</th>\n",
       "      <td>155307_211200</td>\n",
       "      <td>../data/openmic-2018/npy_audio/155/155307_2112...</td>\n",
       "    </tr>\n",
       "    <tr>\n",
       "      <th>14913</th>\n",
       "      <td>155310_372480</td>\n",
       "      <td>../data/openmic-2018/npy_audio/155/155310_3724...</td>\n",
       "    </tr>\n",
       "    <tr>\n",
       "      <th>14914</th>\n",
       "      <td>155311_453120</td>\n",
       "      <td>../data/openmic-2018/npy_audio/155/155311_4531...</td>\n",
       "    </tr>\n",
       "  </tbody>\n",
       "</table>\n",
       "<p>14915 rows × 2 columns</p>\n",
       "</div>"
      ],
      "text/plain": [
       "          sample_key                                               path\n",
       "0        000046_3840  ../data/openmic-2018/npy_audio/000/000046_3840...\n",
       "1      000135_483840  ../data/openmic-2018/npy_audio/000/000135_4838...\n",
       "2      000139_119040  ../data/openmic-2018/npy_audio/000/000139_1190...\n",
       "3      000141_153600  ../data/openmic-2018/npy_audio/000/000141_1536...\n",
       "4       000144_30720  ../data/openmic-2018/npy_audio/000/000144_3072...\n",
       "...              ...                                                ...\n",
       "14910  155294_184320  ../data/openmic-2018/npy_audio/155/155294_1843...\n",
       "14911   155295_76800  ../data/openmic-2018/npy_audio/155/155295_7680...\n",
       "14912  155307_211200  ../data/openmic-2018/npy_audio/155/155307_2112...\n",
       "14913  155310_372480  ../data/openmic-2018/npy_audio/155/155310_3724...\n",
       "14914  155311_453120  ../data/openmic-2018/npy_audio/155/155311_4531...\n",
       "\n",
       "[14915 rows x 2 columns]"
      ]
     },
     "execution_count": 19,
     "metadata": {},
     "output_type": "execute_result"
    }
   ],
   "source": [
    "train_npy_df = pd.DataFrame({'path': file_list})\n",
    "\n",
    "def get_sample_key(x):\n",
    "    base = x.split('/')[-1]\n",
    "    return base.split('.')[0]\n",
    "\n",
    "def fix_path(x):\n",
    "    clip_path = '/'.join(x.split('/')[-2:])\n",
    "    return dest + clip_path.split('.')[0] + '.npy'\n",
    "\n",
    "train_npy_df['sample_key'] = train_npy_df['path'].apply(get_sample_key)\n",
    "train_npy_df['path'] = train_npy_df['path'].apply(fix_path)\n",
    "train_npy_df = train_keys_df.merge(train_npy_df, on='sample_key', how='left')\n",
    "train_npy_df"
   ]
  },
  {
   "cell_type": "code",
   "execution_count": 20,
   "metadata": {},
   "outputs": [
    {
     "data": {
      "text/html": [
       "<div>\n",
       "<style scoped>\n",
       "    .dataframe tbody tr th:only-of-type {\n",
       "        vertical-align: middle;\n",
       "    }\n",
       "\n",
       "    .dataframe tbody tr th {\n",
       "        vertical-align: top;\n",
       "    }\n",
       "\n",
       "    .dataframe thead th {\n",
       "        text-align: right;\n",
       "    }\n",
       "</style>\n",
       "<table border=\"1\" class=\"dataframe\">\n",
       "  <thead>\n",
       "    <tr style=\"text-align: right;\">\n",
       "      <th></th>\n",
       "      <th>sample_key</th>\n",
       "      <th>path</th>\n",
       "    </tr>\n",
       "  </thead>\n",
       "  <tbody>\n",
       "    <tr>\n",
       "      <th>0</th>\n",
       "      <td>000178_3840</td>\n",
       "      <td>../data/openmic-2018/npy_audio/000/000178_3840...</td>\n",
       "    </tr>\n",
       "    <tr>\n",
       "      <th>1</th>\n",
       "      <td>000308_61440</td>\n",
       "      <td>../data/openmic-2018/npy_audio/000/000308_6144...</td>\n",
       "    </tr>\n",
       "    <tr>\n",
       "      <th>2</th>\n",
       "      <td>000312_184320</td>\n",
       "      <td>../data/openmic-2018/npy_audio/000/000312_1843...</td>\n",
       "    </tr>\n",
       "    <tr>\n",
       "      <th>3</th>\n",
       "      <td>000319_145920</td>\n",
       "      <td>../data/openmic-2018/npy_audio/000/000319_1459...</td>\n",
       "    </tr>\n",
       "    <tr>\n",
       "      <th>4</th>\n",
       "      <td>000321_218880</td>\n",
       "      <td>../data/openmic-2018/npy_audio/000/000321_2188...</td>\n",
       "    </tr>\n",
       "    <tr>\n",
       "      <th>...</th>\n",
       "      <td>...</td>\n",
       "      <td>...</td>\n",
       "    </tr>\n",
       "    <tr>\n",
       "      <th>5080</th>\n",
       "      <td>155175_38400</td>\n",
       "      <td>../data/openmic-2018/npy_audio/155/155175_3840...</td>\n",
       "    </tr>\n",
       "    <tr>\n",
       "      <th>5081</th>\n",
       "      <td>155176_23040</td>\n",
       "      <td>../data/openmic-2018/npy_audio/155/155176_2304...</td>\n",
       "    </tr>\n",
       "    <tr>\n",
       "      <th>5082</th>\n",
       "      <td>155178_0</td>\n",
       "      <td>../data/openmic-2018/npy_audio/155/155178_0.npy</td>\n",
       "    </tr>\n",
       "    <tr>\n",
       "      <th>5083</th>\n",
       "      <td>155193_145920</td>\n",
       "      <td>../data/openmic-2018/npy_audio/155/155193_1459...</td>\n",
       "    </tr>\n",
       "    <tr>\n",
       "      <th>5084</th>\n",
       "      <td>155194_126720</td>\n",
       "      <td>../data/openmic-2018/npy_audio/155/155194_1267...</td>\n",
       "    </tr>\n",
       "  </tbody>\n",
       "</table>\n",
       "<p>5085 rows × 2 columns</p>\n",
       "</div>"
      ],
      "text/plain": [
       "         sample_key                                               path\n",
       "0       000178_3840  ../data/openmic-2018/npy_audio/000/000178_3840...\n",
       "1      000308_61440  ../data/openmic-2018/npy_audio/000/000308_6144...\n",
       "2     000312_184320  ../data/openmic-2018/npy_audio/000/000312_1843...\n",
       "3     000319_145920  ../data/openmic-2018/npy_audio/000/000319_1459...\n",
       "4     000321_218880  ../data/openmic-2018/npy_audio/000/000321_2188...\n",
       "...             ...                                                ...\n",
       "5080   155175_38400  ../data/openmic-2018/npy_audio/155/155175_3840...\n",
       "5081   155176_23040  ../data/openmic-2018/npy_audio/155/155176_2304...\n",
       "5082       155178_0    ../data/openmic-2018/npy_audio/155/155178_0.npy\n",
       "5083  155193_145920  ../data/openmic-2018/npy_audio/155/155193_1459...\n",
       "5084  155194_126720  ../data/openmic-2018/npy_audio/155/155194_1267...\n",
       "\n",
       "[5085 rows x 2 columns]"
      ]
     },
     "execution_count": 20,
     "metadata": {},
     "output_type": "execute_result"
    }
   ],
   "source": [
    "test_npy_df = pd.DataFrame({'path' : file_list})\n",
    "\n",
    "test_npy_df['sample_key'] = test_npy_df['path'].apply(get_sample_key)\n",
    "test_npy_df['path'] = test_npy_df['path'].apply(fix_path)\n",
    "test_npy_df = test_keys_df.merge(test_npy_df, on='sample_key', how='left')\n",
    "test_npy_df"
   ]
  },
  {
   "cell_type": "code",
   "execution_count": 23,
   "metadata": {},
   "outputs": [
    {
     "name": "stderr",
     "output_type": "stream",
     "text": [
      "100%|██████████| 14915/14915 [00:10<00:00, 1456.43it/s]\n"
     ]
    }
   ],
   "source": [
    "#train mfccs\n",
    "mfccs = []\n",
    "for file in tqdm(train_npy_df['path']):\n",
    "    mfccs.append(np.load(file, allow_pickle=True))\n",
    "    \n",
    "mfccs = np.hstack(mfccs)"
   ]
  },
  {
   "cell_type": "code",
   "execution_count": 21,
   "metadata": {},
   "outputs": [
    {
     "name": "stderr",
     "output_type": "stream",
     "text": [
      "100%|██████████| 5085/5085 [00:01<00:00, 3758.24it/s]\n"
     ]
    }
   ],
   "source": [
    "#test mfss\n",
    "mfccs_test = []\n",
    "for file in tqdm(test_npy_df['path']):\n",
    "    mfccs_test.append(np.load(file, allow_pickle=True))\n",
    "    \n",
    "mfccs_test = np.hstack(mfccs_test)"
   ]
  },
  {
   "cell_type": "code",
   "execution_count": 24,
   "metadata": {},
   "outputs": [],
   "source": [
    "train_set_mean = np.mean(mfccs, axis=1, keepdims=True)\n",
    "train_set_std = np.std(mfccs, axis=1, keepdims=True)"
   ]
  },
  {
   "cell_type": "code",
   "execution_count": 25,
   "metadata": {},
   "outputs": [
    {
     "name": "stderr",
     "output_type": "stream",
     "text": [
      "100%|██████████| 20000/20000 [00:13<00:00, 1445.64it/s]\n"
     ]
    }
   ],
   "source": [
    "# Glorot initialize all mfccs \n",
    "npy_file_list = [fix_path(x) for x in file_list]\n",
    "\n",
    "for file in tqdm(npy_file_list):\n",
    "    mfccs = np.load(file, allow_pickle=True)\n",
    "    mfccs = (mfccs-train_set_mean)/train_set_std\n",
    "    np.save(file, mfccs)"
   ]
  },
  {
   "cell_type": "code",
   "execution_count": 26,
   "metadata": {},
   "outputs": [
    {
     "name": "stderr",
     "output_type": "stream",
     "text": [
      "100%|██████████| 20000/20000 [00:15<00:00, 1286.86it/s]\n"
     ]
    }
   ],
   "source": [
    "# Glorot initialize all mfccs \n",
    "npy_file_list = [fix_path(x) for x in file_list]\n",
    "\n",
    "for file in tqdm(npy_file_list):\n",
    "    mfccs = np.load(file, allow_pickle=True)\n",
    "    mfccs = (mfccs-train_set_mean)/train_set_std\n",
    "    np.save(file, mfccs)"
   ]
  },
  {
   "cell_type": "code",
   "execution_count": 27,
   "metadata": {},
   "outputs": [
    {
     "name": "stderr",
     "output_type": "stream",
     "text": [
      "100%|██████████| 14915/14915 [00:04<00:00, 3229.99it/s]\n"
     ]
    }
   ],
   "source": [
    "mfccs_mean_std = []\n",
    "for file in tqdm(train_npy_df['path']):\n",
    "    mfccs_mean_std.append(np.load(file, allow_pickle=True))\n",
    "    \n",
    "mfccs_mean_std = np.array(mfccs_mean_std)"
   ]
  },
  {
   "cell_type": "code",
   "execution_count": 28,
   "metadata": {},
   "outputs": [
    {
     "name": "stderr",
     "output_type": "stream",
     "text": [
      "100%|██████████| 5085/5085 [00:01<00:00, 3063.04it/s]\n"
     ]
    }
   ],
   "source": [
    "test_mfccs_mean_std = []\n",
    "for file in tqdm(test_npy_df['path']):\n",
    "    test_mfccs_mean_std.append(np.load(file, allow_pickle=True))\n",
    "    \n",
    "test_mfccs_mean_std = np.array(test_mfccs_mean_std)"
   ]
  },
  {
   "cell_type": "code",
   "execution_count": 29,
   "metadata": {
    "scrolled": true
   },
   "outputs": [
    {
     "data": {
      "text/plain": [
       "(14915, 20, 157)"
      ]
     },
     "execution_count": 29,
     "metadata": {},
     "output_type": "execute_result"
    }
   ],
   "source": [
    "mfccs_mean_std.shape"
   ]
  },
  {
   "cell_type": "code",
   "execution_count": 30,
   "metadata": {},
   "outputs": [
    {
     "data": {
      "text/plain": [
       "(5085, 20, 157)"
      ]
     },
     "execution_count": 30,
     "metadata": {},
     "output_type": "execute_result"
    }
   ],
   "source": [
    "test_mfccs_mean_std.shape"
   ]
  },
  {
   "cell_type": "markdown",
   "metadata": {},
   "source": [
    "**Insert architecture here**"
   ]
  },
  {
   "cell_type": "code",
   "execution_count": 58,
   "metadata": {
    "scrolled": false
   },
   "outputs": [
    {
     "name": "stdout",
     "output_type": "stream",
     "text": [
      "Model: \"model_33\"\n",
      "__________________________________________________________________________________________________\n",
      "Layer (type)                    Output Shape         Param #     Connected to                     \n",
      "==================================================================================================\n",
      "vggish_input (InputLayer)       [(None, 10, 128)]    0                                            \n",
      "__________________________________________________________________________________________________\n",
      "mfcc_input (InputLayer)         [(None, 20, 157)]    0                                            \n",
      "__________________________________________________________________________________________________\n",
      "conv1d_15 (Conv1D)              (None, 9, 500)       128500      vggish_input[0][0]               \n",
      "__________________________________________________________________________________________________\n",
      "conv1d_18 (Conv1D)              (None, 19, 64)       20160       mfcc_input[0][0]                 \n",
      "__________________________________________________________________________________________________\n",
      "conv1d_16 (Conv1D)              (None, 8, 500)       500500      conv1d_15[0][0]                  \n",
      "__________________________________________________________________________________________________\n",
      "conv1d_19 (Conv1D)              (None, 18, 100)      12900       conv1d_18[0][0]                  \n",
      "__________________________________________________________________________________________________\n",
      "conv1d_17 (Conv1D)              (None, 7, 500)       500500      conv1d_16[0][0]                  \n",
      "__________________________________________________________________________________________________\n",
      "conv1d_20 (Conv1D)              (None, 17, 200)      40200       conv1d_19[0][0]                  \n",
      "__________________________________________________________________________________________________\n",
      "global_average_pooling1d_11 (Gl (None, 500)          0           conv1d_17[0][0]                  \n",
      "__________________________________________________________________________________________________\n",
      "global_variance_pooling1d_11 (G (None, 500)          0           conv1d_17[0][0]                  \n",
      "__________________________________________________________________________________________________\n",
      "global_average_pooling1d_12 (Gl (None, 200)          0           conv1d_20[0][0]                  \n",
      "__________________________________________________________________________________________________\n",
      "global_variance_pooling1d_12 (G (None, 200)          0           conv1d_20[0][0]                  \n",
      "__________________________________________________________________________________________________\n",
      "concatenate_17 (Concatenate)    (None, 1000)         0           global_average_pooling1d_11[0][0]\n",
      "                                                                 global_variance_pooling1d_11[0][0\n",
      "__________________________________________________________________________________________________\n",
      "concatenate_18 (Concatenate)    (None, 400)          0           global_average_pooling1d_12[0][0]\n",
      "                                                                 global_variance_pooling1d_12[0][0\n",
      "__________________________________________________________________________________________________\n",
      "dense_89 (Dense)                (None, 500)          500500      concatenate_17[0][0]             \n",
      "__________________________________________________________________________________________________\n",
      "dense_92 (Dense)                (None, 500)          200500      concatenate_18[0][0]             \n",
      "__________________________________________________________________________________________________\n",
      "dense_90 (Dense)                (None, 250)          125250      dense_89[0][0]                   \n",
      "__________________________________________________________________________________________________\n",
      "dense_93 (Dense)                (None, 250)          125250      dense_92[0][0]                   \n",
      "__________________________________________________________________________________________________\n",
      "dense_91 (Dense)                (None, 100)          25100       dense_90[0][0]                   \n",
      "__________________________________________________________________________________________________\n",
      "dense_94 (Dense)                (None, 100)          25100       dense_93[0][0]                   \n",
      "__________________________________________________________________________________________________\n",
      "concatenate_19 (Concatenate)    (None, 200)          0           dense_91[0][0]                   \n",
      "                                                                 dense_94[0][0]                   \n",
      "__________________________________________________________________________________________________\n",
      "dense_95 (Dense)                (None, 100)          20100       concatenate_19[0][0]             \n",
      "__________________________________________________________________________________________________\n",
      "dense_96 (Dense)                (None, 50)           5050        dense_95[0][0]                   \n",
      "__________________________________________________________________________________________________\n",
      "dense_97 (Dense)                (None, 20)           1020        dense_96[0][0]                   \n",
      "==================================================================================================\n",
      "Total params: 2,230,630\n",
      "Trainable params: 2,230,630\n",
      "Non-trainable params: 0\n",
      "__________________________________________________________________________________________________\n"
     ]
    },
    {
     "data": {
      "image/png": "[encoded data removed]",
      "text/plain": [
       "<IPython.core.display.Image object>"
      ]
     },
     "execution_count": 58,
     "metadata": {},
     "output_type": "execute_result"
    }
   ],
   "source": [
    "from tensorflow.keras.layers import Flatten, Dense, Input, Layer, GlobalAveragePooling1D, Conv1D, concatenate\n",
    "from tensorflow.keras.optimizers import Adam\n",
    "from tensorflow.keras.callbacks import ReduceLROnPlateau, ModelCheckpoint, EarlyStopping\n",
    "from tensorflow.keras import Model\n",
    "import tensorflow.keras.backend as K\n",
    "from tensorflow.keras.utils import plot_model\n",
    "import pydot\n",
    "import graphviz\n",
    "\n",
    "def create_nn():\n",
    "    inputs = Input(shape=(10, 128), name='vggish_input')\n",
    "    net = Flatten()(inputs)\n",
    "    net = Dense(500, activation='relu')(net)\n",
    "    net = Dense(250, activation='relu')(net)\n",
    "    net = Dense(100, activation='relu')(net)\n",
    "    \n",
    "    model = Model(inputs, net)\n",
    "\n",
    "    return model\n",
    "\n",
    "\n",
    "class GlobalVariancePooling1D(Layer):\n",
    "    def __init__(self, **kwargs):\n",
    "        super().__init__(**kwargs)\n",
    "        \n",
    "    def call(self, x):\n",
    "        return K.var(x, axis=1)\n",
    "    \n",
    "    \n",
    "def create_nn_x_vec():\n",
    "    inputs = Input(shape=(10, 128), name='vggish_input')\n",
    "    conv1 = Conv1D(filters=500, kernel_size=2, input_shape=(10,128))(inputs)\n",
    "    conv2 = Conv1D(filters=500, kernel_size=2)(conv1)\n",
    "    conv3 = Conv1D(filters=500, kernel_size=2)(conv2)\n",
    "    gap = GlobalAveragePooling1D()(conv3)\n",
    "    gvp = GlobalVariancePooling1D()(conv3)\n",
    "    net = concatenate([gap, gvp])\n",
    "    net = Dense(500, activation='relu')(net)\n",
    "    net = Dense(250, activation='relu')(net)\n",
    "    net = Dense(100, activation='relu')(net)\n",
    "    \n",
    "    \n",
    "    model = Model(inputs, net)\n",
    "    \n",
    "    return model\n",
    "\n",
    "\n",
    "def create_mfcc_nn():\n",
    "    inputs = Input(shape=(20, 157), name='mfcc_input')\n",
    "    conv1 = Conv1D(filters=64, kernel_size=2, input_shape=(20,157))(inputs)\n",
    "    conv2 = Conv1D(filters=100, kernel_size=2)(conv1)\n",
    "    conv3 = Conv1D(filters=200, kernel_size=2)(conv2)\n",
    "    gap = GlobalAveragePooling1D()(conv3)\n",
    "    gvp = GlobalVariancePooling1D()(conv3)\n",
    "    net = concatenate([gap, gvp])\n",
    "    net = Dense(500, activation='relu')(net)\n",
    "    net = Dense(250, activation='relu')(net)\n",
    "    net = Dense(100, activation='relu')(net)\n",
    "    \n",
    "    model = Model(inputs, net)\n",
    "    \n",
    "    \n",
    "    return model\n",
    "\n",
    "def create_multi_modal_nn():\n",
    "    m1 = create_nn_x_vec()\n",
    "    m2 = create_mfcc_nn()\n",
    "    \n",
    "    \n",
    "    net = tf.keras.layers.Concatenate()([m1.output, m2.output])\n",
    "    net = Dense(100, activation='relu')(net)\n",
    "    net = Dense(50, activation='relu')(net)\n",
    "    output = Dense(20, activation='linear')(net)\n",
    "    \n",
    "    model = Model(inputs=[m1.input, m2.input], outputs=[output])\n",
    "    \n",
    "    adam = Adam(1e-4)\n",
    "    model.compile(loss='mse', optimizer=adam, metrics=['mse', 'mae']) \n",
    "    \n",
    "    return model\n",
    "\n",
    "\n",
    "\n",
    "multi_modal_nn = create_multi_modal_nn()\n",
    "multi_modal_nn.summary()\n",
    "\n",
    "plot_model(multi_modal_nn)"
   ]
  },
  {
   "cell_type": "markdown",
   "metadata": {},
   "source": [
    "## Training"
   ]
  },
  {
   "cell_type": "code",
   "execution_count": 51,
   "metadata": {},
   "outputs": [],
   "source": [
    "# from tensorflow.data.Dataset import from_tensor_slices\n",
    "batch_size = 16\n",
    "\n",
    "# Convert to tf data\n",
    "train_dataset = tf.data.Dataset.from_tensor_slices(({'vggish_input':x_train,'mfcc_input':mfccs_mean_std,'xvec_input':x_train}, y_train)).cache().shuffle(100).batch(batch_size).repeat()\n",
    "test_dataset = tf.data.Dataset.from_tensor_slices(({'vggish_input':x_test,'mfcc_input':test_mfccs_mean_std,'xvec_input':x_test}, y_test)).cache().shuffle(100).batch(batch_size).repeat()"
   ]
  },
  {
   "cell_type": "code",
   "execution_count": 52,
   "metadata": {},
   "outputs": [
    {
     "data": {
      "text/plain": [
       "<RepeatDataset shapes: ({vggish_input: (None, 10, 128), mfcc_input: (None, 20, 157), xvec_input: (None, 10, 128)}, (None, 20)), types: ({vggish_input: tf.int64, mfcc_input: tf.float32, xvec_input: tf.int64}, tf.float64)>"
      ]
     },
     "execution_count": 52,
     "metadata": {},
     "output_type": "execute_result"
    }
   ],
   "source": [
    "train_dataset"
   ]
  },
  {
   "cell_type": "code",
   "execution_count": 53,
   "metadata": {},
   "outputs": [
    {
     "name": "stdout",
     "output_type": "stream",
     "text": [
      "Train for 933 steps, validate for 318 steps\n",
      "Epoch 1/1000\n",
      "933/933 [==============================] - 28s 30ms/step - loss: 1979.7090 - mse: 1981.4307 - mae: 12.3250 - val_loss: 2.0102 - val_mse: 2.0113 - val_mae: 0.6071\n",
      "Epoch 2/1000\n",
      "933/933 [==============================] - 25s 27ms/step - loss: 0.6474 - mse: 0.6477 - mae: 0.5272 - val_loss: 0.9489 - val_mse: 0.9493 - val_mae: 0.5317\n",
      "Epoch 3/1000\n",
      "933/933 [==============================] - 25s 27ms/step - loss: 0.3322 - mse: 0.3322 - mae: 0.4966 - val_loss: 0.6817 - val_mse: 0.6820 - val_mae: 0.5113\n",
      "Epoch 4/1000\n",
      "933/933 [==============================] - 25s 26ms/step - loss: 0.2695 - mse: 0.2695 - mae: 0.4852 - val_loss: 0.5722 - val_mse: 0.5724 - val_mae: 0.4980\n",
      "Epoch 5/1000\n",
      "933/933 [==============================] - 25s 26ms/step - loss: 0.2479 - mse: 0.2479 - mae: 0.4746 - val_loss: 0.5020 - val_mse: 0.5022 - val_mae: 0.4841\n",
      "Epoch 6/1000\n",
      "933/933 [==============================] - 25s 27ms/step - loss: 0.2312 - mse: 0.2312 - mae: 0.4605 - val_loss: 0.4694 - val_mse: 0.4696 - val_mae: 0.4669\n",
      "Epoch 7/1000\n",
      "933/933 [==============================] - 24s 26ms/step - loss: 0.2114 - mse: 0.2114 - mae: 0.4402 - val_loss: 0.4448 - val_mse: 0.4449 - val_mae: 0.4427\n",
      "Epoch 8/1000\n",
      "933/933 [==============================] - 25s 26ms/step - loss: 0.1855 - mse: 0.1855 - mae: 0.4116 - val_loss: 0.4016 - val_mse: 0.4017 - val_mae: 0.4085\n",
      "Epoch 9/1000\n",
      "933/933 [==============================] - 25s 26ms/step - loss: 0.1542 - mse: 0.1542 - mae: 0.3739 - val_loss: 0.3677 - val_mse: 0.3679 - val_mae: 0.3666\n",
      "Epoch 10/1000\n",
      "933/933 [==============================] - 25s 26ms/step - loss: 0.1206 - mse: 0.1206 - mae: 0.3283 - val_loss: 0.3344 - val_mse: 0.3346 - val_mae: 0.3182\n",
      "Epoch 11/1000\n",
      "933/933 [==============================] - 25s 26ms/step - loss: 0.0887 - mse: 0.0888 - mae: 0.2777 - val_loss: 0.3049 - val_mse: 0.3051 - val_mae: 0.2664\n",
      "Epoch 12/1000\n",
      "933/933 [==============================] - 25s 27ms/step - loss: 0.0622 - mse: 0.0622 - mae: 0.2256 - val_loss: 0.2820 - val_mse: 0.2822 - val_mae: 0.2149\n",
      "Epoch 13/1000\n",
      "933/933 [==============================] - 25s 26ms/step - loss: 0.0428 - mse: 0.0428 - mae: 0.1756 - val_loss: 0.2667 - val_mse: 0.2668 - val_mae: 0.1673\n",
      "Epoch 14/1000\n",
      "933/933 [==============================] - 25s 26ms/step - loss: 0.0307 - mse: 0.0307 - mae: 0.1312 - val_loss: 0.2581 - val_mse: 0.2582 - val_mae: 0.1271\n",
      "Epoch 15/1000\n",
      "933/933 [==============================] - 25s 26ms/step - loss: 0.0245 - mse: 0.0245 - mae: 0.0959 - val_loss: 0.2544 - val_mse: 0.2545 - val_mae: 0.0974\n",
      "Epoch 16/1000\n",
      "933/933 [==============================] - 25s 26ms/step - loss: 0.0220 - mse: 0.0220 - mae: 0.0724 - val_loss: 0.2532 - val_mse: 0.2533 - val_mae: 0.0810\n",
      "Epoch 17/1000\n",
      "933/933 [==============================] - 25s 26ms/step - loss: 0.0213 - mse: 0.0213 - mae: 0.0629 - val_loss: 0.2530 - val_mse: 0.2532 - val_mae: 0.0770\n",
      "Epoch 18/1000\n",
      "933/933 [==============================] - 25s 26ms/step - loss: 0.0212 - mse: 0.0212 - mae: 0.0607 - val_loss: 0.2530 - val_mse: 0.2532 - val_mae: 0.0757\n",
      "Epoch 19/1000\n",
      "933/933 [==============================] - 25s 27ms/step - loss: 0.0212 - mse: 0.0212 - mae: 0.0600 - val_loss: 0.2530 - val_mse: 0.2532 - val_mae: 0.0754\n",
      "Epoch 20/1000\n",
      "933/933 [==============================] - 25s 27ms/step - loss: 0.0212 - mse: 0.0212 - mae: 0.0598 - val_loss: 0.2530 - val_mse: 0.2532 - val_mae: 0.0753\n",
      "Epoch 21/1000\n",
      "933/933 [==============================] - 25s 27ms/step - loss: 0.0212 - mse: 0.0212 - mae: 0.0597 - val_loss: 0.2530 - val_mse: 0.2532 - val_mae: 0.0753\n",
      "Epoch 22/1000\n",
      "933/933 [==============================] - 25s 27ms/step - loss: 0.0212 - mse: 0.0212 - mae: 0.0597 - val_loss: 0.2530 - val_mse: 0.2532 - val_mae: 0.0753\n",
      "Epoch 23/1000\n",
      "933/933 [==============================] - 26s 27ms/step - loss: 0.0212 - mse: 0.0212 - mae: 0.0599 - val_loss: 0.2530 - val_mse: 0.2532 - val_mae: 0.0753\n",
      "Epoch 24/1000\n",
      "933/933 [==============================] - 25s 27ms/step - loss: 0.0212 - mse: 0.0212 - mae: 0.0599 - val_loss: 0.2530 - val_mse: 0.2532 - val_mae: 0.0752\n",
      "=====================================================================================================================\n",
      "Results:\n",
      "MSE: 0.25\tMAE: 0.075\n"
     ]
    }
   ],
   "source": [
    "\n",
    "callbacks = [\n",
    "    ModelCheckpoint(filepath='./models/multi.h5'),\n",
    "    ReduceLROnPlateau(monitor='val_loss', factor=.1, patience=5, min_lr=1e-6),\n",
    "    EarlyStopping(patience=7)\n",
    "]\n",
    "\n",
    "train_steps_per_epoch = len(x_train)//batch_size + int(len(x_train)%batch_size > 0)\n",
    "val_steps_per_epoch = len(x_test)//batch_size + int(len(x_test)%batch_size > 0)\n",
    "multi_modal_nn.fit(train_dataset, validation_data=test_dataset,\n",
    "                    epochs=1000, callbacks=callbacks,\n",
    "                    steps_per_epoch=train_steps_per_epoch,\n",
    "                    validation_steps=val_steps_per_epoch,\n",
    "                    verbose=1)\n",
    "\n",
    "print('='*117)\n",
    "print('Results:')\n",
    "\n",
    "_, mse, mae = multi_modal_nn.evaluate(test_dataset, steps=val_steps_per_epoch, verbose=0)\n",
    "print(f'MSE: {mse:.2f}\\tMAE: {mae:.3f}')"
   ]
  },
  {
   "cell_type": "code",
   "execution_count": 59,
   "metadata": {},
   "outputs": [
    {
     "name": "stdout",
     "output_type": "stream",
     "text": [
      "Model: \"model_35\"\n",
      "__________________________________________________________________________________________________\n",
      "Layer (type)                    Output Shape         Param #     Connected to                     \n",
      "==================================================================================================\n",
      "mfcc_input (InputLayer)         [(None, 20, 157)]    0                                            \n",
      "__________________________________________________________________________________________________\n",
      "conv1d_21 (Conv1D)              (None, 19, 64)       20160       mfcc_input[0][0]                 \n",
      "__________________________________________________________________________________________________\n",
      "conv1d_22 (Conv1D)              (None, 18, 100)      12900       conv1d_21[0][0]                  \n",
      "__________________________________________________________________________________________________\n",
      "conv1d_23 (Conv1D)              (None, 17, 200)      40200       conv1d_22[0][0]                  \n",
      "__________________________________________________________________________________________________\n",
      "global_average_pooling1d_13 (Gl (None, 200)          0           conv1d_23[0][0]                  \n",
      "__________________________________________________________________________________________________\n",
      "global_variance_pooling1d_13 (G (None, 200)          0           conv1d_23[0][0]                  \n",
      "__________________________________________________________________________________________________\n",
      "concatenate_20 (Concatenate)    (None, 400)          0           global_average_pooling1d_13[0][0]\n",
      "                                                                 global_variance_pooling1d_13[0][0\n",
      "__________________________________________________________________________________________________\n",
      "dense_98 (Dense)                (None, 500)          200500      concatenate_20[0][0]             \n",
      "__________________________________________________________________________________________________\n",
      "dense_99 (Dense)                (None, 250)          125250      dense_98[0][0]                   \n",
      "__________________________________________________________________________________________________\n",
      "dense_100 (Dense)               (None, 100)          25100       dense_99[0][0]                   \n",
      "__________________________________________________________________________________________________\n",
      "dense_101 (Dense)               (None, 50)           5050        dense_100[0][0]                  \n",
      "__________________________________________________________________________________________________\n",
      "dense_102 (Dense)               (None, 20)           1020        dense_101[0][0]                  \n",
      "==================================================================================================\n",
      "Total params: 430,180\n",
      "Trainable params: 430,180\n",
      "Non-trainable params: 0\n",
      "__________________________________________________________________________________________________\n"
     ]
    }
   ],
   "source": [
    "#plain mfcc network\n",
    "\n",
    "mfcc_model = create_mfcc_nn()\n",
    "\n",
    "net = Dense(50, activation='relu')(mfcc_model.output)\n",
    "output = Dense(20, activation='linear')(net)\n",
    "\n",
    "mfcc_nn = Model(mfcc_model.input, output)\n",
    "adam = Adam(1e-4)\n",
    "mfcc_nn.compile(loss='mse', optimizer=adam, metrics=['mse', 'mae']) \n",
    "\n",
    "mfcc_nn.summary()\n"
   ]
  },
  {
   "cell_type": "code",
   "execution_count": 60,
   "metadata": {},
   "outputs": [
    {
     "name": "stdout",
     "output_type": "stream",
     "text": [
      "Train for 933 steps, validate for 318 steps\n",
      "Epoch 1/1000\n",
      "933/933 [==============================] - 23s 25ms/step - loss: 0.0388 - mse: 0.0388 - mae: 0.1266 - val_loss: 0.0227 - val_mse: 0.0227 - val_mae: 0.0780\n",
      "Epoch 2/1000\n",
      "933/933 [==============================] - 26s 28ms/step - loss: 0.0218 - mse: 0.0218 - mae: 0.0747 - val_loss: 0.0217 - val_mse: 0.0217 - val_mae: 0.0719\n",
      "Epoch 3/1000\n",
      "933/933 [==============================] - 22s 24ms/step - loss: 0.0212 - mse: 0.0212 - mae: 0.0712 - val_loss: 0.0214 - val_mse: 0.0214 - val_mae: 0.0690\n",
      "Epoch 4/1000\n",
      "933/933 [==============================] - 21s 22ms/step - loss: 0.0209 - mse: 0.0209 - mae: 0.0703 - val_loss: 0.0213 - val_mse: 0.0213 - val_mae: 0.0695\n",
      "Epoch 5/1000\n",
      "933/933 [==============================] - 20s 22ms/step - loss: 0.0207 - mse: 0.0207 - mae: 0.0699 - val_loss: 0.0212 - val_mse: 0.0212 - val_mae: 0.0695\n",
      "Epoch 6/1000\n",
      "933/933 [==============================] - 20s 22ms/step - loss: 0.0205 - mse: 0.0205 - mae: 0.0698 - val_loss: 0.0212 - val_mse: 0.0212 - val_mae: 0.0703\n",
      "Epoch 7/1000\n",
      "933/933 [==============================] - 21s 22ms/step - loss: 0.0203 - mse: 0.0203 - mae: 0.0701 - val_loss: 0.0212 - val_mse: 0.0212 - val_mae: 0.0703\n",
      "Epoch 8/1000\n",
      "933/933 [==============================] - 21s 22ms/step - loss: 0.0201 - mse: 0.0201 - mae: 0.0702 - val_loss: 0.0214 - val_mse: 0.0214 - val_mae: 0.0718\n",
      "Epoch 9/1000\n",
      "933/933 [==============================] - 21s 22ms/step - loss: 0.0198 - mse: 0.0198 - mae: 0.0705 - val_loss: 0.0214 - val_mse: 0.0214 - val_mae: 0.0726\n",
      "Epoch 10/1000\n",
      "933/933 [==============================] - 20s 22ms/step - loss: 0.0196 - mse: 0.0196 - mae: 0.0710 - val_loss: 0.0216 - val_mse: 0.0216 - val_mae: 0.0734\n",
      "Epoch 11/1000\n",
      "933/933 [==============================] - 20s 22ms/step - loss: 0.0191 - mse: 0.0191 - mae: 0.0686 - val_loss: 0.0213 - val_mse: 0.0213 - val_mae: 0.0730\n",
      "Epoch 12/1000\n",
      "933/933 [==============================] - 20s 22ms/step - loss: 0.0189 - mse: 0.0189 - mae: 0.0688 - val_loss: 0.0214 - val_mse: 0.0214 - val_mae: 0.0735\n",
      "=====================================================================================================================\n",
      "Results:\n",
      "MSE: 0.02\tMAE: 0.074\n"
     ]
    }
   ],
   "source": [
    "callbacks = [\n",
    "    ModelCheckpoint(filepath='./models/mfcc_nn.h5'),\n",
    "    ReduceLROnPlateau(monitor='val_loss', factor=.1, patience=5, min_lr=1e-6),\n",
    "    EarlyStopping(patience=7)\n",
    "]\n",
    "\n",
    "train_steps_per_epoch = len(x_train)//batch_size + int(len(x_train)%batch_size > 0)\n",
    "val_steps_per_epoch = len(x_test)//batch_size + int(len(x_test)%batch_size > 0)\n",
    "mfcc_nn.fit(train_dataset, validation_data=test_dataset,\n",
    "                    epochs=1000, callbacks=callbacks,\n",
    "                    steps_per_epoch=train_steps_per_epoch,\n",
    "                    validation_steps=val_steps_per_epoch,\n",
    "                    verbose=1)\n",
    "\n",
    "print('='*117)\n",
    "print('Results:')\n",
    "\n",
    "_, mse, mae = mfcc_nn.evaluate(test_dataset, steps=val_steps_per_epoch, verbose=0)\n",
    "print(f'MSE: {mse:.2f}\\tMAE: {mae:.3f}')"
   ]
  },
  {
   "cell_type": "code",
   "execution_count": null,
   "metadata": {},
   "outputs": [],
   "source": [
    "\n"
   ]
  }
 ],
 "metadata": {
  "kernelspec": {
   "display_name": "Python 3",
   "language": "python",
   "name": "python3"
  },
  "language_info": {
   "codemirror_mode": {
    "name": "ipython",
    "version": 3
   },
   "file_extension": ".py",
   "mimetype": "text/x-python",
   "name": "python",
   "nbconvert_exporter": "python",
   "pygments_lexer": "ipython3",
   "version": "3.6.13"
  }
 },
 "nbformat": 4,
 "nbformat_minor": 5
}
